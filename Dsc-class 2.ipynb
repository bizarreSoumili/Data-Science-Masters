{
 "cells": [
  {
   "cell_type": "code",
   "execution_count": 1,
   "id": "bc22f5f7-1fcb-4a5b-960b-cbc95400f559",
   "metadata": {},
   "outputs": [
    {
     "name": "stdout",
     "output_type": "stream",
     "text": [
      "hello\n"
     ]
    }
   ],
   "source": [
    "print('hello')"
   ]
  },
  {
   "cell_type": "code",
   "execution_count": 2,
   "id": "4132bd98-6702-485c-93c8-005b99399001",
   "metadata": {},
   "outputs": [
    {
     "name": "stdout",
     "output_type": "stream",
     "text": [
      "123\n"
     ]
    }
   ],
   "source": [
    "print(123)\n"
   ]
  },
  {
   "cell_type": "code",
   "execution_count": 3,
   "id": "65774949-1c9b-4bb2-818a-e3a50c507104",
   "metadata": {},
   "outputs": [
    {
     "name": "stdout",
     "output_type": "stream",
     "text": [
      "hello\n"
     ]
    }
   ],
   "source": [
    "print(\"hello\")"
   ]
  },
  {
   "cell_type": "code",
   "execution_count": 4,
   "id": "fe840e42-2847-42f2-add8-b46459b0ba64",
   "metadata": {},
   "outputs": [
    {
     "name": "stdout",
     "output_type": "stream",
     "text": [
      "my age is: 20\n"
     ]
    }
   ],
   "source": [
    "age=20\n",
    "print(\"my age is:\",age)"
   ]
  },
  {
   "cell_type": "code",
   "execution_count": 6,
   "id": "4d53ba92-ddcd-4a1d-8cfc-7e0a22423f94",
   "metadata": {},
   "outputs": [
    {
     "name": "stdout",
     "output_type": "stream",
     "text": [
      "my age is: {age}\n"
     ]
    }
   ],
   "source": [
    "age=20\n",
    "print(\"my age is: {age}\")"
   ]
  },
  {
   "cell_type": "code",
   "execution_count": 7,
   "id": "0e5dae06-e114-44ff-bda3-996cd7365432",
   "metadata": {},
   "outputs": [
    {
     "name": "stdout",
     "output_type": "stream",
     "text": [
      "my age is: 20\n"
     ]
    }
   ],
   "source": [
    "## f string\n",
    "age=20\n",
    "print(f\"my age is: {age}\")"
   ]
  },
  {
   "cell_type": "code",
   "execution_count": 2,
   "id": "fd9f6b74-99f1-4abd-b187-a0786d5330d3",
   "metadata": {},
   "outputs": [
    {
     "name": "stdout",
     "output_type": "stream",
     "text": [
      "My name is Soumili and my age is 20\n"
     ]
    }
   ],
   "source": [
    "## format\n",
    "name=\"Soumili\"\n",
    "age=20\n",
    "print(\"My name is {} and my age is {}\".format(name, age))"
   ]
  },
  {
   "cell_type": "code",
   "execution_count": 4,
   "id": "556a830a-0e94-457d-b19e-255251163e5b",
   "metadata": {},
   "outputs": [
    {
     "name": "stdout",
     "output_type": "stream",
     "text": [
      "My name is Soumili and my age is 20\n"
     ]
    }
   ],
   "source": [
    "## placeholder\n",
    "print(\"My name is {firstname} and my age is {ageasofnow}\".format(firstname=name, ageasofnow=age))"
   ]
  },
  {
   "cell_type": "code",
   "execution_count": 3,
   "id": "33cc6fbb-3d12-40b9-8684-fa1c18203a62",
   "metadata": {},
   "outputs": [
    {
     "name": "stdout",
     "output_type": "stream",
     "text": [
      "My age is 20 and i have completed my BE with the name of Soumili\n"
     ]
    }
   ],
   "source": [
    "name=\"Soumili\"\n",
    "age=20\n",
    "degree=\"BE\"\n",
    "print(\"My age is {} and i have completed my {} with the name of {}\".format(age, degree, name))"
   ]
  },
  {
   "cell_type": "code",
   "execution_count": null,
   "id": "213df502-35b4-484c-8eef-baf353b2a0ea",
   "metadata": {},
   "outputs": [],
   "source": [
    "print(f\"My age is {age} and i have completed my {degree} with the name of {name}\")"
   ]
  },
  {
   "cell_type": "code",
   "execution_count": 6,
   "id": "6b649bc4-ec30-4544-8a3a-791e65bfbc51",
   "metadata": {},
   "outputs": [
    {
     "name": "stdout",
     "output_type": "stream",
     "text": [
      "My age is {} and i have completed my {} with the name of {} 20 BE Soumili\n"
     ]
    }
   ],
   "source": [
    "print(\"My age is {} and i have completed my {} with the name of {}\", age, degree, name)"
   ]
  },
  {
   "cell_type": "markdown",
   "id": "a046cafb-56c8-4c37-a602-cac93935f9b3",
   "metadata": {},
   "source": [
    "## Control Flow\n",
    "### Decision making statements"
   ]
  },
  {
   "cell_type": "code",
   "execution_count": 7,
   "id": "f7460508-1582-46c3-ad90-2cdf7aea228d",
   "metadata": {},
   "outputs": [
    {
     "name": "stdout",
     "output_type": "stream",
     "text": [
      "You are eligible to vote\n"
     ]
    }
   ],
   "source": [
    "## if statement\n",
    "age=20\n",
    "if age>=18:\n",
    "    print(\"You are eligible to vote\")"
   ]
  },
  {
   "cell_type": "code",
   "execution_count": 1,
   "id": "29346d98-3358-4a5c-a533-aa37f8bb06ce",
   "metadata": {},
   "outputs": [
    {
     "name": "stdin",
     "output_type": "stream",
     "text": [
      " 32\n"
     ]
    },
    {
     "data": {
      "text/plain": [
       "'32'"
      ]
     },
     "execution_count": 1,
     "metadata": {},
     "output_type": "execute_result"
    }
   ],
   "source": [
    "input()"
   ]
  },
  {
   "cell_type": "code",
   "execution_count": 2,
   "id": "52931c3b-ca01-4939-aca2-beef63400df1",
   "metadata": {},
   "outputs": [
    {
     "name": "stdin",
     "output_type": "stream",
     "text": [
      "Enter your name soumili\n"
     ]
    }
   ],
   "source": [
    "name=input(\"Enter your name\")"
   ]
  },
  {
   "cell_type": "code",
   "execution_count": 3,
   "id": "a9d4b398-c200-4436-8bf5-fbb571ae924e",
   "metadata": {},
   "outputs": [
    {
     "data": {
      "text/plain": [
       "'soumili'"
      ]
     },
     "execution_count": 3,
     "metadata": {},
     "output_type": "execute_result"
    }
   ],
   "source": [
    "name"
   ]
  },
  {
   "cell_type": "code",
   "execution_count": 4,
   "id": "44537909-c2cb-4cb2-bb69-3ec5c15c32fb",
   "metadata": {},
   "outputs": [
    {
     "name": "stdin",
     "output_type": "stream",
     "text": [
      "Enter your age 20\n"
     ]
    }
   ],
   "source": [
    "age=input(\"Enter your age\")"
   ]
  },
  {
   "cell_type": "code",
   "execution_count": 5,
   "id": "891c0c28-1066-4f91-9e62-d9b2fe49fdb4",
   "metadata": {},
   "outputs": [
    {
     "data": {
      "text/plain": [
       "'20'"
      ]
     },
     "execution_count": 5,
     "metadata": {},
     "output_type": "execute_result"
    }
   ],
   "source": [
    "age"
   ]
  },
  {
   "cell_type": "code",
   "execution_count": 6,
   "id": "1a888bf4-3cc3-4df9-8cee-6bdf2c12bdf4",
   "metadata": {},
   "outputs": [
    {
     "data": {
      "text/plain": [
       "str"
      ]
     },
     "execution_count": 6,
     "metadata": {},
     "output_type": "execute_result"
    }
   ],
   "source": [
    "type(age)"
   ]
  },
  {
   "cell_type": "code",
   "execution_count": 7,
   "id": "8558546e-e483-4d1c-a486-de8d34ff7253",
   "metadata": {},
   "outputs": [
    {
     "name": "stdin",
     "output_type": "stream",
     "text": [
      "Enter your age 32\n"
     ]
    }
   ],
   "source": [
    "age=int(input(\"Enter your age\"))"
   ]
  },
  {
   "cell_type": "code",
   "execution_count": 8,
   "id": "69c0ae9b-45f5-49d1-903b-5a5548531bd2",
   "metadata": {},
   "outputs": [
    {
     "data": {
      "text/plain": [
       "32"
      ]
     },
     "execution_count": 8,
     "metadata": {},
     "output_type": "execute_result"
    }
   ],
   "source": [
    "age"
   ]
  },
  {
   "cell_type": "code",
   "execution_count": 9,
   "id": "f2cdad19-92ac-49ae-81ca-359b9d39293e",
   "metadata": {},
   "outputs": [
    {
     "data": {
      "text/plain": [
       "int"
      ]
     },
     "execution_count": 9,
     "metadata": {},
     "output_type": "execute_result"
    }
   ],
   "source": [
    "type(age)"
   ]
  },
  {
   "cell_type": "code",
   "execution_count": 10,
   "id": "62c3e762-e2ff-439a-901e-33de49d3ec5e",
   "metadata": {},
   "outputs": [],
   "source": [
    "##task\n",
    "##take input of age\n",
    "## check whether age>=18 and age<=45\n",
    "## display you are youmg blood"
   ]
  },
  {
   "cell_type": "code",
   "execution_count": 13,
   "id": "62b0d192-6203-41a3-b5bb-333b32ef33dc",
   "metadata": {},
   "outputs": [
    {
     "name": "stdin",
     "output_type": "stream",
     "text": [
      "Enter your age 20\n"
     ]
    },
    {
     "name": "stdout",
     "output_type": "stream",
     "text": [
      "You are young blood\n"
     ]
    }
   ],
   "source": [
    "age=int(input(\"Enter your age\"))\n",
    "if (age>=18 and age<=45):\n",
    "    print(\"You are young blood\")"
   ]
  },
  {
   "cell_type": "code",
   "execution_count": 1,
   "id": "312a5edc-b54b-4b8e-a34e-fbb2053ba9ee",
   "metadata": {},
   "outputs": [],
   "source": [
    "## input the product price\n",
    "## price>1000 30% discount\n",
    "## print the product price\n",
    "## price<=1000 20% discount\n",
    "## print the product price"
   ]
  },
  {
   "cell_type": "code",
   "execution_count": 1,
   "id": "dcb341f2-aa3e-4ee0-8815-450ba93254b3",
   "metadata": {},
   "outputs": [
    {
     "name": "stdin",
     "output_type": "stream",
     "text": [
      "Enter the product price 2300\n"
     ]
    },
    {
     "name": "stdout",
     "output_type": "stream",
     "text": [
      "1610.0\n"
     ]
    }
   ],
   "source": [
    "p=int(input(\"Enter the product price\"))\n",
    "if p<=1000:\n",
    "    d=20/100*p\n",
    "else:\n",
    "    d=30/100*p\n",
    "a=p-d\n",
    "print(a)"
   ]
  },
  {
   "cell_type": "code",
   "execution_count": 2,
   "id": "ec1e767d-a81f-4ae9-86b3-c4e276c2bab7",
   "metadata": {},
   "outputs": [
    {
     "name": "stdin",
     "output_type": "stream",
     "text": [
      "Enter the no 500\n"
     ]
    },
    {
     "name": "stdout",
     "output_type": "stream",
     "text": [
      "Value is less than equal to 999\n"
     ]
    }
   ],
   "source": [
    "## single statement\n",
    "val=int(input('Enter the no'))\n",
    "if val<=999:\n",
    "    print (\"Value is less than equal to 999\")"
   ]
  },
  {
   "cell_type": "markdown",
   "id": "bb841c3d-b349-4108-9ae2-0d053b805230",
   "metadata": {},
   "source": [
    "## Loop statements\n",
    "\n",
    "1. while loop\n",
    "2. for loop\n",
    "3. nested loop\n",
    "4. loop controls"
   ]
  },
  {
   "cell_type": "code",
   "execution_count": 3,
   "id": "46ef869b-945c-4ba8-896e-7b876868fff9",
   "metadata": {},
   "outputs": [
    {
     "name": "stdout",
     "output_type": "stream",
     "text": [
      "25\n",
      "26\n",
      "27\n",
      "28\n",
      "29\n",
      "30\n",
      "31\n",
      "32\n",
      "33\n",
      "34\n",
      "35\n",
      "36\n",
      "37\n",
      "38\n",
      "39\n",
      "40\n",
      "41\n",
      "42\n",
      "43\n",
      "44\n",
      "45\n",
      "46\n",
      "47\n",
      "48\n",
      "49\n",
      "50\n",
      "51\n",
      "52\n",
      "53\n",
      "54\n",
      "55\n",
      "56\n",
      "57\n",
      "58\n",
      "59\n",
      "60\n",
      "Its time for retirement\n"
     ]
    }
   ],
   "source": [
    "## while loop or while-else loop\n",
    "\n",
    "jage=25\n",
    "while jage<=60:\n",
    "    print(jage)\n",
    "    jage=jage+1\n",
    "else:\n",
    "    print(\"Its time for retirement\")"
   ]
  },
  {
   "cell_type": "markdown",
   "id": "37304988-43d2-4b59-8c95-f92191dcdd08",
   "metadata": {},
   "source": [
    "## For loop"
   ]
  },
  {
   "cell_type": "code",
   "execution_count": 4,
   "id": "7ae1149a-6531-4f39-81c6-bc3b09fef46e",
   "metadata": {},
   "outputs": [],
   "source": [
    "fst=[\"krish\", 1,2,3,4,\"soumili\"]"
   ]
  },
  {
   "cell_type": "code",
   "execution_count": 5,
   "id": "c8cac663-3c7d-4a4d-a1bb-252b24228461",
   "metadata": {},
   "outputs": [
    {
     "data": {
      "text/plain": [
       "list"
      ]
     },
     "execution_count": 5,
     "metadata": {},
     "output_type": "execute_result"
    }
   ],
   "source": [
    "type(fst)"
   ]
  },
  {
   "cell_type": "code",
   "execution_count": 6,
   "id": "29e44aa1-5d32-4140-93a0-a3fec138d2bd",
   "metadata": {},
   "outputs": [
    {
     "name": "stdout",
     "output_type": "stream",
     "text": [
      "krish\n",
      "1\n",
      "2\n",
      "3\n",
      "4\n",
      "soumili\n"
     ]
    }
   ],
   "source": [
    "for a in fst:\n",
    "    print(a)"
   ]
  },
  {
   "cell_type": "code",
   "execution_count": 2,
   "id": "80d0624e-6494-4146-a3ad-735f0e979c53",
   "metadata": {},
   "outputs": [],
   "source": [
    "fruits_list=[ \"apple\", \"grapes\", \"banana\", \"mango\", \"litchi\"]"
   ]
  },
  {
   "cell_type": "code",
   "execution_count": 2,
   "id": "2ef82349-1559-4c6c-a7f2-e27e308386bb",
   "metadata": {},
   "outputs": [
    {
     "name": "stdout",
     "output_type": "stream",
     "text": [
      "apple\n",
      "grapes\n",
      "The grapes are sweet\n",
      "banana\n",
      "mango\n",
      "litchi\n"
     ]
    }
   ],
   "source": [
    "for a in fruits_list:\n",
    "    print(a)\n",
    "    if a==\"grapes\":\n",
    "        print(\"The grapes are sweet\")"
   ]
  },
  {
   "cell_type": "code",
   "execution_count": 6,
   "id": "8a8c1d7a-2b5d-4e0e-972a-8f8038a37ad2",
   "metadata": {},
   "outputs": [
    {
     "name": "stdout",
     "output_type": "stream",
     "text": [
      "apple grapes \n",
      "The grapes are sweet\n",
      "banana mango litchi "
     ]
    }
   ],
   "source": [
    "## changing the format of predefined print to print together in a single line\n",
    "for a in fruits_list:\n",
    "    print(a, end=' ')\n",
    "    if a==\"grapes\":\n",
    "        print(\"\\nThe grapes are sweet\")"
   ]
  },
  {
   "cell_type": "code",
   "execution_count": 3,
   "id": "b9e3eef6-ef2c-4d0a-8a70-8ea8a0a10ed9",
   "metadata": {},
   "outputs": [
    {
     "name": "stdout",
     "output_type": "stream",
     "text": [
      "apple grapes \n",
      "The grapes are sweet\n"
     ]
    }
   ],
   "source": [
    "## changing the format of predefined print to print together in a single line and using BREAK statement\n",
    "for a in fruits_list:\n",
    "    print(a, end=' ')\n",
    "    if a==\"grapes\":\n",
    "        print(\"\\nThe grapes are sweet\")\n",
    "        break"
   ]
  },
  {
   "cell_type": "code",
   "execution_count": 4,
   "id": "6dd8f361-a169-477d-8627-9ef0a8debe59",
   "metadata": {},
   "outputs": [
    {
     "name": "stdout",
     "output_type": "stream",
     "text": [
      "m\n",
      "a\n",
      "n\n",
      "g\n",
      "o\n"
     ]
    }
   ],
   "source": [
    "fruit='mango'\n",
    "for a in fruit:\n",
    "    print(a)"
   ]
  },
  {
   "cell_type": "code",
   "execution_count": 6,
   "id": "beebd8a3-6ee6-4f4a-b0e4-d6ed8cc40480",
   "metadata": {},
   "outputs": [
    {
     "data": {
      "text/plain": [
       "'m'"
      ]
     },
     "execution_count": 6,
     "metadata": {},
     "output_type": "execute_result"
    }
   ],
   "source": [
    "fruit[0]"
   ]
  },
  {
   "cell_type": "code",
   "execution_count": 1,
   "id": "7ce3f06f-ef1a-4952-aee7-9225d94b9293",
   "metadata": {},
   "outputs": [
    {
     "name": "stdout",
     "output_type": "stream",
     "text": [
      "m a n g o "
     ]
    }
   ],
   "source": [
    "fruit='mango'\n",
    "for a in fruit:\n",
    "    print(a, end=' ')"
   ]
  },
  {
   "cell_type": "code",
   "execution_count": 2,
   "id": "5f68d9c9-7342-45ed-b4b3-0b8d8c6673e2",
   "metadata": {},
   "outputs": [
    {
     "data": {
      "text/plain": [
       "range(1, 6)"
      ]
     },
     "execution_count": 2,
     "metadata": {},
     "output_type": "execute_result"
    }
   ],
   "source": [
    "range(1,6)"
   ]
  },
  {
   "cell_type": "code",
   "execution_count": 6,
   "id": "6df37dcc-0b3d-4c2d-ae59-861161057dbf",
   "metadata": {},
   "outputs": [
    {
     "name": "stdout",
     "output_type": "stream",
     "text": [
      "1\n",
      "2\n",
      "3\n",
      "4\n",
      "5\n"
     ]
    }
   ],
   "source": [
    "for i in range(1,6):\n",
    "    print(i)"
   ]
  },
  {
   "cell_type": "code",
   "execution_count": 7,
   "id": "10bbee4b-af69-4f19-b406-2792418c5cff",
   "metadata": {},
   "outputs": [
    {
     "name": "stdout",
     "output_type": "stream",
     "text": [
      "1\n",
      "3\n",
      "5\n"
     ]
    }
   ],
   "source": [
    "for i in range(1,6,2):\n",
    "    print(i)"
   ]
  },
  {
   "cell_type": "code",
   "execution_count": 8,
   "id": "f53fcff8-0a04-4e25-ace0-b1695924289f",
   "metadata": {},
   "outputs": [
    {
     "name": "stdout",
     "output_type": "stream",
     "text": [
      "1\n",
      "4\n"
     ]
    }
   ],
   "source": [
    "for i in range(1,6,3):\n",
    "    print(i)"
   ]
  },
  {
   "cell_type": "code",
   "execution_count": 9,
   "id": "cb2a865c-8523-4345-a6f0-450bfd57e823",
   "metadata": {},
   "outputs": [
    {
     "name": "stdout",
     "output_type": "stream",
     "text": [
      "1\n",
      "5\n"
     ]
    }
   ],
   "source": [
    "for i in range(1,6,4):\n",
    "    print(i)"
   ]
  },
  {
   "cell_type": "code",
   "execution_count": 19,
   "id": "b3204e1c-470d-4483-8c9e-1e34a7311e17",
   "metadata": {},
   "outputs": [
    {
     "name": "stdout",
     "output_type": "stream",
     "text": [
      "*^\n",
      "**^\n",
      "***^\n",
      "****^\n",
      "*****^\n"
     ]
    }
   ],
   "source": [
    "### Nested loops\n",
    "n=5\n",
    "\n",
    "for i in range(0, n):\n",
    "    for j in range(0, i+1):\n",
    "        print(\"*\", end=\"\")\n",
    "    print(\"^\")"
   ]
  },
  {
   "cell_type": "code",
   "execution_count": 23,
   "id": "ca3da4f8-0a54-44a7-a6e7-b9bf98ab1199",
   "metadata": {},
   "outputs": [
    {
     "name": "stdout",
     "output_type": "stream",
     "text": [
      "*6\n",
      "*"
     ]
    }
   ],
   "source": [
    "print(\"*\",end=\"\")\n",
    "print(\"6\")\n",
    "print(\"*\",end=\"\")"
   ]
  },
  {
   "cell_type": "code",
   "execution_count": 17,
   "id": "e6436e20-7176-4187-a480-3b5112ea941c",
   "metadata": {},
   "outputs": [
    {
     "name": "stdout",
     "output_type": "stream",
     "text": [
      "*\n",
      "**\n",
      "***\n",
      "****\n",
      "*****\n"
     ]
    }
   ],
   "source": [
    "### Nested loops\n",
    "n=5\n",
    "\n",
    "for i in range(0, n):\n",
    "    for j in range(0, i+1):\n",
    "        print(\"*\", end=\"\")\n",
    "    print(\"\\r\")"
   ]
  },
  {
   "cell_type": "code",
   "execution_count": 11,
   "id": "c6fdeb1f-96d9-4d4b-8b45-66a4352ee9f9",
   "metadata": {},
   "outputs": [
    {
     "name": "stdout",
     "output_type": "stream",
     "text": [
      "*\n",
      "\n",
      "**\n",
      "\n",
      "***\n",
      "\n",
      "****\n",
      "\n",
      "*****\n",
      "\n"
     ]
    }
   ],
   "source": [
    "### Nested loops\n",
    "n=5\n",
    "\n",
    "for i in range(0, n):\n",
    "    for j in range(0, i+1):\n",
    "        print(\"*\", end=\"\")\n",
    "    print(\"\\n\")"
   ]
  },
  {
   "cell_type": "code",
   "execution_count": 6,
   "id": "3c65384a-19fc-430b-9ab8-b90ecbd2c23c",
   "metadata": {},
   "outputs": [
    {
     "name": "stdout",
     "output_type": "stream",
     "text": [
      "s\n",
      "d\n"
     ]
    }
   ],
   "source": [
    "print(\"s\\r\")\n",
    "print(\"d\")"
   ]
  },
  {
   "cell_type": "code",
   "execution_count": 7,
   "id": "5564c335-61e3-4875-b219-309bd0fc3022",
   "metadata": {},
   "outputs": [
    {
     "name": "stdout",
     "output_type": "stream",
     "text": [
      "s\n",
      "\n",
      "d\n"
     ]
    }
   ],
   "source": [
    "print(\"s\\n\")\n",
    "print(\"d\")"
   ]
  },
  {
   "cell_type": "code",
   "execution_count": 10,
   "id": "d48ba79f-34e8-4e18-a203-1faa119d1f67",
   "metadata": {},
   "outputs": [
    {
     "name": "stdout",
     "output_type": "stream",
     "text": [
      "s\n",
      "\n",
      "d\n",
      "E\n"
     ]
    }
   ],
   "source": [
    "print(\"s\")\n",
    "print(\"\\r\")\n",
    "print(\"d\")\n",
    "print(\"E\")"
   ]
  },
  {
   "cell_type": "code",
   "execution_count": 11,
   "id": "df7a0fd8-6180-4d8c-acff-b537d4c8963b",
   "metadata": {},
   "outputs": [
    {
     "name": "stdout",
     "output_type": "stream",
     "text": [
      "s\n",
      "\n",
      "\n",
      "d\n",
      "E\n"
     ]
    }
   ],
   "source": [
    "print(\"s\")\n",
    "print(\"\\n\")\n",
    "print(\"d\")\n",
    "print(\"E\")"
   ]
  },
  {
   "cell_type": "code",
   "execution_count": 12,
   "id": "a68315ce-f981-4b3a-9b2a-596b3ad65e2b",
   "metadata": {},
   "outputs": [
    {
     "name": "stdout",
     "output_type": "stream",
     "text": [
      "s\n",
      "d\n",
      "E\n"
     ]
    }
   ],
   "source": [
    "print(\"s\", end=\"\")\n",
    "print(\"\\r\")\n",
    "print(\"d\")\n",
    "print(\"E\")"
   ]
  },
  {
   "cell_type": "code",
   "execution_count": 15,
   "id": "b737eecf-015b-4cfa-b066-f172b6d86178",
   "metadata": {},
   "outputs": [
    {
     "name": "stdout",
     "output_type": "stream",
     "text": [
      "s\n",
      "c\n",
      "d\n",
      "E\n"
     ]
    }
   ],
   "source": [
    "print(\"s\")\n",
    "print(\"\\rc\")\n",
    "print(\"d\")\n",
    "print(\"E\")"
   ]
  },
  {
   "cell_type": "code",
   "execution_count": 16,
   "id": "e63e0c2b-829b-41e6-89be-92f96837fa64",
   "metadata": {},
   "outputs": [
    {
     "name": "stdout",
     "output_type": "stream",
     "text": [
      "sb\n",
      "d\n",
      "E\n"
     ]
    }
   ],
   "source": [
    "print(\"s\", end=\"\")\n",
    "print(\"b\\r\")\n",
    "print(\"d\")\n",
    "print(\"E\")"
   ]
  },
  {
   "cell_type": "code",
   "execution_count": 17,
   "id": "387efaf2-a6eb-448a-9e19-38f6e94e5877",
   "metadata": {},
   "outputs": [
    {
     "name": "stdout",
     "output_type": "stream",
     "text": [
      "cb\n",
      "d\n",
      "E\n"
     ]
    }
   ],
   "source": [
    "print(\"s\", end=\"\")\n",
    "print(\"b\\rc\")\n",
    "print(\"d\")\n",
    "print(\"E\")"
   ]
  },
  {
   "cell_type": "code",
   "execution_count": 20,
   "id": "c63aad28-5d6c-4e76-9dbb-6221c82ae4e6",
   "metadata": {},
   "outputs": [],
   "source": [
    "##Loop controls\n",
    "##break and continue\n",
    "\n",
    "fruits_list=[\"Mango\",\"Cherry\",\"Apple\",\"Papaya\",\"Banana\"]"
   ]
  },
  {
   "cell_type": "code",
   "execution_count": 21,
   "id": "b2c8978a-417b-4b10-817e-fafc808dc10e",
   "metadata": {},
   "outputs": [
    {
     "name": "stdout",
     "output_type": "stream",
     "text": [
      "Mango\n",
      "Cherry\n",
      "the fruit is apple\n"
     ]
    }
   ],
   "source": [
    "for i in fruits_list:\n",
    "    if i==\"Apple\":\n",
    "        print(\"the fruit is apple\")\n",
    "        break\n",
    "    print(i)"
   ]
  },
  {
   "cell_type": "code",
   "execution_count": 22,
   "id": "ab5df630-82bb-4c87-bcf3-76006efea377",
   "metadata": {},
   "outputs": [
    {
     "name": "stdout",
     "output_type": "stream",
     "text": [
      "Mango\n",
      "Cherry\n",
      "the fruit is apple\n",
      "Apple\n",
      "Papaya\n",
      "Banana\n"
     ]
    }
   ],
   "source": [
    "for i in fruits_list:\n",
    "    if i==\"Apple\":\n",
    "        print(\"the fruit is apple\")\n",
    "        pass\n",
    "    print(i)"
   ]
  },
  {
   "cell_type": "code",
   "execution_count": 23,
   "id": "49dc6281-361a-4767-9a6b-4ee49a97bd86",
   "metadata": {},
   "outputs": [
    {
     "name": "stdout",
     "output_type": "stream",
     "text": [
      "Mango\n",
      "Cherry\n",
      "the fruit is apple\n",
      "Papaya\n",
      "Banana\n"
     ]
    }
   ],
   "source": [
    "for i in fruits_list:\n",
    "    if i==\"Apple\":\n",
    "        print(\"the fruit is apple\")\n",
    "        continue\n",
    "    print(i)"
   ]
  },
  {
   "cell_type": "code",
   "execution_count": null,
   "id": "74727b10-1033-4378-ba06-f8a5b659c652",
   "metadata": {},
   "outputs": [],
   "source": []
  }
 ],
 "metadata": {
  "kernelspec": {
   "display_name": "Python 3 (ipykernel)",
   "language": "python",
   "name": "python3"
  },
  "language_info": {
   "codemirror_mode": {
    "name": "ipython",
    "version": 3
   },
   "file_extension": ".py",
   "mimetype": "text/x-python",
   "name": "python",
   "nbconvert_exporter": "python",
   "pygments_lexer": "ipython3",
   "version": "3.10.8"
  }
 },
 "nbformat": 4,
 "nbformat_minor": 5
}
