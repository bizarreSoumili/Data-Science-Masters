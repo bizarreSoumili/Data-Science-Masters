{
 "cells": [
  {
   "cell_type": "markdown",
   "id": "831e164b-07e3-42a5-a54e-4622e100495e",
   "metadata": {
    "tags": []
   },
   "source": [
    "## LIST                              \n",
    "######                                                                    1 Hr 22 min"
   ]
  },
  {
   "cell_type": "code",
   "execution_count": 4,
   "id": "b4a82260-6890-4e5d-b61b-053e2866f75d",
   "metadata": {},
   "outputs": [
    {
     "data": {
      "text/plain": [
       "list"
      ]
     },
     "execution_count": 4,
     "metadata": {},
     "output_type": "execute_result"
    }
   ],
   "source": [
    "type([])"
   ]
  },
  {
   "cell_type": "code",
   "execution_count": 7,
   "id": "7bfc4d5b-b831-4693-95b9-3c220afce902",
   "metadata": {},
   "outputs": [
    {
     "data": {
      "text/plain": [
       "['s', 'a', 'f']"
      ]
     },
     "execution_count": 7,
     "metadata": {},
     "output_type": "execute_result"
    }
   ],
   "source": [
    "[\"s\",\"a\",\"f\"]"
   ]
  },
  {
   "cell_type": "code",
   "execution_count": 11,
   "id": "48f411bb-9f27-4acd-b496-61ea9be218f3",
   "metadata": {},
   "outputs": [
    {
     "data": {
      "text/plain": [
       "['s', 'a', 'f']"
      ]
     },
     "execution_count": 11,
     "metadata": {},
     "output_type": "execute_result"
    }
   ],
   "source": [
    "list([\"s\",\"a\",\"f\"])"
   ]
  },
  {
   "cell_type": "code",
   "execution_count": 10,
   "id": "1344e369-19ea-42e4-ad60-b9381b195992",
   "metadata": {},
   "outputs": [
    {
     "data": {
      "text/plain": [
       "[1, 2, 3]"
      ]
     },
     "execution_count": 10,
     "metadata": {},
     "output_type": "execute_result"
    }
   ],
   "source": [
    "list([1,2,3])"
   ]
  },
  {
   "cell_type": "code",
   "execution_count": 4,
   "id": "f8b180bd-66a6-483c-bb61-10f1c045033c",
   "metadata": {},
   "outputs": [],
   "source": [
    "a=\"ab c de\""
   ]
  },
  {
   "cell_type": "code",
   "execution_count": 5,
   "id": "345e57cd-3043-4781-8941-9b68bf441614",
   "metadata": {},
   "outputs": [
    {
     "data": {
      "text/plain": [
       "['a', 'b', ' ', 'c', ' ', 'd', 'e']"
      ]
     },
     "execution_count": 5,
     "metadata": {},
     "output_type": "execute_result"
    }
   ],
   "source": [
    "list(a)"
   ]
  },
  {
   "cell_type": "code",
   "execution_count": 6,
   "id": "44bd37a4-1aca-40ab-b49f-36fafa62ce60",
   "metadata": {},
   "outputs": [
    {
     "data": {
      "text/plain": [
       "['ab', 'c', 'de']"
      ]
     },
     "execution_count": 6,
     "metadata": {},
     "output_type": "execute_result"
    }
   ],
   "source": [
    "list(a.split(\" \"))"
   ]
  },
  {
   "cell_type": "code",
   "execution_count": 9,
   "id": "bf4b6e40-7dd1-4fbd-b415-7eb82851c99f",
   "metadata": {},
   "outputs": [
    {
     "data": {
      "text/plain": [
       "['ab', 'c', 'de']"
      ]
     },
     "execution_count": 9,
     "metadata": {},
     "output_type": "execute_result"
    }
   ],
   "source": [
    "a.split(\" \")"
   ]
  },
  {
   "cell_type": "code",
   "execution_count": 10,
   "id": "38c7e8e8-96bd-49aa-aa7d-e119041c0ffe",
   "metadata": {},
   "outputs": [],
   "source": [
    "list1=a.split(\" \")"
   ]
  },
  {
   "cell_type": "code",
   "execution_count": 12,
   "id": "faeb34e2-cf5c-466e-a589-36a13f5b34c6",
   "metadata": {},
   "outputs": [
    {
     "data": {
      "text/plain": [
       "'de'"
      ]
     },
     "execution_count": 12,
     "metadata": {},
     "output_type": "execute_result"
    }
   ],
   "source": [
    "list1[2]"
   ]
  },
  {
   "cell_type": "code",
   "execution_count": 13,
   "id": "95be57ca-4b67-4525-84d6-d904b20fcbd0",
   "metadata": {},
   "outputs": [
    {
     "data": {
      "text/plain": [
       "['ab', 'c']"
      ]
     },
     "execution_count": 13,
     "metadata": {},
     "output_type": "execute_result"
    }
   ],
   "source": [
    "list1[:-1]"
   ]
  },
  {
   "cell_type": "code",
   "execution_count": 14,
   "id": "2948856e-d978-4100-b3ba-0406071a42e1",
   "metadata": {},
   "outputs": [],
   "source": [
    "list1[1]=\"cf\""
   ]
  },
  {
   "cell_type": "code",
   "execution_count": 15,
   "id": "b82e97de-f977-4243-a2c4-0ee1d78827ae",
   "metadata": {},
   "outputs": [
    {
     "data": {
      "text/plain": [
       "['ab', 'cf', 'de']"
      ]
     },
     "execution_count": 15,
     "metadata": {},
     "output_type": "execute_result"
    }
   ],
   "source": [
    "list1"
   ]
  },
  {
   "cell_type": "code",
   "execution_count": 16,
   "id": "1beea502-e270-4270-b8ee-79d1dd449d80",
   "metadata": {},
   "outputs": [
    {
     "data": {
      "text/plain": [
       "['ab', 'cf', 'de', 'sdf', 45]"
      ]
     },
     "execution_count": 16,
     "metadata": {},
     "output_type": "execute_result"
    }
   ],
   "source": [
    "## concatenation operation\n",
    "list1 + [\"sdf\",45]"
   ]
  },
  {
   "cell_type": "code",
   "execution_count": 17,
   "id": "e8196fb3-040f-40ee-a95d-aab62034e97a",
   "metadata": {},
   "outputs": [
    {
     "data": {
      "text/plain": [
       "['ab', 'cf', 'de', ['sdf', 45]]"
      ]
     },
     "execution_count": 17,
     "metadata": {},
     "output_type": "execute_result"
    }
   ],
   "source": [
    "## multi nested operation\n",
    "list1 + [[\"sdf\",45]]"
   ]
  },
  {
   "cell_type": "code",
   "execution_count": 18,
   "id": "bc7b1a8b-306c-4f22-a198-16a34057f959",
   "metadata": {},
   "outputs": [],
   "source": [
    "list2=list1 + [[\"sdf\",45]]"
   ]
  },
  {
   "cell_type": "code",
   "execution_count": 19,
   "id": "789cc115-2a76-4372-8959-84ebc59602ef",
   "metadata": {},
   "outputs": [
    {
     "data": {
      "text/plain": [
       "['sdf', 45]"
      ]
     },
     "execution_count": 19,
     "metadata": {},
     "output_type": "execute_result"
    }
   ],
   "source": [
    "list2[-1]"
   ]
  },
  {
   "cell_type": "code",
   "execution_count": 20,
   "id": "ddb3d5c8-31da-45c1-b13d-57fa39ee805e",
   "metadata": {},
   "outputs": [
    {
     "data": {
      "text/plain": [
       "'sdf'"
      ]
     },
     "execution_count": 20,
     "metadata": {},
     "output_type": "execute_result"
    }
   ],
   "source": [
    "list2[-1][0]"
   ]
  },
  {
   "cell_type": "code",
   "execution_count": 21,
   "id": "66803894-14fc-4fb9-9a71-c95ff6a05888",
   "metadata": {},
   "outputs": [
    {
     "data": {
      "text/plain": [
       "45"
      ]
     },
     "execution_count": 21,
     "metadata": {},
     "output_type": "execute_result"
    }
   ],
   "source": [
    "list2[-1][-1]"
   ]
  },
  {
   "cell_type": "code",
   "execution_count": 22,
   "id": "a89f6472-68a8-4465-8d5f-59b623c893af",
   "metadata": {},
   "outputs": [
    {
     "data": {
      "text/plain": [
       "['ab', 'cf', 'de', 'ab', 'cf', 'de']"
      ]
     },
     "execution_count": 22,
     "metadata": {},
     "output_type": "execute_result"
    }
   ],
   "source": [
    "list1*2"
   ]
  },
  {
   "cell_type": "code",
   "execution_count": 28,
   "id": "bbcad206-bad3-4e33-b502-49c419e84c92",
   "metadata": {},
   "outputs": [
    {
     "name": "stdout",
     "output_type": "stream",
     "text": [
      "Not Present\n"
     ]
    }
   ],
   "source": [
    "for i in list1:\n",
    "    if i== \"ee\":\n",
    "        print(\"Present\")\n",
    "        exit\n",
    "else:\n",
    "        print(\"Not Present\")"
   ]
  },
  {
   "cell_type": "code",
   "execution_count": 29,
   "id": "be5eae50-0e02-4014-ac07-4d0e1ff23bcf",
   "metadata": {},
   "outputs": [
    {
     "name": "stdout",
     "output_type": "stream",
     "text": [
      "Present\n"
     ]
    }
   ],
   "source": [
    "if \"cf\" in list1:\n",
    "    print(\"Present\")"
   ]
  },
  {
   "cell_type": "code",
   "execution_count": 36,
   "id": "3c47b33c-651f-4533-8985-5c5787156a66",
   "metadata": {},
   "outputs": [],
   "source": [
    "list3=[\"Zebra\",\"Zebra\",\"lion\"]"
   ]
  },
  {
   "cell_type": "code",
   "execution_count": 37,
   "id": "ec57cb14-7a59-403d-a9d6-7e987957b9f9",
   "metadata": {},
   "outputs": [
    {
     "name": "stdout",
     "output_type": "stream",
     "text": [
      "lion\n"
     ]
    }
   ],
   "source": [
    "print(max(list3))"
   ]
  },
  {
   "cell_type": "code",
   "execution_count": 38,
   "id": "94c54dcc-4474-4694-a662-9d95bf984983",
   "metadata": {},
   "outputs": [
    {
     "data": {
      "text/plain": [
       "'Zebra'"
      ]
     },
     "execution_count": 38,
     "metadata": {},
     "output_type": "execute_result"
    }
   ],
   "source": [
    "min(list3)"
   ]
  },
  {
   "cell_type": "code",
   "execution_count": 55,
   "id": "59c45727-0bb9-435b-9271-e56f554fe078",
   "metadata": {},
   "outputs": [],
   "source": [
    "## Inplace"
   ]
  },
  {
   "cell_type": "code",
   "execution_count": 39,
   "id": "8cc425e2-5984-448a-86bc-40da3027de45",
   "metadata": {},
   "outputs": [],
   "source": [
    "list1.append(\"Pwskills\")"
   ]
  },
  {
   "cell_type": "code",
   "execution_count": 40,
   "id": "01114279-f820-4442-9d9e-e06be87aa21b",
   "metadata": {},
   "outputs": [
    {
     "data": {
      "text/plain": [
       "['ab', 'cf', 'de', 'Pwskills']"
      ]
     },
     "execution_count": 40,
     "metadata": {},
     "output_type": "execute_result"
    }
   ],
   "source": [
    "list1"
   ]
  },
  {
   "cell_type": "code",
   "execution_count": 41,
   "id": "b5fb44fa-9fce-4d91-9892-73a215f07afd",
   "metadata": {},
   "outputs": [
    {
     "data": {
      "text/plain": [
       "'Pwskills'"
      ]
     },
     "execution_count": 41,
     "metadata": {},
     "output_type": "execute_result"
    }
   ],
   "source": [
    "list1.pop()"
   ]
  },
  {
   "cell_type": "code",
   "execution_count": 42,
   "id": "9fb5f803-1909-4b80-91f1-7baa4f223777",
   "metadata": {},
   "outputs": [
    {
     "data": {
      "text/plain": [
       "'ab'"
      ]
     },
     "execution_count": 42,
     "metadata": {},
     "output_type": "execute_result"
    }
   ],
   "source": [
    "list1.pop(0)"
   ]
  },
  {
   "cell_type": "code",
   "execution_count": 1,
   "id": "03683408-a466-4065-a040-aaabb0122ec4",
   "metadata": {},
   "outputs": [],
   "source": [
    "list1=[\"a\",\"v\",\"d\",\"f\"]"
   ]
  },
  {
   "cell_type": "code",
   "execution_count": 52,
   "id": "70b9bcee-d470-4ac2-9058-1462f4ae3eaf",
   "metadata": {},
   "outputs": [
    {
     "data": {
      "text/plain": [
       "['f', 'd', 'v', 'a']"
      ]
     },
     "execution_count": 52,
     "metadata": {},
     "output_type": "execute_result"
    }
   ],
   "source": [
    "list1[::-1]"
   ]
  },
  {
   "cell_type": "code",
   "execution_count": 53,
   "id": "27ca29bf-2de8-4e8c-aebd-6cb905b3847e",
   "metadata": {},
   "outputs": [
    {
     "data": {
      "text/plain": [
       "['f', 'd', 'v', 'a']"
      ]
     },
     "execution_count": 53,
     "metadata": {},
     "output_type": "execute_result"
    }
   ],
   "source": [
    "list1.reverse()\n",
    "list1"
   ]
  },
  {
   "cell_type": "code",
   "execution_count": 54,
   "id": "e291bbcf-de90-4c0c-b1aa-e0396c2ab872",
   "metadata": {},
   "outputs": [
    {
     "data": {
      "text/plain": [
       "['a', 'v', 'd', 'f']"
      ]
     },
     "execution_count": 54,
     "metadata": {},
     "output_type": "execute_result"
    }
   ],
   "source": [
    "list1[::-1]"
   ]
  },
  {
   "cell_type": "code",
   "execution_count": 2,
   "id": "6f017c5f-666b-40f4-916c-a54e79d367d3",
   "metadata": {},
   "outputs": [],
   "source": [
    "list1.sort()"
   ]
  },
  {
   "cell_type": "code",
   "execution_count": 3,
   "id": "4a997799-f338-4d3f-ac1a-42365fa7682d",
   "metadata": {},
   "outputs": [
    {
     "data": {
      "text/plain": [
       "['a', 'd', 'f', 'v']"
      ]
     },
     "execution_count": 3,
     "metadata": {},
     "output_type": "execute_result"
    }
   ],
   "source": [
    "list1"
   ]
  },
  {
   "cell_type": "code",
   "execution_count": 5,
   "id": "9a47b8f8-17e5-43bd-90ea-49801df626d2",
   "metadata": {},
   "outputs": [],
   "source": [
    "list1.sort(reverse=True)"
   ]
  },
  {
   "cell_type": "code",
   "execution_count": 6,
   "id": "53d3de32-c798-4096-94a8-c7507b800b89",
   "metadata": {},
   "outputs": [
    {
     "data": {
      "text/plain": [
       "['v', 'f', 'd', 'a']"
      ]
     },
     "execution_count": 6,
     "metadata": {},
     "output_type": "execute_result"
    }
   ],
   "source": [
    "list1"
   ]
  },
  {
   "cell_type": "code",
   "execution_count": 7,
   "id": "ba9d4516-4cc6-4b94-bdec-075a61766437",
   "metadata": {},
   "outputs": [],
   "source": [
    "list1.append(\"10\")"
   ]
  },
  {
   "cell_type": "code",
   "execution_count": 8,
   "id": "3c41a602-9139-40e5-a1f4-f8af10059d76",
   "metadata": {},
   "outputs": [
    {
     "data": {
      "text/plain": [
       "['v', 'f', 'd', 'a', '10']"
      ]
     },
     "execution_count": 8,
     "metadata": {},
     "output_type": "execute_result"
    }
   ],
   "source": [
    "list1"
   ]
  },
  {
   "cell_type": "code",
   "execution_count": 9,
   "id": "7f0df677-7848-4267-9d2d-1e596b2d1eba",
   "metadata": {},
   "outputs": [],
   "source": [
    "list1.append([\"Pw\", \"Skills\"])"
   ]
  },
  {
   "cell_type": "code",
   "execution_count": 10,
   "id": "2b14e442-d32a-46fa-852a-bd54fddaa931",
   "metadata": {},
   "outputs": [
    {
     "data": {
      "text/plain": [
       "['v', 'f', 'd', 'a', '10', ['Pw', 'Skills']]"
      ]
     },
     "execution_count": 10,
     "metadata": {},
     "output_type": "execute_result"
    }
   ],
   "source": [
    "list1"
   ]
  },
  {
   "cell_type": "code",
   "execution_count": 11,
   "id": "7d600ac4-28df-42e1-b1f9-c7a394d7dd3a",
   "metadata": {},
   "outputs": [],
   "source": [
    "list1.extend([\"Pw\", \"Skills\"])"
   ]
  },
  {
   "cell_type": "code",
   "execution_count": 12,
   "id": "84742a21-a13d-4e7a-8cab-b19271a160e8",
   "metadata": {},
   "outputs": [
    {
     "data": {
      "text/plain": [
       "['v', 'f', 'd', 'a', '10', ['Pw', 'Skills'], 'Pw', 'Skills']"
      ]
     },
     "execution_count": 12,
     "metadata": {},
     "output_type": "execute_result"
    }
   ],
   "source": [
    "list1"
   ]
  },
  {
   "cell_type": "markdown",
   "id": "0d9e09f3-e93c-4d84-9cda-2a04c9482731",
   "metadata": {},
   "source": [
    "## Nested List"
   ]
  },
  {
   "cell_type": "code",
   "execution_count": 13,
   "id": "a9ff9b1a-83bb-4c51-a2aa-20cfe9987c64",
   "metadata": {},
   "outputs": [],
   "source": [
    "#Lets make three list \n",
    "lst1=[1,2,3]\n",
    "lst2=[4,5,6]\n",
    "lst3=[7,8,9]\n",
    "\n",
    "matrix=[lst1,lst2,lst3]"
   ]
  },
  {
   "cell_type": "code",
   "execution_count": 14,
   "id": "0fbcdff7-3968-42c4-8305-327eff215f1c",
   "metadata": {},
   "outputs": [
    {
     "data": {
      "text/plain": [
       "[[1, 2, 3], [4, 5, 6], [7, 8, 9]]"
      ]
     },
     "execution_count": 14,
     "metadata": {},
     "output_type": "execute_result"
    }
   ],
   "source": [
    "matrix"
   ]
  },
  {
   "cell_type": "code",
   "execution_count": 15,
   "id": "b51ddaa7-b541-4080-8830-78b06fcd17cd",
   "metadata": {},
   "outputs": [
    {
     "data": {
      "text/plain": [
       "6"
      ]
     },
     "execution_count": 15,
     "metadata": {},
     "output_type": "execute_result"
    }
   ],
   "source": [
    "matrix[1][2]"
   ]
  },
  {
   "cell_type": "code",
   "execution_count": 16,
   "id": "d5d0907b-2564-43d7-9893-ede325a7eb74",
   "metadata": {},
   "outputs": [
    {
     "data": {
      "text/plain": [
       "[8, 9]"
      ]
     },
     "execution_count": 16,
     "metadata": {},
     "output_type": "execute_result"
    }
   ],
   "source": [
    "matrix[2][1:]"
   ]
  },
  {
   "cell_type": "code",
   "execution_count": 23,
   "id": "154a9eba-d623-48d1-a709-857e25658d51",
   "metadata": {},
   "outputs": [
    {
     "data": {
      "text/plain": [
       "[[1, 2, 3], [4, 5, 6], [7, 8, 9]]"
      ]
     },
     "execution_count": 23,
     "metadata": {},
     "output_type": "execute_result"
    }
   ],
   "source": [
    "matrix[0:3]"
   ]
  },
  {
   "cell_type": "code",
   "execution_count": 26,
   "id": "dd232c2c-930a-474d-9502-dbf1e9b361ae",
   "metadata": {},
   "outputs": [],
   "source": [
    "## Print only the first element of each row\n",
    "\n",
    "\n",
    "\n",
    "\n"
   ]
  },
  {
   "cell_type": "code",
   "execution_count": 24,
   "id": "45e200d1-6544-44e1-873e-5a09f6644f40",
   "metadata": {},
   "outputs": [
    {
     "data": {
      "text/plain": [
       "[0, 1, 2, 3, 4, 5, 6, 7, 8, 9, 10, 11, 12, 13, 14, 15, 16, 17, 18, 19]"
      ]
     },
     "execution_count": 24,
     "metadata": {},
     "output_type": "execute_result"
    }
   ],
   "source": [
    "#List Comprehension\n",
    "[i for i in range(20)]"
   ]
  },
  {
   "cell_type": "code",
   "execution_count": 34,
   "id": "40d42bdb-8dbc-4d83-88a3-e16d884d9f01",
   "metadata": {},
   "outputs": [
    {
     "data": {
      "text/plain": [
       "[0, '', 2, '', 4, '', 6, '', 8, '', 10, '', 12, '', 14, '', 16, '', 18, '']"
      ]
     },
     "execution_count": 34,
     "metadata": {},
     "output_type": "execute_result"
    }
   ],
   "source": [
    "[ i if i%2==0 else \"\" for i in range(20)]"
   ]
  },
  {
   "cell_type": "code",
   "execution_count": 1,
   "id": "a5a2d125-a4bf-40f1-bb61-7f46bc24611f",
   "metadata": {},
   "outputs": [
    {
     "name": "stdout",
     "output_type": "stream",
     "text": [
      "Sum of even=20\n",
      "Sum of odd=16\n"
     ]
    }
   ],
   "source": [
    "## Sum of even nos and odd nos\n",
    "lst=[1,2,3,4,5,6,7,8]\n",
    "se=0\n",
    "so=0\n",
    "for i in lst:\n",
    "    if(i%2==0):\n",
    "        se=se+i\n",
    "    else: \n",
    "        so=so+i\n",
    "print(\"Sum of even={}\".format(se))\n",
    "print(\"Sum of odd={}\".format(so))"
   ]
  },
  {
   "cell_type": "code",
   "execution_count": 2,
   "id": "6c0ec48a-c10f-44ee-a909-b1ac5a3dbb09",
   "metadata": {},
   "outputs": [],
   "source": [
    "even_sum=sum([num for num in lst if num%2==0])"
   ]
  },
  {
   "cell_type": "code",
   "execution_count": 3,
   "id": "6d39daf2-b709-4e73-a1eb-d17cb89f0da5",
   "metadata": {},
   "outputs": [],
   "source": [
    "odd_sum=sum([num for num in lst if num%2!=0]) "
   ]
  },
  {
   "cell_type": "code",
   "execution_count": 4,
   "id": "d8cdff26-46a9-4459-a4f3-c632e5189eb1",
   "metadata": {},
   "outputs": [
    {
     "name": "stdout",
     "output_type": "stream",
     "text": [
      "20\n",
      "16\n"
     ]
    }
   ],
   "source": [
    "print(even_sum)\n",
    "print(odd_sum)"
   ]
  },
  {
   "cell_type": "code",
   "execution_count": 1,
   "id": "e4892ed5-2154-47d8-8853-55f5ff200146",
   "metadata": {},
   "outputs": [],
   "source": [
    "lst=[1,2,3,4,5,6,7,8,9,10]"
   ]
  },
  {
   "cell_type": "code",
   "execution_count": 6,
   "id": "7be6084e-535d-4740-9f71-0bf84301c401",
   "metadata": {},
   "outputs": [],
   "source": [
    "add=sum([num**2 for num in lst if num%2==0]) ##sum of square opf elements"
   ]
  },
  {
   "cell_type": "code",
   "execution_count": 5,
   "id": "43ad9c0a-1b80-4107-b551-4980b714f9ef",
   "metadata": {},
   "outputs": [
    {
     "data": {
      "text/plain": [
       "220"
      ]
     },
     "execution_count": 5,
     "metadata": {},
     "output_type": "execute_result"
    }
   ],
   "source": [
    "add"
   ]
  },
  {
   "cell_type": "code",
   "execution_count": 11,
   "id": "7c05bc18-6611-4612-9e0e-dbc536a72736",
   "metadata": {},
   "outputs": [],
   "source": [
    "#Create a list of only the first letters of words in a list\n",
    "words=[\"apple\",\"banana\",\"Cherry\",\"date\"]\n",
    "c=[]\n",
    "for l in words:\n",
    "    c=c+[l[0]]"
   ]
  },
  {
   "cell_type": "code",
   "execution_count": 12,
   "id": "116ae737-1744-48cf-b1c3-ee5d530cb32d",
   "metadata": {},
   "outputs": [
    {
     "data": {
      "text/plain": [
       "['a', 'b', 'C', 'd']"
      ]
     },
     "execution_count": 12,
     "metadata": {},
     "output_type": "execute_result"
    }
   ],
   "source": [
    "c"
   ]
  },
  {
   "cell_type": "code",
   "execution_count": 14,
   "id": "01301c93-35d6-4b70-afa1-f75c205297ce",
   "metadata": {},
   "outputs": [
    {
     "data": {
      "text/plain": [
       "['a', 'b', 'C', 'd']"
      ]
     },
     "execution_count": 14,
     "metadata": {},
     "output_type": "execute_result"
    }
   ],
   "source": [
    "[word[0] for word in words]"
   ]
  },
  {
   "cell_type": "code",
   "execution_count": 1,
   "id": "49ccec77-c66a-4e0d-bcb5-8c363c13bf74",
   "metadata": {},
   "outputs": [],
   "source": [
    "#Flatten a list of lists in a single list\n",
    "lists=[[1,2,3],[4,5,6],[7,8,9]]\n"
   ]
  },
  {
   "cell_type": "code",
   "execution_count": 19,
   "id": "88113d3e-f954-4bed-8f3f-93888d82a0b4",
   "metadata": {},
   "outputs": [
    {
     "ename": "TypeError",
     "evalue": "list.extend() takes exactly one argument (0 given)",
     "output_type": "error",
     "traceback": [
      "\u001b[0;31m---------------------------------------------------------------------------\u001b[0m",
      "\u001b[0;31mTypeError\u001b[0m                                 Traceback (most recent call last)",
      "Cell \u001b[0;32mIn[19], line 1\u001b[0m\n\u001b[0;32m----> 1\u001b[0m [l\u001b[38;5;241m.\u001b[39mextend() \u001b[38;5;28;01mfor\u001b[39;00m l \u001b[38;5;129;01min\u001b[39;00m lists]\n",
      "Cell \u001b[0;32mIn[19], line 1\u001b[0m, in \u001b[0;36m<listcomp>\u001b[0;34m(.0)\u001b[0m\n\u001b[0;32m----> 1\u001b[0m [\u001b[43ml\u001b[49m\u001b[38;5;241;43m.\u001b[39;49m\u001b[43mextend\u001b[49m\u001b[43m(\u001b[49m\u001b[43m)\u001b[49m \u001b[38;5;28;01mfor\u001b[39;00m l \u001b[38;5;129;01min\u001b[39;00m lists]\n",
      "\u001b[0;31mTypeError\u001b[0m: list.extend() takes exactly one argument (0 given)"
     ]
    }
   ],
   "source": [
    "[l.extend() for l in lists]"
   ]
  },
  {
   "cell_type": "code",
   "execution_count": 2,
   "id": "30bd80e4-e980-4977-93d7-649104f33b70",
   "metadata": {},
   "outputs": [
    {
     "data": {
      "text/plain": [
       "[1, 2, 3, 4, 5, 6, 7, 8, 9]"
      ]
     },
     "execution_count": 2,
     "metadata": {},
     "output_type": "execute_result"
    }
   ],
   "source": [
    "[i for j in lists for i in j]"
   ]
  },
  {
   "cell_type": "code",
   "execution_count": 3,
   "id": "1f688198-8c38-4a46-9ad3-670d830913f9",
   "metadata": {},
   "outputs": [],
   "source": [
    "## Assignment\n",
    "## Using both code and lists operation\n",
    "## Create a list of only prime no from given list\n",
    "no=[1,2,3,4,5,6,7,8,9,10]"
   ]
  },
  {
   "cell_type": "code",
   "execution_count": 19,
   "id": "fe8597b9-3293-41ef-8f74-fc48c2a3ace8",
   "metadata": {},
   "outputs": [],
   "source": [
    "c=0\n",
    "pno=[]\n",
    "for i in no:\n",
    "    for j in range(1,i+1):\n",
    "        if i%j==0:\n",
    "            c=c+1\n",
    "    if c==2:\n",
    "        print(i)"
   ]
  },
  {
   "cell_type": "code",
   "execution_count": 14,
   "id": "ba758c98-b9c8-4ef6-815c-925f8257b1f7",
   "metadata": {},
   "outputs": [
    {
     "data": {
      "text/plain": [
       "[3]"
      ]
     },
     "execution_count": 14,
     "metadata": {},
     "output_type": "execute_result"
    }
   ],
   "source": [
    "pno"
   ]
  },
  {
   "cell_type": "code",
   "execution_count": 20,
   "id": "308d2d46-dfe3-4493-ae08-02f6c182136e",
   "metadata": {},
   "outputs": [],
   "source": [
    "## Create a list of all possible combination of two elements in a lists\n",
    "no=[1,2,3,4,5]"
   ]
  },
  {
   "cell_type": "code",
   "execution_count": null,
   "id": "f71009d4-d483-4a2a-8daf-96ea30cb2e2e",
   "metadata": {},
   "outputs": [],
   "source": []
  }
 ],
 "metadata": {
  "kernelspec": {
   "display_name": "Python 3 (ipykernel)",
   "language": "python",
   "name": "python3"
  },
  "language_info": {
   "codemirror_mode": {
    "name": "ipython",
    "version": 3
   },
   "file_extension": ".py",
   "mimetype": "text/x-python",
   "name": "python",
   "nbconvert_exporter": "python",
   "pygments_lexer": "ipython3",
   "version": "3.10.8"
  }
 },
 "nbformat": 4,
 "nbformat_minor": 5
}
