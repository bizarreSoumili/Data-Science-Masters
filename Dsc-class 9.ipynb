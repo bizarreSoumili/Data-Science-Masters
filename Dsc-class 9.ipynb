{
 "cells": [
  {
   "cell_type": "markdown",
   "id": "c15bd0cc-425b-4da8-9bbe-b820b8baaada",
   "metadata": {},
   "source": [
    "## Decorators"
   ]
  },
  {
   "cell_type": "code",
   "execution_count": 2,
   "id": "9c14326c-01f2-4f45-8c9e-3dbb363d3036",
   "metadata": {},
   "outputs": [],
   "source": [
    "def test():\n",
    "    print(\"This is the start of the program\")\n",
    "    print(4+5)\n",
    "    print(\"This is the end of the program\")"
   ]
  },
  {
   "cell_type": "code",
   "execution_count": 3,
   "id": "1fd33cf4-48ac-413f-a35a-da05cc568ca3",
   "metadata": {},
   "outputs": [
    {
     "name": "stdout",
     "output_type": "stream",
     "text": [
      "This is the start of the program\n",
      "9\n",
      "This is the end of the program\n"
     ]
    }
   ],
   "source": [
    "test()"
   ]
  },
  {
   "cell_type": "code",
   "execution_count": 4,
   "id": "6b6e9a43-c526-43b1-80d0-07ada287a17a",
   "metadata": {},
   "outputs": [],
   "source": [
    "## But what if we want to create multiple methods with the same first and last line?"
   ]
  },
  {
   "cell_type": "code",
   "execution_count": 5,
   "id": "19a38258-d68a-4056-85db-753ad740086d",
   "metadata": {},
   "outputs": [],
   "source": [
    "def deco(func):\n",
    "    def inner_deco():\n",
    "        print(\"This is the start of the program\")\n",
    "        func()\n",
    "        print(\"This is the end of the program\")\n",
    "    return inner_deco"
   ]
  },
  {
   "cell_type": "code",
   "execution_count": 9,
   "id": "2c5f5c98-9520-4cc2-aa2a-c8c03fc8af01",
   "metadata": {},
   "outputs": [],
   "source": [
    "@deco\n",
    "def test1():\n",
    "    print(4+5)"
   ]
  },
  {
   "cell_type": "code",
   "execution_count": 10,
   "id": "6980dd2f-fddd-4fcb-aa7f-9bea0a84306d",
   "metadata": {},
   "outputs": [
    {
     "name": "stdout",
     "output_type": "stream",
     "text": [
      "This is the start of the program\n",
      "9\n",
      "This is the end of the program\n"
     ]
    }
   ],
   "source": [
    "test1()"
   ]
  },
  {
   "cell_type": "code",
   "execution_count": 13,
   "id": "7a30881b-2675-46c7-8be7-8646c5a2cfa2",
   "metadata": {},
   "outputs": [],
   "source": [
    "import time\n",
    "def time_test(func):\n",
    "    def inner_time_test():\n",
    "        start=time.time()\n",
    "        func()\n",
    "        end=time.time()\n",
    "        print(end-start)\n",
    "    return inner_time_test"
   ]
  },
  {
   "cell_type": "code",
   "execution_count": 14,
   "id": "9378a353-c04e-4bed-a664-c38faf62fb33",
   "metadata": {},
   "outputs": [],
   "source": [
    "@time_test\n",
    "def test2():\n",
    "    print(42353+624627645)"
   ]
  },
  {
   "cell_type": "code",
   "execution_count": 15,
   "id": "3e86663b-395b-4137-9d51-7d6f4e23c335",
   "metadata": {},
   "outputs": [
    {
     "name": "stdout",
     "output_type": "stream",
     "text": [
      "624669998\n",
      "4.4345855712890625e-05\n"
     ]
    }
   ],
   "source": [
    "test2()"
   ]
  },
  {
   "cell_type": "code",
   "execution_count": 16,
   "id": "07aae452-d218-4e0c-b581-e1a977fde248",
   "metadata": {},
   "outputs": [],
   "source": [
    "## The above code is used for time complexity calculation"
   ]
  },
  {
   "cell_type": "markdown",
   "id": "e62de2b1-ae94-400c-94bc-632038a58ab6",
   "metadata": {},
   "source": [
    "## Class Methods"
   ]
  },
  {
   "cell_type": "code",
   "execution_count": 17,
   "id": "17475f69-b770-4fa4-8a7f-6854a017598b",
   "metadata": {},
   "outputs": [],
   "source": [
    "## Alternative way of variable declaration in a class other then init method"
   ]
  },
  {
   "cell_type": "code",
   "execution_count": 35,
   "id": "a2623346-e13f-4619-9961-1e4e777d4e74",
   "metadata": {},
   "outputs": [],
   "source": [
    "class p:\n",
    "    def __init__(self,email,name):\n",
    "        self.email=email\n",
    "        self.name=name\n",
    "        \n",
    "    @classmethod\n",
    "    def details(cls, email, name):\n",
    "        return cls(email, name)\n",
    "    \n",
    "    def stud_details(self):\n",
    "        print(self.email,self.name)"
   ]
  },
  {
   "cell_type": "code",
   "execution_count": 36,
   "id": "90d47170-f8f4-47c3-9051-8c0a5aee13b9",
   "metadata": {},
   "outputs": [],
   "source": [
    "pw=p.details(\"gshgd\",\"ahgjadv\")"
   ]
  },
  {
   "cell_type": "code",
   "execution_count": 37,
   "id": "40b8535f-5cab-4b7a-b5ea-29f917ac0e87",
   "metadata": {},
   "outputs": [
    {
     "name": "stdout",
     "output_type": "stream",
     "text": [
      "gshgd ahgjadv\n"
     ]
    }
   ],
   "source": [
    "pw.stud_details()"
   ]
  },
  {
   "cell_type": "code",
   "execution_count": 38,
   "id": "c716a4bb-448e-4633-b81a-75f4e2e82136",
   "metadata": {},
   "outputs": [],
   "source": [
    "## Python doesnot support overloading directly but it can support it through decorators"
   ]
  },
  {
   "cell_type": "code",
   "execution_count": 39,
   "id": "46b7595e-5818-46b3-8d8f-9f91a65d54a7",
   "metadata": {},
   "outputs": [],
   "source": [
    "## @classmethod is an inbuilt method/decorator"
   ]
  },
  {
   "cell_type": "code",
   "execution_count": 43,
   "id": "a08feddd-5696-498c-b3a4-d3b94f8f3c7d",
   "metadata": {},
   "outputs": [],
   "source": [
    "class p:\n",
    "    \n",
    "    mobile=28397942\n",
    "    def __init__(self,email,name):\n",
    "        self.email=email\n",
    "        self.name=name\n",
    "        \n",
    "    @classmethod                                           ## class method\n",
    "    def details(cls, email, name):\n",
    "        return cls(email, name)\n",
    "    \n",
    "    def stud_details(self):                              ##instance method\n",
    "        print(self.email,self.name)"
   ]
  },
  {
   "cell_type": "code",
   "execution_count": 41,
   "id": "751b4ef6-975e-404f-9ffe-c4c6b5bfc322",
   "metadata": {},
   "outputs": [
    {
     "data": {
      "text/plain": [
       "28397942"
      ]
     },
     "execution_count": 41,
     "metadata": {},
     "output_type": "execute_result"
    }
   ],
   "source": [
    "p.mobile"
   ]
  },
  {
   "cell_type": "code",
   "execution_count": 42,
   "id": "b949e605-8604-4a8c-b839-2382d3bc1881",
   "metadata": {},
   "outputs": [],
   "source": [
    "## Class variables can be used without creating an object because object is also a class variable"
   ]
  },
  {
   "cell_type": "code",
   "execution_count": 44,
   "id": "6612d9f5-265a-4275-a853-b8a967669597",
   "metadata": {},
   "outputs": [],
   "source": [
    "class p:\n",
    "    \n",
    "    mobile=28397942\n",
    "    def __init__(self,email,name):\n",
    "        self.email=email\n",
    "        self.name=name\n",
    "        \n",
    "    @classmethod                                           ## class method\n",
    "    def details(cls, email, name):\n",
    "        return cls(email, name)\n",
    "    \n",
    "    def stud_details(self):                              ##instance method\n",
    "        print(self.email,self.name,p.mobile)"
   ]
  },
  {
   "cell_type": "code",
   "execution_count": 45,
   "id": "87d25d48-0e15-47c0-9fa0-ea8d690529b5",
   "metadata": {},
   "outputs": [],
   "source": [
    "pw1=p.details(\"dfsg\",\"fdsagh\")"
   ]
  },
  {
   "cell_type": "code",
   "execution_count": 46,
   "id": "4727ec6e-61e5-416a-8e39-6a0c5779557e",
   "metadata": {},
   "outputs": [
    {
     "name": "stdout",
     "output_type": "stream",
     "text": [
      "dfsg fdsagh 28397942\n"
     ]
    }
   ],
   "source": [
    "pw1.stud_details()"
   ]
  },
  {
   "cell_type": "code",
   "execution_count": 1,
   "id": "b97aeaf6-0d54-4a8d-9217-1054d5b1ba59",
   "metadata": {},
   "outputs": [],
   "source": [
    "## Class Methods can also be called using an object of class"
   ]
  },
  {
   "cell_type": "code",
   "execution_count": 2,
   "id": "f615595f-a3b0-4a34-b3e0-11e66a7c6cf5",
   "metadata": {},
   "outputs": [],
   "source": [
    "## Class method will try to create only 1 instances whereas an instance method will create as many as no of objects "
   ]
  },
  {
   "cell_type": "markdown",
   "id": "23874005-e8b9-4e93-aa7a-813eed06ed63",
   "metadata": {},
   "source": [
    "### Adding of class methods to a class dynamically"
   ]
  },
  {
   "cell_type": "code",
   "execution_count": 4,
   "id": "93f3f369-cc19-456a-ae91-0128c5554b29",
   "metadata": {},
   "outputs": [],
   "source": [
    "class p1:\n",
    "    \n",
    "    mobile=28397942\n",
    "    def __init__(self,email,name):\n",
    "        self.email=email\n",
    "        self.name=name\n",
    "        \n",
    "    @classmethod                                           ## class method\n",
    "    def details(cls, email, name):\n",
    "        return cls(email, name)\n",
    "    \n",
    "    def stud_details(self):                              ##instance method\n",
    "        print(self.email,self.name,p.mobile)"
   ]
  },
  {
   "cell_type": "code",
   "execution_count": 5,
   "id": "6551258b-0946-4111-b040-454ebe4bae92",
   "metadata": {},
   "outputs": [],
   "source": [
    "def course(cls, course_name):\n",
    "    print(\"course details\", course_name)"
   ]
  },
  {
   "cell_type": "code",
   "execution_count": 8,
   "id": "3d0e170c-17f4-437e-9341-1c71ca4e1852",
   "metadata": {},
   "outputs": [],
   "source": [
    "p1.course=classmethod(course)"
   ]
  },
  {
   "cell_type": "code",
   "execution_count": 9,
   "id": "0743a806-9cb9-49d0-9497-98fc32e8e48f",
   "metadata": {},
   "outputs": [
    {
     "name": "stdout",
     "output_type": "stream",
     "text": [
      "course details dsc\n"
     ]
    }
   ],
   "source": [
    "p1.course(\"dsc\")"
   ]
  },
  {
   "cell_type": "code",
   "execution_count": 7,
   "id": "d2407fee-b832-4608-a112-10db039f90ce",
   "metadata": {},
   "outputs": [],
   "source": [
    "## Through this the method is added to p1"
   ]
  },
  {
   "cell_type": "markdown",
   "id": "8df76927-8361-4d24-a790-f803f8ef3de6",
   "metadata": {},
   "source": [
    "### Deletion"
   ]
  },
  {
   "cell_type": "code",
   "execution_count": 11,
   "id": "00823608-7be2-49f8-9fe0-019feee38f40",
   "metadata": {},
   "outputs": [],
   "source": [
    "del p1.course"
   ]
  },
  {
   "cell_type": "code",
   "execution_count": 12,
   "id": "7931abc0-ef99-4889-94fa-b2d6913ddd00",
   "metadata": {},
   "outputs": [
    {
     "ename": "AttributeError",
     "evalue": "type object 'p1' has no attribute 'course'",
     "output_type": "error",
     "traceback": [
      "\u001b[0;31m---------------------------------------------------------------------------\u001b[0m",
      "\u001b[0;31mAttributeError\u001b[0m                            Traceback (most recent call last)",
      "Cell \u001b[0;32mIn[12], line 1\u001b[0m\n\u001b[0;32m----> 1\u001b[0m \u001b[43mp1\u001b[49m\u001b[38;5;241;43m.\u001b[39;49m\u001b[43mcourse\u001b[49m(\u001b[38;5;124m\"\u001b[39m\u001b[38;5;124mdsc\u001b[39m\u001b[38;5;124m\"\u001b[39m)\n",
      "\u001b[0;31mAttributeError\u001b[0m: type object 'p1' has no attribute 'course'"
     ]
    }
   ],
   "source": [
    "p1.course(\"dsc\")"
   ]
  },
  {
   "cell_type": "code",
   "execution_count": 13,
   "id": "e6e0ca4d-c469-4685-b0ce-f1bbd423803c",
   "metadata": {},
   "outputs": [],
   "source": [
    "## As its already deleted"
   ]
  },
  {
   "cell_type": "code",
   "execution_count": 14,
   "id": "99f23815-965c-43d7-a912-c1dc99f540a1",
   "metadata": {},
   "outputs": [],
   "source": [
    "delattr(p1,\"details\")"
   ]
  },
  {
   "cell_type": "code",
   "execution_count": 15,
   "id": "8c496dd0-10b4-4688-bf17-c7ffb238bf7d",
   "metadata": {},
   "outputs": [
    {
     "ename": "AttributeError",
     "evalue": "type object 'p1' has no attribute 'details'",
     "output_type": "error",
     "traceback": [
      "\u001b[0;31m---------------------------------------------------------------------------\u001b[0m",
      "\u001b[0;31mAttributeError\u001b[0m                            Traceback (most recent call last)",
      "Cell \u001b[0;32mIn[15], line 1\u001b[0m\n\u001b[0;32m----> 1\u001b[0m \u001b[43mp1\u001b[49m\u001b[38;5;241;43m.\u001b[39;49m\u001b[43mdetails\u001b[49m()\n",
      "\u001b[0;31mAttributeError\u001b[0m: type object 'p1' has no attribute 'details'"
     ]
    }
   ],
   "source": [
    "p1.details()"
   ]
  },
  {
   "cell_type": "markdown",
   "id": "0d41299b-7413-4594-9de4-cba789ee8375",
   "metadata": {},
   "source": [
    "## Static Method"
   ]
  },
  {
   "cell_type": "code",
   "execution_count": 16,
   "id": "6eb892de-7e6c-493e-ab10-0c6511f723c6",
   "metadata": {},
   "outputs": [],
   "source": [
    "## To create a method which doesnt require an object for method calling"
   ]
  },
  {
   "cell_type": "code",
   "execution_count": 17,
   "id": "48262732-d908-46b8-af9e-e217f7eef61a",
   "metadata": {},
   "outputs": [],
   "source": [
    "class pw:\n",
    "    @staticmethod\n",
    "    def mentor(list_mentor):\n",
    "        print(list_mentor)"
   ]
  },
  {
   "cell_type": "code",
   "execution_count": 18,
   "id": "159ae27c-69c2-4021-9649-5c75f035e91b",
   "metadata": {},
   "outputs": [],
   "source": [
    "## In this we don't even need self"
   ]
  },
  {
   "cell_type": "code",
   "execution_count": 19,
   "id": "b75ef867-b7fc-422e-aee4-77a3230b5e52",
   "metadata": {},
   "outputs": [
    {
     "name": "stdout",
     "output_type": "stream",
     "text": [
      "['ghasfhgf', 'dghfj']\n"
     ]
    }
   ],
   "source": [
    "pw.mentor([\"ghasfhgf\",\"dghfj\"])"
   ]
  },
  {
   "cell_type": "code",
   "execution_count": 20,
   "id": "4b88e1c8-ccd9-44e6-8db4-4afb135df355",
   "metadata": {},
   "outputs": [],
   "source": [
    "## A static method is common to all objects unlike an instance method where every time an object is created,\n",
    "## a replica of instance method is created thus taking/blocking large amount of memory."
   ]
  },
  {
   "cell_type": "code",
   "execution_count": 21,
   "id": "cd3b29b3-d7b7-41ad-8f9a-fc10df044a57",
   "metadata": {},
   "outputs": [],
   "source": [
    "## Static method can be called inside an instance method proided its declared before that method.(self.name)"
   ]
  },
  {
   "cell_type": "code",
   "execution_count": 22,
   "id": "43aeb325-726f-453e-9d8c-13151e2cdb68",
   "metadata": {},
   "outputs": [],
   "source": [
    "## Static method can also be called within a class method (cls.name)"
   ]
  },
  {
   "cell_type": "code",
   "execution_count": 23,
   "id": "c660b85d-268a-41cf-afb0-769866e54d84",
   "metadata": {},
   "outputs": [],
   "source": [
    "## Static method can also be called within another static method"
   ]
  },
  {
   "cell_type": "markdown",
   "id": "59fc8070-6eee-41d7-80e5-c73eff016c6e",
   "metadata": {},
   "source": [
    "## Special (Magic or Dunder) Method"
   ]
  },
  {
   "cell_type": "code",
   "execution_count": 24,
   "id": "50df6c7b-9e26-46f4-b655-671b324e0bfb",
   "metadata": {},
   "outputs": [
    {
     "data": {
      "text/plain": [
       "['__abs__',\n",
       " '__add__',\n",
       " '__and__',\n",
       " '__bool__',\n",
       " '__ceil__',\n",
       " '__class__',\n",
       " '__delattr__',\n",
       " '__dir__',\n",
       " '__divmod__',\n",
       " '__doc__',\n",
       " '__eq__',\n",
       " '__float__',\n",
       " '__floor__',\n",
       " '__floordiv__',\n",
       " '__format__',\n",
       " '__ge__',\n",
       " '__getattribute__',\n",
       " '__getnewargs__',\n",
       " '__gt__',\n",
       " '__hash__',\n",
       " '__index__',\n",
       " '__init__',\n",
       " '__init_subclass__',\n",
       " '__int__',\n",
       " '__invert__',\n",
       " '__le__',\n",
       " '__lshift__',\n",
       " '__lt__',\n",
       " '__mod__',\n",
       " '__mul__',\n",
       " '__ne__',\n",
       " '__neg__',\n",
       " '__new__',\n",
       " '__or__',\n",
       " '__pos__',\n",
       " '__pow__',\n",
       " '__radd__',\n",
       " '__rand__',\n",
       " '__rdivmod__',\n",
       " '__reduce__',\n",
       " '__reduce_ex__',\n",
       " '__repr__',\n",
       " '__rfloordiv__',\n",
       " '__rlshift__',\n",
       " '__rmod__',\n",
       " '__rmul__',\n",
       " '__ror__',\n",
       " '__round__',\n",
       " '__rpow__',\n",
       " '__rrshift__',\n",
       " '__rshift__',\n",
       " '__rsub__',\n",
       " '__rtruediv__',\n",
       " '__rxor__',\n",
       " '__setattr__',\n",
       " '__sizeof__',\n",
       " '__str__',\n",
       " '__sub__',\n",
       " '__subclasshook__',\n",
       " '__truediv__',\n",
       " '__trunc__',\n",
       " '__xor__',\n",
       " 'as_integer_ratio',\n",
       " 'bit_count',\n",
       " 'bit_length',\n",
       " 'conjugate',\n",
       " 'denominator',\n",
       " 'from_bytes',\n",
       " 'imag',\n",
       " 'numerator',\n",
       " 'real',\n",
       " 'to_bytes']"
      ]
     },
     "execution_count": 24,
     "metadata": {},
     "output_type": "execute_result"
    }
   ],
   "source": [
    "dir(int)"
   ]
  },
  {
   "cell_type": "code",
   "execution_count": 25,
   "id": "fda05813-5fcb-4f9a-baa9-3b63490516a5",
   "metadata": {},
   "outputs": [],
   "source": [
    "a=5"
   ]
  },
  {
   "cell_type": "code",
   "execution_count": 26,
   "id": "8c739f01-eb81-4d05-84aa-42987f6366f5",
   "metadata": {},
   "outputs": [
    {
     "data": {
      "text/plain": [
       "11"
      ]
     },
     "execution_count": 26,
     "metadata": {},
     "output_type": "execute_result"
    }
   ],
   "source": [
    "a+6"
   ]
  },
  {
   "cell_type": "code",
   "execution_count": 27,
   "id": "088aeb2b-ba8c-4c13-b7ab-1cc35b0aadf6",
   "metadata": {},
   "outputs": [
    {
     "data": {
      "text/plain": [
       "11"
      ]
     },
     "execution_count": 27,
     "metadata": {},
     "output_type": "execute_result"
    }
   ],
   "source": [
    "a.__add__(6)"
   ]
  },
  {
   "cell_type": "code",
   "execution_count": 28,
   "id": "1fc85201-cfd1-4b83-a703-67477a32a473",
   "metadata": {},
   "outputs": [],
   "source": [
    "## Therefore magic methods can be used instead of algebraic operators"
   ]
  },
  {
   "cell_type": "code",
   "execution_count": 29,
   "id": "b6269ef6-ab86-44eb-b4e6-04a23ed8655c",
   "metadata": {},
   "outputs": [
    {
     "data": {
      "text/plain": [
       "['__add__',\n",
       " '__class__',\n",
       " '__contains__',\n",
       " '__delattr__',\n",
       " '__dir__',\n",
       " '__doc__',\n",
       " '__eq__',\n",
       " '__format__',\n",
       " '__ge__',\n",
       " '__getattribute__',\n",
       " '__getitem__',\n",
       " '__getnewargs__',\n",
       " '__gt__',\n",
       " '__hash__',\n",
       " '__init__',\n",
       " '__init_subclass__',\n",
       " '__iter__',\n",
       " '__le__',\n",
       " '__len__',\n",
       " '__lt__',\n",
       " '__mod__',\n",
       " '__mul__',\n",
       " '__ne__',\n",
       " '__new__',\n",
       " '__reduce__',\n",
       " '__reduce_ex__',\n",
       " '__repr__',\n",
       " '__rmod__',\n",
       " '__rmul__',\n",
       " '__setattr__',\n",
       " '__sizeof__',\n",
       " '__str__',\n",
       " '__subclasshook__',\n",
       " 'capitalize',\n",
       " 'casefold',\n",
       " 'center',\n",
       " 'count',\n",
       " 'encode',\n",
       " 'endswith',\n",
       " 'expandtabs',\n",
       " 'find',\n",
       " 'format',\n",
       " 'format_map',\n",
       " 'index',\n",
       " 'isalnum',\n",
       " 'isalpha',\n",
       " 'isascii',\n",
       " 'isdecimal',\n",
       " 'isdigit',\n",
       " 'isidentifier',\n",
       " 'islower',\n",
       " 'isnumeric',\n",
       " 'isprintable',\n",
       " 'isspace',\n",
       " 'istitle',\n",
       " 'isupper',\n",
       " 'join',\n",
       " 'ljust',\n",
       " 'lower',\n",
       " 'lstrip',\n",
       " 'maketrans',\n",
       " 'partition',\n",
       " 'removeprefix',\n",
       " 'removesuffix',\n",
       " 'replace',\n",
       " 'rfind',\n",
       " 'rindex',\n",
       " 'rjust',\n",
       " 'rpartition',\n",
       " 'rsplit',\n",
       " 'rstrip',\n",
       " 'split',\n",
       " 'splitlines',\n",
       " 'startswith',\n",
       " 'strip',\n",
       " 'swapcase',\n",
       " 'title',\n",
       " 'translate',\n",
       " 'upper',\n",
       " 'zfill']"
      ]
     },
     "execution_count": 29,
     "metadata": {},
     "output_type": "execute_result"
    }
   ],
   "source": [
    "dir(str)"
   ]
  },
  {
   "cell_type": "markdown",
   "id": "96a0c04e-64b9-42e8-b2f3-c6f80c021bac",
   "metadata": {},
   "source": [
    "## Property Decorators"
   ]
  },
  {
   "cell_type": "code",
   "execution_count": 30,
   "id": "fae7eb46-fe2b-4d1a-9122-459b130a4c78",
   "metadata": {},
   "outputs": [],
   "source": [
    "class pwskills:\n",
    "    def __init__(self,course_name,course_price):\n",
    "        self.course_name=course_name\n",
    "        self.__course_price=course_price\n",
    "        \n",
    "    @property\n",
    "    def course_price_access(self):\n",
    "        return self.__course_price"
   ]
  },
  {
   "cell_type": "code",
   "execution_count": 31,
   "id": "36422774-4bed-4b76-8ba1-638f2626719f",
   "metadata": {},
   "outputs": [],
   "source": [
    "pw=pwskills(\"jhegde\",6324)"
   ]
  },
  {
   "cell_type": "code",
   "execution_count": 33,
   "id": "a7894b3d-ff82-4bca-9d15-dcbf22dc208b",
   "metadata": {},
   "outputs": [
    {
     "data": {
      "text/plain": [
       "6324"
      ]
     },
     "execution_count": 33,
     "metadata": {},
     "output_type": "execute_result"
    }
   ],
   "source": [
    "pw.course_price_access"
   ]
  },
  {
   "cell_type": "code",
   "execution_count": 34,
   "id": "bd3126c9-19de-4221-a919-fce6aff53ad5",
   "metadata": {},
   "outputs": [],
   "source": [
    "## This only allows access to see not to modify"
   ]
  },
  {
   "cell_type": "code",
   "execution_count": 35,
   "id": "e893ae3f-18ed-40f5-af86-8e493e6ab3c6",
   "metadata": {},
   "outputs": [],
   "source": [
    "class pwskills:\n",
    "    def __init__(self,course_name,course_price):\n",
    "        self.course_name=course_name\n",
    "        self.__course_price=course_price\n",
    "        \n",
    "    @property\n",
    "    def course_price_access(self):\n",
    "        return self.__course_price\n",
    "    \n",
    "    @course_price_access.setter\n",
    "    def course_price_set(self,price):\n",
    "        self.__course_price=price"
   ]
  },
  {
   "cell_type": "code",
   "execution_count": 36,
   "id": "6a85d34b-9648-4855-94a7-fc02289d9da2",
   "metadata": {},
   "outputs": [],
   "source": [
    "pw1=pwskills(\"gshxj\",6276)"
   ]
  },
  {
   "cell_type": "code",
   "execution_count": 37,
   "id": "4d2c6ae1-3355-4ea9-ae1e-8bac7bbae849",
   "metadata": {},
   "outputs": [
    {
     "data": {
      "text/plain": [
       "6276"
      ]
     },
     "execution_count": 37,
     "metadata": {},
     "output_type": "execute_result"
    }
   ],
   "source": [
    "pw1.course_price_access"
   ]
  },
  {
   "cell_type": "code",
   "execution_count": 39,
   "id": "df776b7b-da98-49e3-8b95-ac62a61da057",
   "metadata": {},
   "outputs": [],
   "source": [
    "pw1.course_price_set=2345"
   ]
  },
  {
   "cell_type": "code",
   "execution_count": 40,
   "id": "d28b4623-d814-404e-8285-5a67bbaf0d8c",
   "metadata": {},
   "outputs": [
    {
     "data": {
      "text/plain": [
       "2345"
      ]
     },
     "execution_count": 40,
     "metadata": {},
     "output_type": "execute_result"
    }
   ],
   "source": [
    "pw1.course_price_access"
   ]
  },
  {
   "cell_type": "code",
   "execution_count": 41,
   "id": "8f60db95-8c05-4215-9a98-58b781839f23",
   "metadata": {},
   "outputs": [],
   "source": [
    "## For Deletion"
   ]
  },
  {
   "cell_type": "code",
   "execution_count": 42,
   "id": "c9eb2a3b-8666-4b43-82ca-a6fd3e842934",
   "metadata": {},
   "outputs": [],
   "source": [
    "class pwskills:\n",
    "    def __init__(self,course_name,course_price):\n",
    "        self.course_name=course_name\n",
    "        self.__course_price=course_price\n",
    "        \n",
    "    @property\n",
    "    def course_price_access(self):\n",
    "        return self.__course_price\n",
    "    \n",
    "    @course_price_access.deleter\n",
    "    def course_price_del(self):\n",
    "        del self.__course_price"
   ]
  },
  {
   "cell_type": "code",
   "execution_count": 43,
   "id": "e96af847-b9f8-4347-a8c6-39a9d29bb3ca",
   "metadata": {},
   "outputs": [],
   "source": [
    "pw2=pwskills(\"gfgf\",5332)"
   ]
  },
  {
   "cell_type": "code",
   "execution_count": 46,
   "id": "4ee91b2f-2108-4c24-b09d-0f7141c7b40a",
   "metadata": {},
   "outputs": [],
   "source": [
    "del pw2.course_price_del"
   ]
  },
  {
   "cell_type": "code",
   "execution_count": 47,
   "id": "0c77f9e5-126d-4701-bfdf-28d1de5c334a",
   "metadata": {},
   "outputs": [
    {
     "ename": "AttributeError",
     "evalue": "'pwskills' object has no attribute '_pwskills__course_price'",
     "output_type": "error",
     "traceback": [
      "\u001b[0;31m---------------------------------------------------------------------------\u001b[0m",
      "\u001b[0;31mAttributeError\u001b[0m                            Traceback (most recent call last)",
      "Cell \u001b[0;32mIn[47], line 1\u001b[0m\n\u001b[0;32m----> 1\u001b[0m \u001b[43mpw2\u001b[49m\u001b[38;5;241;43m.\u001b[39;49m\u001b[43mcourse_price_access\u001b[49m\n",
      "Cell \u001b[0;32mIn[42], line 8\u001b[0m, in \u001b[0;36mpwskills.course_price_access\u001b[0;34m(self)\u001b[0m\n\u001b[1;32m      6\u001b[0m \u001b[38;5;129m@property\u001b[39m\n\u001b[1;32m      7\u001b[0m \u001b[38;5;28;01mdef\u001b[39;00m \u001b[38;5;21mcourse_price_access\u001b[39m(\u001b[38;5;28mself\u001b[39m):\n\u001b[0;32m----> 8\u001b[0m     \u001b[38;5;28;01mreturn\u001b[39;00m \u001b[38;5;28;43mself\u001b[39;49m\u001b[38;5;241;43m.\u001b[39;49m\u001b[43m__course_price\u001b[49m\n",
      "\u001b[0;31mAttributeError\u001b[0m: 'pwskills' object has no attribute '_pwskills__course_price'"
     ]
    }
   ],
   "source": [
    "pw2.course_price_access"
   ]
  }
 ],
 "metadata": {
  "kernelspec": {
   "display_name": "Python 3 (ipykernel)",
   "language": "python",
   "name": "python3"
  },
  "language_info": {
   "codemirror_mode": {
    "name": "ipython",
    "version": 3
   },
   "file_extension": ".py",
   "mimetype": "text/x-python",
   "name": "python",
   "nbconvert_exporter": "python",
   "pygments_lexer": "ipython3",
   "version": "3.10.8"
  }
 },
 "nbformat": 4,
 "nbformat_minor": 5
}
