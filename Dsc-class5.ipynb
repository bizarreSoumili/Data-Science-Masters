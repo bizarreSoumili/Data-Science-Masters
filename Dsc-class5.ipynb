{
 "cells": [
  {
   "cell_type": "markdown",
   "id": "456533de-a20a-438f-a3c5-27e815838e1b",
   "metadata": {},
   "source": [
    "## TUPLE"
   ]
  },
  {
   "cell_type": "code",
   "execution_count": 1,
   "id": "26d08d86-c4fd-48c5-807f-8efa1e2d93c7",
   "metadata": {},
   "outputs": [],
   "source": [
    "t=()"
   ]
  },
  {
   "cell_type": "code",
   "execution_count": 2,
   "id": "d39001a8-2a8d-4ca7-8145-8c3294ca0d20",
   "metadata": {},
   "outputs": [
    {
     "data": {
      "text/plain": [
       "tuple"
      ]
     },
     "execution_count": 2,
     "metadata": {},
     "output_type": "execute_result"
    }
   ],
   "source": [
    "type(t)"
   ]
  },
  {
   "cell_type": "code",
   "execution_count": 10,
   "id": "f6bba1a7-da2a-41cf-91c4-842d5a02d67e",
   "metadata": {},
   "outputs": [],
   "source": [
    "t1=(1,2,3,4,5,True, 1+4j,\"sudh\") "
   ]
  },
  {
   "cell_type": "code",
   "execution_count": 11,
   "id": "557be455-c437-4859-969c-b36451f96351",
   "metadata": {},
   "outputs": [
    {
     "data": {
      "text/plain": [
       "True"
      ]
     },
     "execution_count": 11,
     "metadata": {},
     "output_type": "execute_result"
    }
   ],
   "source": [
    "t1[5]"
   ]
  },
  {
   "cell_type": "code",
   "execution_count": 12,
   "id": "bea497e9-ef91-48af-b9b9-582371c2c68f",
   "metadata": {},
   "outputs": [
    {
     "data": {
      "text/plain": [
       "('sudh', (1+4j), True, 5, 4, 3, 2, 1)"
      ]
     },
     "execution_count": 12,
     "metadata": {},
     "output_type": "execute_result"
    }
   ],
   "source": [
    "t1[::-1]"
   ]
  },
  {
   "cell_type": "code",
   "execution_count": 13,
   "id": "90ed16b4-5949-451a-90be-21c548f5d94b",
   "metadata": {},
   "outputs": [
    {
     "data": {
      "text/plain": [
       "1"
      ]
     },
     "execution_count": 13,
     "metadata": {},
     "output_type": "execute_result"
    }
   ],
   "source": [
    "t1.count(4)"
   ]
  },
  {
   "cell_type": "code",
   "execution_count": 14,
   "id": "dc07a9a2-19bc-4dc3-95c5-4a1c574dcb56",
   "metadata": {},
   "outputs": [],
   "source": [
    "t1=t1[::-1]"
   ]
  },
  {
   "cell_type": "code",
   "execution_count": 15,
   "id": "078796d5-422f-4681-97ed-edbe0d67015a",
   "metadata": {},
   "outputs": [
    {
     "data": {
      "text/plain": [
       "('sudh', (1+4j), True, 5, 4, 3, 2, 1)"
      ]
     },
     "execution_count": 15,
     "metadata": {},
     "output_type": "execute_result"
    }
   ],
   "source": [
    "t1"
   ]
  },
  {
   "cell_type": "code",
   "execution_count": 17,
   "id": "cabe4748-4ae0-4b2e-ba14-93630e896492",
   "metadata": {},
   "outputs": [
    {
     "data": {
      "text/plain": [
       "2"
      ]
     },
     "execution_count": 17,
     "metadata": {},
     "output_type": "execute_result"
    }
   ],
   "source": [
    "t1.index(1) ##True is stored within the system as 1"
   ]
  },
  {
   "cell_type": "code",
   "execution_count": 18,
   "id": "8121c473-82f5-4823-b7a5-bee7c92bb1fb",
   "metadata": {},
   "outputs": [
    {
     "data": {
      "text/plain": [
       "3"
      ]
     },
     "execution_count": 18,
     "metadata": {},
     "output_type": "execute_result"
    }
   ],
   "source": [
    "t1.index(5)"
   ]
  },
  {
   "cell_type": "code",
   "execution_count": 19,
   "id": "ab471b2e-e588-42fe-81cd-29b93ee86288",
   "metadata": {},
   "outputs": [
    {
     "ename": "ValueError",
     "evalue": "tuple.index(x): x not in tuple",
     "output_type": "error",
     "traceback": [
      "\u001b[0;31m---------------------------------------------------------------------------\u001b[0m",
      "\u001b[0;31mValueError\u001b[0m                                Traceback (most recent call last)",
      "Cell \u001b[0;32mIn[19], line 1\u001b[0m\n\u001b[0;32m----> 1\u001b[0m \u001b[43mt1\u001b[49m\u001b[38;5;241;43m.\u001b[39;49m\u001b[43mindex\u001b[49m\u001b[43m(\u001b[49m\u001b[38;5;241;43m8\u001b[39;49m\u001b[43m)\u001b[49m\n",
      "\u001b[0;31mValueError\u001b[0m: tuple.index(x): x not in tuple"
     ]
    }
   ],
   "source": [
    "t1.index(8)"
   ]
  },
  {
   "cell_type": "code",
   "execution_count": 21,
   "id": "203eec66-6d44-4049-bb0a-bc54fb166fd9",
   "metadata": {},
   "outputs": [
    {
     "data": {
      "text/plain": [
       "2"
      ]
     },
     "execution_count": 21,
     "metadata": {},
     "output_type": "execute_result"
    }
   ],
   "source": [
    "t1.count(True) ##As internally true is stored as 1 and false as zero"
   ]
  },
  {
   "cell_type": "code",
   "execution_count": 24,
   "id": "1713e013-9d82-42f4-b692-cb16659783eb",
   "metadata": {},
   "outputs": [
    {
     "data": {
      "text/plain": [
       "1"
      ]
     },
     "execution_count": 24,
     "metadata": {},
     "output_type": "execute_result"
    }
   ],
   "source": [
    "t2=(0,1)\n",
    "t2.count(False)"
   ]
  },
  {
   "cell_type": "code",
   "execution_count": 25,
   "id": "2fac9db3-4ccb-4464-b3d0-1bc41bd4c9c6",
   "metadata": {},
   "outputs": [
    {
     "ename": "TypeError",
     "evalue": "'tuple' object does not support item assignment",
     "output_type": "error",
     "traceback": [
      "\u001b[0;31m---------------------------------------------------------------------------\u001b[0m",
      "\u001b[0;31mTypeError\u001b[0m                                 Traceback (most recent call last)",
      "Cell \u001b[0;32mIn[25], line 1\u001b[0m\n\u001b[0;32m----> 1\u001b[0m \u001b[43mt1\u001b[49m\u001b[43m[\u001b[49m\u001b[38;5;241;43m1\u001b[39;49m\u001b[43m]\u001b[49m\u001b[38;5;241m=\u001b[39m\u001b[38;5;241m9\u001b[39m\n",
      "\u001b[0;31mTypeError\u001b[0m: 'tuple' object does not support item assignment"
     ]
    }
   ],
   "source": [
    "t1[1]=9"
   ]
  },
  {
   "cell_type": "code",
   "execution_count": 26,
   "id": "e31307e4-ed4e-4f8e-bab3-c12faae19731",
   "metadata": {},
   "outputs": [],
   "source": [
    "l=[1,2,3,4]"
   ]
  },
  {
   "cell_type": "code",
   "execution_count": 27,
   "id": "d285961f-bf10-43fa-bb7e-fb61ce7fe0e6",
   "metadata": {},
   "outputs": [],
   "source": [
    "l[1]=200"
   ]
  },
  {
   "cell_type": "code",
   "execution_count": 28,
   "id": "66b06070-3c71-4c86-8d4d-d88c5bd867eb",
   "metadata": {},
   "outputs": [
    {
     "data": {
      "text/plain": [
       "[1, 200, 3, 4]"
      ]
     },
     "execution_count": 28,
     "metadata": {},
     "output_type": "execute_result"
    }
   ],
   "source": [
    "l"
   ]
  },
  {
   "cell_type": "code",
   "execution_count": 29,
   "id": "96c78d43-cb26-441b-b399-9dffd6ab5e93",
   "metadata": {},
   "outputs": [
    {
     "name": "stdout",
     "output_type": "stream",
     "text": [
      "sudh <class 'str'>\n",
      "(1+4j) <class 'complex'>\n",
      "True <class 'bool'>\n",
      "5 <class 'int'>\n",
      "4 <class 'int'>\n",
      "3 <class 'int'>\n",
      "2 <class 'int'>\n",
      "1 <class 'int'>\n"
     ]
    }
   ],
   "source": [
    "for i in t1:\n",
    "    print(i, type(i))"
   ]
  },
  {
   "cell_type": "code",
   "execution_count": 31,
   "id": "494321cb-c685-4171-930f-f6ca46ed528b",
   "metadata": {},
   "outputs": [],
   "source": [
    "t2=(1,2,3,4,5)"
   ]
  },
  {
   "cell_type": "code",
   "execution_count": 32,
   "id": "1fb7e560-3689-48b7-adc1-1feea33e4c2d",
   "metadata": {},
   "outputs": [
    {
     "data": {
      "text/plain": [
       "(1, 2, 3, 4, 5, 1, 2, 3, 4, 5, 1, 2, 3, 4, 5)"
      ]
     },
     "execution_count": 32,
     "metadata": {},
     "output_type": "execute_result"
    }
   ],
   "source": [
    "t2*3"
   ]
  },
  {
   "cell_type": "code",
   "execution_count": 33,
   "id": "aef43489-f386-4a26-abbe-fd0ea3663d18",
   "metadata": {},
   "outputs": [
    {
     "data": {
      "text/plain": [
       "5"
      ]
     },
     "execution_count": 33,
     "metadata": {},
     "output_type": "execute_result"
    }
   ],
   "source": [
    "max(t2)"
   ]
  },
  {
   "cell_type": "code",
   "execution_count": 34,
   "id": "bf2e2f11-1331-4c38-8e9d-2e7e2cb97309",
   "metadata": {},
   "outputs": [
    {
     "data": {
      "text/plain": [
       "1"
      ]
     },
     "execution_count": 34,
     "metadata": {},
     "output_type": "execute_result"
    }
   ],
   "source": [
    "min(t2)"
   ]
  },
  {
   "cell_type": "code",
   "execution_count": 35,
   "id": "5e5bc5ed-256f-4267-b2a9-4396e18b3a64",
   "metadata": {},
   "outputs": [
    {
     "ename": "TypeError",
     "evalue": "'>' not supported between instances of 'complex' and 'str'",
     "output_type": "error",
     "traceback": [
      "\u001b[0;31m---------------------------------------------------------------------------\u001b[0m",
      "\u001b[0;31mTypeError\u001b[0m                                 Traceback (most recent call last)",
      "Cell \u001b[0;32mIn[35], line 1\u001b[0m\n\u001b[0;32m----> 1\u001b[0m \u001b[38;5;28;43mmax\u001b[39;49m\u001b[43m(\u001b[49m\u001b[43mt1\u001b[49m\u001b[43m)\u001b[49m\n",
      "\u001b[0;31mTypeError\u001b[0m: '>' not supported between instances of 'complex' and 'str'"
     ]
    }
   ],
   "source": [
    "max(t1)"
   ]
  },
  {
   "cell_type": "code",
   "execution_count": 36,
   "id": "b54211bb-497d-43ed-9b52-bc176eec77e3",
   "metadata": {},
   "outputs": [],
   "source": [
    "t3=(t1,t2)"
   ]
  },
  {
   "cell_type": "code",
   "execution_count": 37,
   "id": "ddb54afb-99a3-4796-bd4a-3df132fa2792",
   "metadata": {},
   "outputs": [
    {
     "data": {
      "text/plain": [
       "(('sudh', (1+4j), True, 5, 4, 3, 2, 1), (1, 2, 3, 4, 5))"
      ]
     },
     "execution_count": 37,
     "metadata": {},
     "output_type": "execute_result"
    }
   ],
   "source": [
    "t3"
   ]
  },
  {
   "cell_type": "code",
   "execution_count": 38,
   "id": "f56dee85-e19a-43e7-aab8-3e96c896b1d2",
   "metadata": {},
   "outputs": [],
   "source": [
    "l1=[l,l]"
   ]
  },
  {
   "cell_type": "code",
   "execution_count": 39,
   "id": "7fc18673-0dc0-49e3-be40-0d39964cfd2c",
   "metadata": {},
   "outputs": [
    {
     "data": {
      "text/plain": [
       "[[1, 200, 3, 4], [1, 200, 3, 4]]"
      ]
     },
     "execution_count": 39,
     "metadata": {},
     "output_type": "execute_result"
    }
   ],
   "source": [
    "l1"
   ]
  },
  {
   "cell_type": "code",
   "execution_count": 40,
   "id": "8ced7802-70f2-4dc0-9907-1dda85b6de89",
   "metadata": {},
   "outputs": [],
   "source": [
    "l2=[l,t2]"
   ]
  },
  {
   "cell_type": "code",
   "execution_count": 41,
   "id": "7d98cf17-d29c-4420-9c58-ca3f033240fb",
   "metadata": {},
   "outputs": [
    {
     "data": {
      "text/plain": [
       "[[1, 200, 3, 4], (1, 2, 3, 4, 5)]"
      ]
     },
     "execution_count": 41,
     "metadata": {},
     "output_type": "execute_result"
    }
   ],
   "source": [
    "l2"
   ]
  },
  {
   "cell_type": "code",
   "execution_count": 42,
   "id": "35bc72e1-1692-4159-8891-544c86f0e063",
   "metadata": {},
   "outputs": [],
   "source": [
    "del t3"
   ]
  },
  {
   "cell_type": "code",
   "execution_count": 44,
   "id": "83989f99-8c95-4ed1-982e-da8d817856c3",
   "metadata": {},
   "outputs": [
    {
     "ename": "NameError",
     "evalue": "name 't3' is not defined",
     "output_type": "error",
     "traceback": [
      "\u001b[0;31m---------------------------------------------------------------------------\u001b[0m",
      "\u001b[0;31mNameError\u001b[0m                                 Traceback (most recent call last)",
      "Cell \u001b[0;32mIn[44], line 1\u001b[0m\n\u001b[0;32m----> 1\u001b[0m \u001b[43mt3\u001b[49m\n",
      "\u001b[0;31mNameError\u001b[0m: name 't3' is not defined"
     ]
    }
   ],
   "source": [
    "t3"
   ]
  },
  {
   "cell_type": "code",
   "execution_count": 45,
   "id": "784c7c88-a7af-478a-b1d7-5705424cd1c4",
   "metadata": {},
   "outputs": [
    {
     "data": {
      "text/plain": [
       "8"
      ]
     },
     "execution_count": 45,
     "metadata": {},
     "output_type": "execute_result"
    }
   ],
   "source": [
    " len(t1)"
   ]
  },
  {
   "cell_type": "code",
   "execution_count": 46,
   "id": "13d62cbc-991e-483c-9fed-03584ea075ea",
   "metadata": {},
   "outputs": [
    {
     "data": {
      "text/plain": [
       "True"
      ]
     },
     "execution_count": 46,
     "metadata": {},
     "output_type": "execute_result"
    }
   ],
   "source": [
    "\"sudh\" in t1"
   ]
  },
  {
   "cell_type": "code",
   "execution_count": 47,
   "id": "aac1b043-f787-4800-9b64-138728e9de16",
   "metadata": {},
   "outputs": [
    {
     "data": {
      "text/plain": [
       "False"
      ]
     },
     "execution_count": 47,
     "metadata": {},
     "output_type": "execute_result"
    }
   ],
   "source": [
    "\"w\" in t1"
   ]
  },
  {
   "cell_type": "markdown",
   "id": "2693c4cf-e25e-4931-a394-9a3662b5d94c",
   "metadata": {},
   "source": [
    "## SETS"
   ]
  },
  {
   "cell_type": "code",
   "execution_count": 49,
   "id": "ac35fb6a-b533-42be-92cf-053317f2f9e5",
   "metadata": {},
   "outputs": [],
   "source": [
    "s={}"
   ]
  },
  {
   "cell_type": "code",
   "execution_count": 50,
   "id": "ed4a6718-1132-41ea-9d7e-987ae9ed42c1",
   "metadata": {},
   "outputs": [
    {
     "data": {
      "text/plain": [
       "dict"
      ]
     },
     "execution_count": 50,
     "metadata": {},
     "output_type": "execute_result"
    }
   ],
   "source": [
    "type(s)"
   ]
  },
  {
   "cell_type": "code",
   "execution_count": 51,
   "id": "de2cc3c8-163c-437c-9ac0-56d7bbc3a688",
   "metadata": {},
   "outputs": [],
   "source": [
    "s={1,2,3,4,5}"
   ]
  },
  {
   "cell_type": "code",
   "execution_count": 52,
   "id": "7af0065b-f9d3-4c96-ae92-21fa84f01f0a",
   "metadata": {},
   "outputs": [
    {
     "data": {
      "text/plain": [
       "set"
      ]
     },
     "execution_count": 52,
     "metadata": {},
     "output_type": "execute_result"
    }
   ],
   "source": [
    "type(s)"
   ]
  },
  {
   "cell_type": "code",
   "execution_count": 53,
   "id": "863f0f18-173c-4c30-b077-7f42bdb99b11",
   "metadata": {},
   "outputs": [],
   "source": [
    "s2={2,1,3,4,5,6,2,4,8,54,2,4,6,77,.5,634,67}"
   ]
  },
  {
   "cell_type": "code",
   "execution_count": 54,
   "id": "068af815-9882-420f-a6c8-6040d2c89cc6",
   "metadata": {},
   "outputs": [
    {
     "data": {
      "text/plain": [
       "{0.5, 1, 2, 3, 4, 5, 6, 8, 54, 67, 77, 634}"
      ]
     },
     "execution_count": 54,
     "metadata": {},
     "output_type": "execute_result"
    }
   ],
   "source": [
    "s2"
   ]
  },
  {
   "cell_type": "code",
   "execution_count": 55,
   "id": "86e28741-66c4-4963-9998-03b87efd73b4",
   "metadata": {},
   "outputs": [],
   "source": [
    "l=[1,2,3,3,2,4,5]"
   ]
  },
  {
   "cell_type": "code",
   "execution_count": 56,
   "id": "2578888f-fdb3-47da-a0f5-0b5dd340de5e",
   "metadata": {},
   "outputs": [
    {
     "data": {
      "text/plain": [
       "[1, 2, 3, 3, 2, 4, 5]"
      ]
     },
     "execution_count": 56,
     "metadata": {},
     "output_type": "execute_result"
    }
   ],
   "source": [
    "l"
   ]
  },
  {
   "cell_type": "code",
   "execution_count": 57,
   "id": "0f5f3008-9090-44c7-a227-d0f092f4be9b",
   "metadata": {},
   "outputs": [],
   "source": [
    "t=(1,2,3,3,4,5)"
   ]
  },
  {
   "cell_type": "code",
   "execution_count": 58,
   "id": "ebfb1b21-9c3c-41ac-9f91-303a0e14ea42",
   "metadata": {},
   "outputs": [
    {
     "data": {
      "text/plain": [
       "(1, 2, 3, 3, 4, 5)"
      ]
     },
     "execution_count": 58,
     "metadata": {},
     "output_type": "execute_result"
    }
   ],
   "source": [
    "t"
   ]
  },
  {
   "cell_type": "code",
   "execution_count": 61,
   "id": "f7bab989-9705-4277-8121-02b6ed84c449",
   "metadata": {},
   "outputs": [],
   "source": [
    "l=list(s2)"
   ]
  },
  {
   "cell_type": "code",
   "execution_count": 60,
   "id": "0c53220f-f5cb-4465-b291-59a8805617d3",
   "metadata": {},
   "outputs": [
    {
     "data": {
      "text/plain": [
       "(0.5, 1, 2, 3, 4, 5, 6, 67, 8, 77, 54, 634)"
      ]
     },
     "execution_count": 60,
     "metadata": {},
     "output_type": "execute_result"
    }
   ],
   "source": [
    "tuple(s2)"
   ]
  },
  {
   "cell_type": "code",
   "execution_count": 62,
   "id": "15bc3d90-52fe-4ece-b0a6-04d96865b2f8",
   "metadata": {},
   "outputs": [
    {
     "data": {
      "text/plain": [
       "{0.5, 1, 2, 3, 4, 5, 6, 8, 54, 67, 77, 634}"
      ]
     },
     "execution_count": 62,
     "metadata": {},
     "output_type": "execute_result"
    }
   ],
   "source": [
    "set(l)"
   ]
  },
  {
   "cell_type": "code",
   "execution_count": 64,
   "id": "3cd782da-f59d-4dc9-a4f5-536f58fdc5e3",
   "metadata": {},
   "outputs": [
    {
     "ename": "TypeError",
     "evalue": "unhashable type: 'list'",
     "output_type": "error",
     "traceback": [
      "\u001b[0;31m---------------------------------------------------------------------------\u001b[0m",
      "\u001b[0;31mTypeError\u001b[0m                                 Traceback (most recent call last)",
      "Cell \u001b[0;32mIn[64], line 1\u001b[0m\n\u001b[0;32m----> 1\u001b[0m s\u001b[38;5;241m=\u001b[39m{\u001b[38;5;241m1\u001b[39m,\u001b[38;5;241m2\u001b[39m,\u001b[38;5;241m3\u001b[39m,\u001b[38;5;241m4\u001b[39m,[\u001b[38;5;241m12\u001b[39m,\u001b[38;5;241m3\u001b[39m,\u001b[38;5;241m4\u001b[39m]}\n",
      "\u001b[0;31mTypeError\u001b[0m: unhashable type: 'list'"
     ]
    }
   ],
   "source": [
    "s={1,2,3,4,[12,3,4]}"
   ]
  },
  {
   "cell_type": "code",
   "execution_count": 65,
   "id": "7ae51aef-154a-4e28-9737-217252cd1b6d",
   "metadata": {},
   "outputs": [],
   "source": [
    "s={1,2,3,4,(1,2,3,4)}"
   ]
  },
  {
   "cell_type": "code",
   "execution_count": 66,
   "id": "dbb7b7b6-327b-418f-8c9a-ebda0639ae3f",
   "metadata": {},
   "outputs": [],
   "source": [
    "s1={\"sudh\",\"Sudh\"}"
   ]
  },
  {
   "cell_type": "code",
   "execution_count": 70,
   "id": "445490a2-8346-4663-b26b-f20d7aa144b7",
   "metadata": {},
   "outputs": [
    {
     "data": {
      "text/plain": [
       "{'Sudh', 'sudh'}"
      ]
     },
     "execution_count": 70,
     "metadata": {},
     "output_type": "execute_result"
    }
   ],
   "source": [
    "s1    ## Python is case sensitive"
   ]
  },
  {
   "cell_type": "code",
   "execution_count": 68,
   "id": "b04ee076-1f13-4a41-88f7-d556a999ecfc",
   "metadata": {},
   "outputs": [],
   "source": [
    "s2={\"sudh\",\"sudh\"}"
   ]
  },
  {
   "cell_type": "code",
   "execution_count": 69,
   "id": "3521f6fa-88db-4dbe-a6f1-a0d39d1dc58d",
   "metadata": {},
   "outputs": [
    {
     "data": {
      "text/plain": [
       "{'sudh'}"
      ]
     },
     "execution_count": 69,
     "metadata": {},
     "output_type": "execute_result"
    }
   ],
   "source": [
    "s2"
   ]
  },
  {
   "cell_type": "code",
   "execution_count": 72,
   "id": "2e19339b-5764-4dba-8dc7-47cc25959672",
   "metadata": {},
   "outputs": [
    {
     "ename": "TypeError",
     "evalue": "'set' object is not subscriptable",
     "output_type": "error",
     "traceback": [
      "\u001b[0;31m---------------------------------------------------------------------------\u001b[0m",
      "\u001b[0;31mTypeError\u001b[0m                                 Traceback (most recent call last)",
      "Cell \u001b[0;32mIn[72], line 1\u001b[0m\n\u001b[0;32m----> 1\u001b[0m \u001b[43ms2\u001b[49m\u001b[43m[\u001b[49m\u001b[38;5;241;43m0\u001b[39;49m\u001b[43m]\u001b[49m\n",
      "\u001b[0;31mTypeError\u001b[0m: 'set' object is not subscriptable"
     ]
    }
   ],
   "source": [
    "s2[0]"
   ]
  },
  {
   "cell_type": "code",
   "execution_count": 74,
   "id": "5c85ac47-0ecd-46c8-b363-363036553718",
   "metadata": {},
   "outputs": [
    {
     "name": "stdout",
     "output_type": "stream",
     "text": [
      "sudh\n"
     ]
    }
   ],
   "source": [
    "for i in s2:\n",
    "    print(i)"
   ]
  },
  {
   "cell_type": "code",
   "execution_count": 77,
   "id": "f58e677b-1079-4be1-9619-ed1b4694cec9",
   "metadata": {},
   "outputs": [],
   "source": [
    "s.add(34)"
   ]
  },
  {
   "cell_type": "code",
   "execution_count": 80,
   "id": "efcf518f-555d-456a-9536-24adcf306c5e",
   "metadata": {},
   "outputs": [
    {
     "data": {
      "text/plain": [
       "{(1, 2, 3, 4), 1, 2, 3, 34, 4}"
      ]
     },
     "execution_count": 80,
     "metadata": {},
     "output_type": "execute_result"
    }
   ],
   "source": [
    "s"
   ]
  },
  {
   "cell_type": "code",
   "execution_count": 81,
   "id": "6d1aab0b-eb54-4b83-8fe5-55025408fc3a",
   "metadata": {},
   "outputs": [],
   "source": [
    "s.add(2)"
   ]
  },
  {
   "cell_type": "code",
   "execution_count": 84,
   "id": "81a77942-da61-4270-9eef-e439bd699c66",
   "metadata": {},
   "outputs": [
    {
     "data": {
      "text/plain": [
       "{(1, 2, 3, 4), 1, 2, 3, 34, 4}"
      ]
     },
     "execution_count": 84,
     "metadata": {},
     "output_type": "execute_result"
    }
   ],
   "source": [
    "s  ## Nothing will be added as 2 already exists"
   ]
  },
  {
   "cell_type": "code",
   "execution_count": 85,
   "id": "d5cd1ca2-3ee0-4ff3-9726-7ba9cd93ec6c",
   "metadata": {},
   "outputs": [
    {
     "data": {
      "text/plain": [
       "6"
      ]
     },
     "execution_count": 85,
     "metadata": {},
     "output_type": "execute_result"
    }
   ],
   "source": [
    "len(s)"
   ]
  },
  {
   "cell_type": "code",
   "execution_count": 86,
   "id": "93179d8b-4f58-40b7-a2bb-19c3042b0a85",
   "metadata": {},
   "outputs": [
    {
     "data": {
      "text/plain": [
       "(1, 2, 3, 4)"
      ]
     },
     "execution_count": 86,
     "metadata": {},
     "output_type": "execute_result"
    }
   ],
   "source": [
    "s.pop()"
   ]
  },
  {
   "cell_type": "code",
   "execution_count": 87,
   "id": "e99f00f2-5b4e-4861-926b-fff8470ac201",
   "metadata": {},
   "outputs": [
    {
     "data": {
      "text/plain": [
       "1"
      ]
     },
     "execution_count": 87,
     "metadata": {},
     "output_type": "execute_result"
    }
   ],
   "source": [
    "s.pop()"
   ]
  },
  {
   "cell_type": "code",
   "execution_count": 88,
   "id": "cf52ddc9-18c1-479b-b517-527945d8d937",
   "metadata": {},
   "outputs": [
    {
     "data": {
      "text/plain": [
       "2"
      ]
     },
     "execution_count": 88,
     "metadata": {},
     "output_type": "execute_result"
    }
   ],
   "source": [
    "s.pop()"
   ]
  },
  {
   "cell_type": "code",
   "execution_count": 89,
   "id": "91e45907-7682-4d0d-9952-d053943fe412",
   "metadata": {},
   "outputs": [],
   "source": [
    "s.clear()"
   ]
  },
  {
   "cell_type": "code",
   "execution_count": 90,
   "id": "c22d3a49-3702-4970-9f9d-afc043718f50",
   "metadata": {},
   "outputs": [
    {
     "data": {
      "text/plain": [
       "set()"
      ]
     },
     "execution_count": 90,
     "metadata": {},
     "output_type": "execute_result"
    }
   ],
   "source": [
    "s"
   ]
  },
  {
   "cell_type": "code",
   "execution_count": 24,
   "id": "1424f759-6970-4492-8a42-037250400bb2",
   "metadata": {},
   "outputs": [],
   "source": [
    "s3={1,2,3,4}\n",
    "s4={1,2,3,5}"
   ]
  },
  {
   "cell_type": "code",
   "execution_count": 93,
   "id": "25388b8d-6642-4706-9279-371b1449c0f6",
   "metadata": {},
   "outputs": [
    {
     "data": {
      "text/plain": [
       "{4}"
      ]
     },
     "execution_count": 93,
     "metadata": {},
     "output_type": "execute_result"
    }
   ],
   "source": [
    "s3.difference(s4)"
   ]
  },
  {
   "cell_type": "code",
   "execution_count": 94,
   "id": "c989328a-e9e3-41f4-bd1c-7dd03620e205",
   "metadata": {},
   "outputs": [
    {
     "data": {
      "text/plain": [
       "{5}"
      ]
     },
     "execution_count": 94,
     "metadata": {},
     "output_type": "execute_result"
    }
   ],
   "source": [
    "s4.difference(s3)"
   ]
  },
  {
   "cell_type": "code",
   "execution_count": 97,
   "id": "f9823a7e-5012-438d-9273-7a9e86e7888e",
   "metadata": {},
   "outputs": [],
   "source": [
    "s3={1,2,3,4,5}\n",
    "s4={1,2,3,5}"
   ]
  },
  {
   "cell_type": "code",
   "execution_count": 98,
   "id": "dfc57aa9-2d02-49e6-81c1-b69972238b7f",
   "metadata": {},
   "outputs": [
    {
     "data": {
      "text/plain": [
       "{4}"
      ]
     },
     "execution_count": 98,
     "metadata": {},
     "output_type": "execute_result"
    }
   ],
   "source": [
    "s3.difference(s4)"
   ]
  },
  {
   "cell_type": "code",
   "execution_count": 99,
   "id": "4edd9839-73f1-47fc-ae43-37710abfae0f",
   "metadata": {},
   "outputs": [
    {
     "data": {
      "text/plain": [
       "set()"
      ]
     },
     "execution_count": 99,
     "metadata": {},
     "output_type": "execute_result"
    }
   ],
   "source": [
    "s4.difference(s3)"
   ]
  },
  {
   "cell_type": "markdown",
   "id": "5c0a165b-68d2-4e41-ae72-097681a3c1e2",
   "metadata": {},
   "source": [
    "## Dictionary"
   ]
  },
  {
   "cell_type": "code",
   "execution_count": 82,
   "id": "abde90f0-b0d6-4512-8fb5-677dc14f3eaa",
   "metadata": {},
   "outputs": [],
   "source": [
    "d={}"
   ]
  },
  {
   "cell_type": "code",
   "execution_count": 2,
   "id": "aeafff52-5e79-456f-afe6-c661b6c0f2af",
   "metadata": {},
   "outputs": [
    {
     "data": {
      "text/plain": [
       "dict"
      ]
     },
     "execution_count": 2,
     "metadata": {},
     "output_type": "execute_result"
    }
   ],
   "source": [
    "type(d)"
   ]
  },
  {
   "cell_type": "code",
   "execution_count": 3,
   "id": "ee65ddb8-2971-4e63-adcb-6d5922e907bd",
   "metadata": {},
   "outputs": [],
   "source": [
    "d1={\"name\":\"Soumili\",\"roll no\":2229181}"
   ]
  },
  {
   "cell_type": "code",
   "execution_count": 4,
   "id": "c0673624-94c9-4870-b8ad-b0f641ff5b7e",
   "metadata": {},
   "outputs": [
    {
     "data": {
      "text/plain": [
       "{'name': 'Soumili', 'roll no': 2229181}"
      ]
     },
     "execution_count": 4,
     "metadata": {},
     "output_type": "execute_result"
    }
   ],
   "source": [
    "d1"
   ]
  },
  {
   "cell_type": "code",
   "execution_count": 5,
   "id": "52a29ba0-b725-41ea-b3ce-12eebe2fefd0",
   "metadata": {},
   "outputs": [],
   "source": [
    "d2={\"name\":\"sudh\",\"name\":\"Soumili\"}"
   ]
  },
  {
   "cell_type": "code",
   "execution_count": 6,
   "id": "47f82fd4-7918-4014-95a9-caad0a6ee82b",
   "metadata": {},
   "outputs": [
    {
     "data": {
      "text/plain": [
       "{'name': 'Soumili'}"
      ]
     },
     "execution_count": 6,
     "metadata": {},
     "output_type": "execute_result"
    }
   ],
   "source": [
    "d2                          ## This is because the key should be unique else the key will get updated"
   ]
  },
  {
   "cell_type": "code",
   "execution_count": 3,
   "id": "0db8425f-ad18-4c69-949a-eaca8d428447",
   "metadata": {},
   "outputs": [],
   "source": [
    "d3={234: \"sou\"}        ##THerefore key can be a no"
   ]
  },
  {
   "cell_type": "code",
   "execution_count": 2,
   "id": "2a08a0b2-3a24-4850-9976-451fe4fd7be7",
   "metadata": {},
   "outputs": [
    {
     "data": {
      "text/plain": [
       "{234: 'sou'}"
      ]
     },
     "execution_count": 2,
     "metadata": {},
     "output_type": "execute_result"
    }
   ],
   "source": [
    "d3"
   ]
  },
  {
   "cell_type": "code",
   "execution_count": 7,
   "id": "024c4bfe-9824-4e7e-a7b0-4d58451b49ae",
   "metadata": {},
   "outputs": [],
   "source": [
    "d4={234.23: \"siu\"}           ## key can be a float no"
   ]
  },
  {
   "cell_type": "code",
   "execution_count": 6,
   "id": "525b2141-e621-4835-be35-604795022175",
   "metadata": {},
   "outputs": [
    {
     "data": {
      "text/plain": [
       "{234.23: 'siu'}"
      ]
     },
     "execution_count": 6,
     "metadata": {},
     "output_type": "execute_result"
    }
   ],
   "source": [
    "d4"
   ]
  },
  {
   "cell_type": "code",
   "execution_count": 10,
   "id": "6d1840ef-adfe-4e97-af1a-6e7c141fc7f4",
   "metadata": {},
   "outputs": [],
   "source": [
    "d5={True : \"sdd\"}       ## key can be a boolean value"
   ]
  },
  {
   "cell_type": "code",
   "execution_count": 9,
   "id": "8fd6c4c3-3591-4a5e-9d74-2ec124f873eb",
   "metadata": {},
   "outputs": [
    {
     "data": {
      "text/plain": [
       "{True: 'sdd'}"
      ]
     },
     "execution_count": 9,
     "metadata": {},
     "output_type": "execute_result"
    }
   ],
   "source": [
    "d5"
   ]
  },
  {
   "cell_type": "code",
   "execution_count": 11,
   "id": "1943d8c5-7360-48f8-bbd0-fda2afb77692",
   "metadata": {},
   "outputs": [
    {
     "ename": "SyntaxError",
     "evalue": "invalid syntax (1766056278.py, line 1)",
     "output_type": "error",
     "traceback": [
      "\u001b[0;36m  Cell \u001b[0;32mIn[11], line 1\u001b[0;36m\u001b[0m\n\u001b[0;31m    d6={ %: \"sdf\"}    ## key cant be a special character\u001b[0m\n\u001b[0m         ^\u001b[0m\n\u001b[0;31mSyntaxError\u001b[0m\u001b[0;31m:\u001b[0m invalid syntax\n"
     ]
    }
   ],
   "source": [
    "d6={ %: \"sdf\"}    ## key cant be a special character"
   ]
  },
  {
   "cell_type": "code",
   "execution_count": 19,
   "id": "32a03b34-86a0-4b4d-aa83-3fe9af20fb1c",
   "metadata": {},
   "outputs": [
    {
     "ename": "TypeError",
     "evalue": "unhashable type: 'list'",
     "output_type": "error",
     "traceback": [
      "\u001b[0;31m---------------------------------------------------------------------------\u001b[0m",
      "\u001b[0;31mTypeError\u001b[0m                                 Traceback (most recent call last)",
      "Cell \u001b[0;32mIn[19], line 1\u001b[0m\n\u001b[0;32m----> 1\u001b[0m d7\u001b[38;5;241m=\u001b[39m{[\u001b[38;5;241m1\u001b[39m,\u001b[38;5;241m2\u001b[39m,\u001b[38;5;241m3\u001b[39m]: \u001b[38;5;124m\"\u001b[39m\u001b[38;5;124masd\u001b[39m\u001b[38;5;124m\"\u001b[39m}     \u001b[38;5;66;03m## key cant be a list\u001b[39;00m\n",
      "\u001b[0;31mTypeError\u001b[0m: unhashable type: 'list'"
     ]
    }
   ],
   "source": [
    "d7={[1,2,3]: \"asd\"}     ## key cant be a list"
   ]
  },
  {
   "cell_type": "code",
   "execution_count": 17,
   "id": "bd0d50fc-3db6-435d-ba0d-5c3e1426bde3",
   "metadata": {},
   "outputs": [],
   "source": [
    "d8={(1,2,3): \"asd\"}     ## key can be a tuple"
   ]
  },
  {
   "cell_type": "code",
   "execution_count": 18,
   "id": "25e3621f-a599-4fa0-bc15-35127cf6f7a3",
   "metadata": {},
   "outputs": [
    {
     "ename": "TypeError",
     "evalue": "unhashable type: 'set'",
     "output_type": "error",
     "traceback": [
      "\u001b[0;31m---------------------------------------------------------------------------\u001b[0m",
      "\u001b[0;31mTypeError\u001b[0m                                 Traceback (most recent call last)",
      "Cell \u001b[0;32mIn[18], line 1\u001b[0m\n\u001b[0;32m----> 1\u001b[0m d9\u001b[38;5;241m=\u001b[39m{{\u001b[38;5;241m1\u001b[39m,\u001b[38;5;241m2\u001b[39m,\u001b[38;5;241m3\u001b[39m}: \u001b[38;5;124m\"\u001b[39m\u001b[38;5;124masd\u001b[39m\u001b[38;5;124m\"\u001b[39m}     \u001b[38;5;66;03m## key cant be a set\u001b[39;00m\n",
      "\u001b[0;31mTypeError\u001b[0m: unhashable type: 'set'"
     ]
    }
   ],
   "source": [
    "d9={{1,2,3}: \"asd\"}     ## key cant be a set"
   ]
  },
  {
   "cell_type": "code",
   "execution_count": 21,
   "id": "323c3a7d-4d21-4ec7-9c67-350f6ac68d34",
   "metadata": {},
   "outputs": [
    {
     "ename": "NameError",
     "evalue": "name 'j' is not defined",
     "output_type": "error",
     "traceback": [
      "\u001b[0;31m---------------------------------------------------------------------------\u001b[0m",
      "\u001b[0;31mNameError\u001b[0m                                 Traceback (most recent call last)",
      "Cell \u001b[0;32mIn[21], line 1\u001b[0m\n\u001b[0;32m----> 1\u001b[0m d10\u001b[38;5;241m=\u001b[39m{{\u001b[43mj\u001b[49m:\u001b[38;5;124m\"\u001b[39m\u001b[38;5;124mavf\u001b[39m\u001b[38;5;124m\"\u001b[39m} : \u001b[38;5;124m\"\u001b[39m\u001b[38;5;124msdf\u001b[39m\u001b[38;5;124m\"\u001b[39m}    \u001b[38;5;66;03m##dictionary cant be used as a key\u001b[39;00m\n",
      "\u001b[0;31mNameError\u001b[0m: name 'j' is not defined"
     ]
    }
   ],
   "source": [
    "d10={{j:\"avf\"} : \"sdf\"}    ##dictionary cant be used as a key"
   ]
  },
  {
   "cell_type": "code",
   "execution_count": 22,
   "id": "c51ccf4d-35b0-484a-998f-bb3e30a80780",
   "metadata": {},
   "outputs": [],
   "source": [
    "d11={\"corse_name\" : [\"Data science\",\"Data Aalysis\"]}     ## value can be a list"
   ]
  },
  {
   "cell_type": "code",
   "execution_count": 23,
   "id": "ba68c7f9-3d7c-4ee5-9fdc-1bf2bbd168dd",
   "metadata": {},
   "outputs": [
    {
     "data": {
      "text/plain": [
       "{'corse_name': ['Data science', 'Data Aalysis']}"
      ]
     },
     "execution_count": 23,
     "metadata": {},
     "output_type": "execute_result"
    }
   ],
   "source": [
    "d11"
   ]
  },
  {
   "cell_type": "code",
   "execution_count": 28,
   "id": "69e06a66-ffd1-459c-ba6e-8d477c74e323",
   "metadata": {},
   "outputs": [],
   "source": [
    "d12={ \"f\" : (1,2,3,4)}      ## value can be a tuple"
   ]
  },
  {
   "cell_type": "code",
   "execution_count": 27,
   "id": "edbf0766-bab3-4c68-a4e7-6c69eb7f0239",
   "metadata": {},
   "outputs": [],
   "source": [
    "d13={\"g\" : {1,2,3,4}}      ## value can be a set"
   ]
  },
  {
   "cell_type": "code",
   "execution_count": 31,
   "id": "89d51ad0-960c-429d-a13b-b31ea785141e",
   "metadata": {},
   "outputs": [],
   "source": [
    "d14={ \"hey\" : {\"name\" : \"DSM\"}} ## value can be a dictionary"
   ]
  },
  {
   "cell_type": "code",
   "execution_count": 30,
   "id": "d6e444f0-91ed-4bf2-9836-6e5637c83b68",
   "metadata": {},
   "outputs": [
    {
     "data": {
      "text/plain": [
       "{'hey': {'name': 'DSM'}}"
      ]
     },
     "execution_count": 30,
     "metadata": {},
     "output_type": "execute_result"
    }
   ],
   "source": [
    "d14    ## Dictionary inside a dictionary therefore NESTED DICTIONARY"
   ]
  },
  {
   "cell_type": "code",
   "execution_count": 1,
   "id": "89a047ef-3eb9-491f-8277-eb6877efa224",
   "metadata": {},
   "outputs": [],
   "source": [
    "d15={ \"a\": [1,2,3,4], \"b\":(1,2,3,4), \"c\": {1,2,3,4}}"
   ]
  },
  {
   "cell_type": "code",
   "execution_count": 33,
   "id": "bc72f11e-3b38-488c-afee-e40afa28022c",
   "metadata": {},
   "outputs": [
    {
     "data": {
      "text/plain": [
       "{'a': [1, 2, 3, 4], 'b': (1, 2, 3, 4), 'c': {1, 2, 3, 4}}"
      ]
     },
     "execution_count": 33,
     "metadata": {},
     "output_type": "execute_result"
    }
   ],
   "source": [
    "d15"
   ]
  },
  {
   "cell_type": "code",
   "execution_count": 2,
   "id": "12b0ed68-1b20-49aa-95b6-fd62ec1a754a",
   "metadata": {},
   "outputs": [],
   "source": [
    "d15[\"timing\"]=(8,8,8)"
   ]
  },
  {
   "cell_type": "code",
   "execution_count": 35,
   "id": "b364d6c9-009a-4680-a7b8-3c153bf15989",
   "metadata": {},
   "outputs": [
    {
     "data": {
      "text/plain": [
       "{'a': [1, 2, 3, 4], 'b': (1, 2, 3, 4), 'c': {1, 2, 3, 4}, 'timing': (8, 8, 8)}"
      ]
     },
     "execution_count": 35,
     "metadata": {},
     "output_type": "execute_result"
    }
   ],
   "source": [
    "d15    ## Adding new key to existing dictionary"
   ]
  },
  {
   "cell_type": "code",
   "execution_count": 3,
   "id": "e44f8c20-d1cb-4a79-95fd-390faa99800b",
   "metadata": {},
   "outputs": [],
   "source": [
    "d15[\"timing\"]=3"
   ]
  },
  {
   "cell_type": "code",
   "execution_count": 37,
   "id": "785cedbc-6741-486e-add7-6e8c3a7b87b6",
   "metadata": {},
   "outputs": [
    {
     "data": {
      "text/plain": [
       "{'a': [1, 2, 3, 4], 'b': (1, 2, 3, 4), 'c': {1, 2, 3, 4}, 'timing': 3}"
      ]
     },
     "execution_count": 37,
     "metadata": {},
     "output_type": "execute_result"
    }
   ],
   "source": [
    "d15"
   ]
  },
  {
   "cell_type": "code",
   "execution_count": 38,
   "id": "9093b768-ecd8-4b67-bbd4-5b330c53ff72",
   "metadata": {},
   "outputs": [],
   "source": [
    "## Incase of list, tuples we try to extract an element by indexing from zero\n",
    "## But in case of dictionary the indexing is done through the key "
   ]
  },
  {
   "cell_type": "code",
   "execution_count": 39,
   "id": "b926af6e-2f6f-4b64-8311-cc12db3f7c0f",
   "metadata": {},
   "outputs": [
    {
     "data": {
      "text/plain": [
       "[1, 2, 3, 4]"
      ]
     },
     "execution_count": 39,
     "metadata": {},
     "output_type": "execute_result"
    }
   ],
   "source": [
    "d15['a']"
   ]
  },
  {
   "cell_type": "code",
   "execution_count": 40,
   "id": "9382ca06-ba47-4fe5-8911-a5d32f5236db",
   "metadata": {},
   "outputs": [
    {
     "data": {
      "text/plain": [
       "tuple"
      ]
     },
     "execution_count": 40,
     "metadata": {},
     "output_type": "execute_result"
    }
   ],
   "source": [
    "type(d15[\"b\"])"
   ]
  },
  {
   "cell_type": "code",
   "execution_count": 4,
   "id": "1b5f2ecc-04d5-48a2-90ad-039da83cacc7",
   "metadata": {},
   "outputs": [],
   "source": [
    "d15[\"name\"]=\"soumili\""
   ]
  },
  {
   "cell_type": "code",
   "execution_count": 42,
   "id": "13fc60dd-bc11-44cb-876c-4a212d81c495",
   "metadata": {},
   "outputs": [
    {
     "data": {
      "text/plain": [
       "'SOUMILI'"
      ]
     },
     "execution_count": 42,
     "metadata": {},
     "output_type": "execute_result"
    }
   ],
   "source": [
    "d15[\"name\"].upper()"
   ]
  },
  {
   "cell_type": "code",
   "execution_count": 43,
   "id": "a82add8b-34f0-4f25-a9b4-69b37e781595",
   "metadata": {},
   "outputs": [
    {
     "data": {
      "text/plain": [
       "{'name': 'DSM'}"
      ]
     },
     "execution_count": 43,
     "metadata": {},
     "output_type": "execute_result"
    }
   ],
   "source": [
    "d14['hey']"
   ]
  },
  {
   "cell_type": "code",
   "execution_count": 45,
   "id": "b490d6df-8c90-43b3-b9af-01abb8bffedb",
   "metadata": {},
   "outputs": [
    {
     "data": {
      "text/plain": [
       "'DSM'"
      ]
     },
     "execution_count": 45,
     "metadata": {},
     "output_type": "execute_result"
    }
   ],
   "source": [
    "d14[\"hey\"][\"name\"]       ## Method to extract elements from nested dictionary"
   ]
  },
  {
   "cell_type": "code",
   "execution_count": 46,
   "id": "c6bc58d4-f91f-4c43-a62d-a18e1d6dbf5d",
   "metadata": {},
   "outputs": [],
   "source": [
    "d14[\"Key\"]=2"
   ]
  },
  {
   "cell_type": "code",
   "execution_count": 47,
   "id": "99419227-4ead-4f78-b463-75cd00ca6228",
   "metadata": {},
   "outputs": [
    {
     "data": {
      "text/plain": [
       "{'hey': {'name': 'DSM'}, 'Key': 2}"
      ]
     },
     "execution_count": 47,
     "metadata": {},
     "output_type": "execute_result"
    }
   ],
   "source": [
    "d14"
   ]
  },
  {
   "cell_type": "code",
   "execution_count": 48,
   "id": "61d2217f-4083-45a7-9ace-3f44b3e0f8c0",
   "metadata": {},
   "outputs": [],
   "source": [
    "del d14[\"Key\"]"
   ]
  },
  {
   "cell_type": "code",
   "execution_count": 49,
   "id": "30ab0bf3-c635-412d-9885-10166e7d978d",
   "metadata": {},
   "outputs": [
    {
     "data": {
      "text/plain": [
       "{'hey': {'name': 'DSM'}}"
      ]
     },
     "execution_count": 49,
     "metadata": {},
     "output_type": "execute_result"
    }
   ],
   "source": [
    "d14"
   ]
  },
  {
   "cell_type": "code",
   "execution_count": 52,
   "id": "cd6a0a9e-d987-42dd-b6ef-5d92d5cdf5f2",
   "metadata": {},
   "outputs": [],
   "source": [
    "d14.clear()    ## Clears the entire dictionary"
   ]
  },
  {
   "cell_type": "code",
   "execution_count": 51,
   "id": "c9cf5b58-56b9-490d-b7d8-a64f0a441a1e",
   "metadata": {},
   "outputs": [
    {
     "data": {
      "text/plain": [
       "{}"
      ]
     },
     "execution_count": 51,
     "metadata": {},
     "output_type": "execute_result"
    }
   ],
   "source": [
    "d14"
   ]
  },
  {
   "cell_type": "code",
   "execution_count": 54,
   "id": "9126b9e1-7361-445c-9406-eb46545a4328",
   "metadata": {},
   "outputs": [
    {
     "data": {
      "text/plain": [
       "5"
      ]
     },
     "execution_count": 54,
     "metadata": {},
     "output_type": "execute_result"
    }
   ],
   "source": [
    "len(d15)     ## Gives the no of key-value pair"
   ]
  },
  {
   "cell_type": "code",
   "execution_count": 56,
   "id": "88f96b48-360f-47b5-8f70-2e123fc0f7d8",
   "metadata": {},
   "outputs": [
    {
     "data": {
      "text/plain": [
       "dict_keys(['a', 'b', 'c', 'timing', 'name'])"
      ]
     },
     "execution_count": 56,
     "metadata": {},
     "output_type": "execute_result"
    }
   ],
   "source": [
    "d15.keys()  ## Extracts all the Keys in a dictionary"
   ]
  },
  {
   "cell_type": "code",
   "execution_count": 57,
   "id": "7fe3e39b-8a18-4159-91ed-6a34aa112829",
   "metadata": {},
   "outputs": [
    {
     "data": {
      "text/plain": [
       "dict_values([[1, 2, 3, 4], (1, 2, 3, 4), {1, 2, 3, 4}, 3, 'soumili'])"
      ]
     },
     "execution_count": 57,
     "metadata": {},
     "output_type": "execute_result"
    }
   ],
   "source": [
    "d15.values()  ## Extracts all the values in a dictionary"
   ]
  },
  {
   "cell_type": "code",
   "execution_count": 58,
   "id": "77a155a5-8785-4af3-86fe-37f5f1f10d4a",
   "metadata": {},
   "outputs": [
    {
     "data": {
      "text/plain": [
       "[[1, 2, 3, 4], (1, 2, 3, 4), {1, 2, 3, 4}, 3, 'soumili']"
      ]
     },
     "execution_count": 58,
     "metadata": {},
     "output_type": "execute_result"
    }
   ],
   "source": [
    "list(d15.values())"
   ]
  },
  {
   "cell_type": "code",
   "execution_count": 63,
   "id": "58682dc2-54ce-408f-967c-dfb26229da23",
   "metadata": {},
   "outputs": [
    {
     "data": {
      "text/plain": [
       "dict_items([('a', [1, 2, 3, 4]), ('b', (1, 2, 3, 4)), ('c', {1, 2, 3, 4}), ('timing', 3), ('name', 'soumili')])"
      ]
     },
     "execution_count": 63,
     "metadata": {},
     "output_type": "execute_result"
    }
   ],
   "source": [
    "d15.items()"
   ]
  },
  {
   "cell_type": "code",
   "execution_count": 65,
   "id": "1b1e3742-9e38-4189-9d0a-cd74cbb1c5ba",
   "metadata": {},
   "outputs": [
    {
     "data": {
      "text/plain": [
       "[('a', [1, 2, 3, 4]),\n",
       " ('b', (1, 2, 3, 4)),\n",
       " ('c', {1, 2, 3, 4}),\n",
       " ('timing', 3),\n",
       " ('name', 'soumili')]"
      ]
     },
     "execution_count": 65,
     "metadata": {},
     "output_type": "execute_result"
    }
   ],
   "source": [
    "list(d15.items())   ## Gives a list but inside the list each key-value pair is inside a tupple"
   ]
  },
  {
   "cell_type": "code",
   "execution_count": 66,
   "id": "e62209b2-ed69-490c-8223-ab54241ecd42",
   "metadata": {},
   "outputs": [],
   "source": [
    "## Copying a dictionary with and without inbuilt commands"
   ]
  },
  {
   "cell_type": "code",
   "execution_count": 76,
   "id": "8500d656-594c-4c48-b4ff-be84d52c81c6",
   "metadata": {},
   "outputs": [],
   "source": [
    "d16=d15      ## Shallow Copy"
   ]
  },
  {
   "cell_type": "code",
   "execution_count": 77,
   "id": "416c61c3-9266-42ed-885a-42eb0caba0d1",
   "metadata": {},
   "outputs": [],
   "source": [
    "d17=d15.copy()  ## Deep Copy"
   ]
  },
  {
   "cell_type": "code",
   "execution_count": 69,
   "id": "e6f15f8e-2f91-473e-a5aa-eef016016d04",
   "metadata": {},
   "outputs": [],
   "source": [
    "del d15[\"name\"]"
   ]
  },
  {
   "cell_type": "code",
   "execution_count": 70,
   "id": "9248f28a-2166-4cc4-a7d0-f1451632d29d",
   "metadata": {},
   "outputs": [
    {
     "data": {
      "text/plain": [
       "{'a': [1, 2, 3, 4], 'b': (1, 2, 3, 4), 'c': {1, 2, 3, 4}, 'timing': 3}"
      ]
     },
     "execution_count": 70,
     "metadata": {},
     "output_type": "execute_result"
    }
   ],
   "source": [
    "d15"
   ]
  },
  {
   "cell_type": "code",
   "execution_count": 71,
   "id": "6815ff15-5ff2-45ad-8f88-a5e3918a1d34",
   "metadata": {},
   "outputs": [
    {
     "data": {
      "text/plain": [
       "{'a': [1, 2, 3, 4], 'b': (1, 2, 3, 4), 'c': {1, 2, 3, 4}, 'timing': 3}"
      ]
     },
     "execution_count": 71,
     "metadata": {},
     "output_type": "execute_result"
    }
   ],
   "source": [
    "d16"
   ]
  },
  {
   "cell_type": "code",
   "execution_count": 73,
   "id": "d65b640a-247c-4d20-8662-7ea3e328155b",
   "metadata": {},
   "outputs": [
    {
     "data": {
      "text/plain": [
       "{'a': [1, 2, 3, 4],\n",
       " 'b': (1, 2, 3, 4),\n",
       " 'c': {1, 2, 3, 4},\n",
       " 'timing': 3,\n",
       " 'name': 'soumili'}"
      ]
     },
     "execution_count": 73,
     "metadata": {},
     "output_type": "execute_result"
    }
   ],
   "source": [
    "d17"
   ]
  },
  {
   "cell_type": "code",
   "execution_count": 75,
   "id": "d49417ad-2daa-4198-bdad-f15775085c4a",
   "metadata": {},
   "outputs": [],
   "source": [
    "## here in case of copy command, d17 has a new memory alloted to it\n",
    "## Any changes in the original dictionary will have no effect \n",
    "## But same is not true for the assignment command (d16)"
   ]
  },
  {
   "cell_type": "code",
   "execution_count": 78,
   "id": "1d01134e-156c-4815-b836-f63d8d996014",
   "metadata": {},
   "outputs": [
    {
     "ename": "TypeError",
     "evalue": "pop expected at least 1 argument, got 0",
     "output_type": "error",
     "traceback": [
      "\u001b[0;31m---------------------------------------------------------------------------\u001b[0m",
      "\u001b[0;31mTypeError\u001b[0m                                 Traceback (most recent call last)",
      "Cell \u001b[0;32mIn[78], line 1\u001b[0m\n\u001b[0;32m----> 1\u001b[0m \u001b[43md15\u001b[49m\u001b[38;5;241;43m.\u001b[39;49m\u001b[43mpop\u001b[49m\u001b[43m(\u001b[49m\u001b[43m)\u001b[49m\n",
      "\u001b[0;31mTypeError\u001b[0m: pop expected at least 1 argument, got 0"
     ]
    }
   ],
   "source": [
    "d15.pop()"
   ]
  },
  {
   "cell_type": "code",
   "execution_count": 79,
   "id": "812b7550-370b-408b-8635-e8f2cc9cca85",
   "metadata": {},
   "outputs": [],
   "source": [
    "## Incase of lis pop works even without arguments but in case of list this is not the case \n",
    "## Argument is to be mentioned innside pop for dictionary"
   ]
  },
  {
   "cell_type": "code",
   "execution_count": 5,
   "id": "45900193-1522-44f2-b14a-31008eeae363",
   "metadata": {},
   "outputs": [
    {
     "data": {
      "text/plain": [
       "3"
      ]
     },
     "execution_count": 5,
     "metadata": {},
     "output_type": "execute_result"
    }
   ],
   "source": [
    "d15.pop(\"timing\")"
   ]
  },
  {
   "cell_type": "code",
   "execution_count": 81,
   "id": "63ceb891-c26e-4042-a1b7-aea8e2f65e08",
   "metadata": {},
   "outputs": [
    {
     "data": {
      "text/plain": [
       "{'a': [1, 2, 3, 4], 'b': (1, 2, 3, 4), 'c': {1, 2, 3, 4}}"
      ]
     },
     "execution_count": 81,
     "metadata": {},
     "output_type": "execute_result"
    }
   ],
   "source": [
    "d15"
   ]
  },
  {
   "cell_type": "code",
   "execution_count": 83,
   "id": "81df2eea-c602-4912-ad70-16c37e6e6bf1",
   "metadata": {},
   "outputs": [
    {
     "data": {
      "text/plain": [
       "{1: 's', 2: 's', 3: 's'}"
      ]
     },
     "execution_count": 83,
     "metadata": {},
     "output_type": "execute_result"
    }
   ],
   "source": [
    "d.fromkeys((1,2,3),\"s\")"
   ]
  },
  {
   "cell_type": "code",
   "execution_count": 84,
   "id": "0e106004-8632-45bb-8b89-92cf7bbdc4d0",
   "metadata": {},
   "outputs": [],
   "source": [
    "## fromkeys basically takes ai iterable and assigns each element the value"
   ]
  },
  {
   "cell_type": "code",
   "execution_count": 85,
   "id": "c154725d-69b8-4cae-836c-78c0a18ddf5e",
   "metadata": {},
   "outputs": [],
   "source": [
    "## It is posssible to store dictionary inside tuples"
   ]
  },
  {
   "cell_type": "code",
   "execution_count": 86,
   "id": "075839d1-b442-4512-9834-8e14413e495b",
   "metadata": {},
   "outputs": [
    {
     "data": {
      "text/plain": [
       "({'a': [1, 2, 3, 4], 'b': (1, 2, 3, 4), 'c': {1, 2, 3, 4}},\n",
       " {'a': [1, 2, 3, 4], 'b': (1, 2, 3, 4), 'c': {1, 2, 3, 4}})"
      ]
     },
     "execution_count": 86,
     "metadata": {},
     "output_type": "execute_result"
    }
   ],
   "source": [
    "(d15,d16)"
   ]
  },
  {
   "cell_type": "code",
   "execution_count": 87,
   "id": "7b80ac34-f9f0-4b4d-928b-efe7e091d694",
   "metadata": {},
   "outputs": [],
   "source": [
    "d13.update(d15)"
   ]
  },
  {
   "cell_type": "code",
   "execution_count": 88,
   "id": "3c67fd7e-82d9-4b0f-813e-ed278a73d8c5",
   "metadata": {},
   "outputs": [
    {
     "data": {
      "text/plain": [
       "{'g': {1, 2, 3, 4}, 'a': [1, 2, 3, 4], 'b': (1, 2, 3, 4), 'c': {1, 2, 3, 4}}"
      ]
     },
     "execution_count": 88,
     "metadata": {},
     "output_type": "execute_result"
    }
   ],
   "source": [
    "d13"
   ]
  },
  {
   "cell_type": "code",
   "execution_count": 89,
   "id": "643368e8-bfa5-4815-a742-870b4f3a87fb",
   "metadata": {},
   "outputs": [],
   "source": [
    "### Upadates the dictionary(d13) with uniques entities of given dictionary(d15)"
   ]
  },
  {
   "cell_type": "code",
   "execution_count": 6,
   "id": "3a593838-6b4d-4087-b40f-107868f0585a",
   "metadata": {},
   "outputs": [
    {
     "data": {
      "text/plain": [
       "[1, 2, 3, 4]"
      ]
     },
     "execution_count": 6,
     "metadata": {},
     "output_type": "execute_result"
    }
   ],
   "source": [
    "## get command does the same as\n",
    "d15[\"a\"]"
   ]
  },
  {
   "cell_type": "code",
   "execution_count": 7,
   "id": "7ffccd4b-6cc0-436a-af55-ee305f0cb345",
   "metadata": {},
   "outputs": [
    {
     "data": {
      "text/plain": [
       "[1, 2, 3, 4]"
      ]
     },
     "execution_count": 7,
     "metadata": {},
     "output_type": "execute_result"
    }
   ],
   "source": [
    "d15.get(\"a\")"
   ]
  },
  {
   "cell_type": "code",
   "execution_count": 8,
   "id": "70acd57f-e405-49b4-83f7-00e3ef4d1c3a",
   "metadata": {},
   "outputs": [],
   "source": [
    "## incase of get when key entered is not valid it gives nothing but in the other case it gives error"
   ]
  },
  {
   "cell_type": "markdown",
   "id": "86812833-5a48-4064-b5eb-02eb8ac31288",
   "metadata": {},
   "source": [
    "## Dictionary Comprehension"
   ]
  },
  {
   "cell_type": "code",
   "execution_count": 9,
   "id": "33e425c7-3398-40c2-9add-b1f57803f917",
   "metadata": {},
   "outputs": [
    {
     "data": {
      "text/plain": [
       "{1: 1, 2: 4, 3: 9, 4: 16, 5: 25, 6: 36, 7: 49, 8: 64, 9: 81, 10: 100}"
      ]
     },
     "execution_count": 9,
     "metadata": {},
     "output_type": "execute_result"
    }
   ],
   "source": [
    "{i : i**2 for i in range(1,11)}"
   ]
  },
  {
   "cell_type": "code",
   "execution_count": 10,
   "id": "a991a2ca-3763-42ed-947c-217c3c334fc8",
   "metadata": {},
   "outputs": [
    {
     "data": {
      "text/plain": [
       "{1: 2, 2: 4, 3: 6, 4: 8, 5: 10, 6: 12, 7: 14, 8: 16, 9: 18, 10: 20}"
      ]
     },
     "execution_count": 10,
     "metadata": {},
     "output_type": "execute_result"
    }
   ],
   "source": [
    "{i : i*2 for i in range(1,11)}"
   ]
  },
  {
   "cell_type": "code",
   "execution_count": 16,
   "id": "560f50a5-50ea-4ca9-acd6-e4060e1d269b",
   "metadata": {},
   "outputs": [],
   "source": [
    "import math\n",
    "d17 ={i: math.log10(i) for i in range(1,11)}"
   ]
  },
  {
   "cell_type": "code",
   "execution_count": 14,
   "id": "8da91f37-3b30-4e67-a019-41ab2df25228",
   "metadata": {},
   "outputs": [],
   "source": [
    "d16={\"name\": \"soumili\"}"
   ]
  },
  {
   "cell_type": "code",
   "execution_count": 15,
   "id": "31f126ec-de99-4abc-8700-c451c9dd4010",
   "metadata": {},
   "outputs": [
    {
     "data": {
      "text/plain": [
       "True"
      ]
     },
     "execution_count": 15,
     "metadata": {},
     "output_type": "execute_result"
    }
   ],
   "source": [
    "'name' in d16"
   ]
  },
  {
   "cell_type": "code",
   "execution_count": 21,
   "id": "ebae373c-2973-4649-8f3f-631b59377192",
   "metadata": {},
   "outputs": [
    {
     "name": "stdout",
     "output_type": "stream",
     "text": [
      "2.3010299956639813\n",
      "4.6020599913279625\n",
      "6.778151250383644\n",
      "8.903089986991944\n",
      "11.0\n"
     ]
    }
   ],
   "source": [
    "for i in d17:\n",
    "    if i%2==0:\n",
    "        print(i  + d17[i])"
   ]
  },
  {
   "cell_type": "code",
   "execution_count": null,
   "id": "0250f473-1ec9-43f1-b50c-17607745c540",
   "metadata": {},
   "outputs": [],
   "source": []
  }
 ],
 "metadata": {
  "kernelspec": {
   "display_name": "Python 3 (ipykernel)",
   "language": "python",
   "name": "python3"
  },
  "language_info": {
   "codemirror_mode": {
    "name": "ipython",
    "version": 3
   },
   "file_extension": ".py",
   "mimetype": "text/x-python",
   "name": "python",
   "nbconvert_exporter": "python",
   "pygments_lexer": "ipython3",
   "version": "3.10.8"
  }
 },
 "nbformat": 4,
 "nbformat_minor": 5
}
