{
 "cells": [
  {
   "cell_type": "markdown",
   "id": "5d880a40-f89c-4f54-8a21-845450166ed0",
   "metadata": {},
   "source": [
    "## Logical operators\n",
    "1. And\n",
    "2. Or\n",
    "3. Not "
   ]
  },
  {
   "cell_type": "code",
   "execution_count": 1,
   "id": "94436f5a-97e1-486c-8ec5-7a3afb710989",
   "metadata": {},
   "outputs": [
    {
     "name": "stdout",
     "output_type": "stream",
     "text": [
      "Defined value of START = True\n",
      "Defined value of STOP = False \n",
      "\n",
      "Defined value of START = True\n",
      "Value of STOP by negating START= False \n",
      "\n",
      "Value of START by negating STOP = True\n",
      "Defined value of STOP = False \n",
      "\n"
     ]
    }
   ],
   "source": [
    "# Lets define two variables having boolean values True and False-\n",
    "START = True\n",
    "STOP = False\n",
    "\n",
    "# Print the values as it is\n",
    "print(f\"Defined value of START = {START}\")\n",
    "print(f\"Defined value of STOP = {STOP} \\n\")\n",
    "\n",
    "# if can also be written as - \n",
    "print(f\"Defined value of START = {START}\")\n",
    "print(f\"Value of STOP by negating START= {not START} \\n\")\n",
    "\n",
    "# alternatively -\n",
    "print(f\"Value of START by negating STOP = {not STOP}\")\n",
    "print(f\"Defined value of STOP = {STOP} \\n\")"
   ]
  },
  {
   "cell_type": "code",
   "execution_count": 2,
   "id": "a9ec96b0-dab7-4ebf-bae1-e95e5a87f9bb",
   "metadata": {},
   "outputs": [
    {
     "data": {
      "text/plain": [
       "False"
      ]
     },
     "execution_count": 2,
     "metadata": {},
     "output_type": "execute_result"
    }
   ],
   "source": [
    "bool(0)"
   ]
  },
  {
   "cell_type": "code",
   "execution_count": 3,
   "id": "fe383641-9268-420d-99ca-9168520391cb",
   "metadata": {},
   "outputs": [
    {
     "data": {
      "text/plain": [
       "0"
      ]
     },
     "execution_count": 3,
     "metadata": {},
     "output_type": "execute_result"
    }
   ],
   "source": [
    "int(bool(0))"
   ]
  },
  {
   "cell_type": "code",
   "execution_count": 4,
   "id": "81d37614-8e8a-49ba-a22e-e68f80c91284",
   "metadata": {},
   "outputs": [
    {
     "data": {
      "text/plain": [
       "True"
      ]
     },
     "execution_count": 4,
     "metadata": {},
     "output_type": "execute_result"
    }
   ],
   "source": [
    "not bool(0)"
   ]
  },
  {
   "cell_type": "code",
   "execution_count": 5,
   "id": "fe2448c4-ebff-4670-8f97-a919dc70544b",
   "metadata": {},
   "outputs": [
    {
     "data": {
      "text/plain": [
       "True"
      ]
     },
     "execution_count": 5,
     "metadata": {},
     "output_type": "execute_result"
    }
   ],
   "source": [
    "not int(0)"
   ]
  },
  {
   "cell_type": "code",
   "execution_count": 6,
   "id": "908f7204-0ff6-4d23-8e8b-33c3f3ecd0f4",
   "metadata": {},
   "outputs": [
    {
     "data": {
      "text/plain": [
       "True"
      ]
     },
     "execution_count": 6,
     "metadata": {},
     "output_type": "execute_result"
    }
   ],
   "source": [
    "not int(bool(0))"
   ]
  },
  {
   "cell_type": "code",
   "execution_count": 7,
   "id": "f7a1f4e4-f014-4677-991a-0a339fe0cb67",
   "metadata": {},
   "outputs": [
    {
     "data": {
      "text/plain": [
       "False"
      ]
     },
     "execution_count": 7,
     "metadata": {},
     "output_type": "execute_result"
    }
   ],
   "source": [
    "not int(5)"
   ]
  },
  {
   "cell_type": "code",
   "execution_count": 8,
   "id": "ad1ea363-5e52-4651-873e-2c68e00d42cb",
   "metadata": {},
   "outputs": [
    {
     "data": {
      "text/plain": [
       "False"
      ]
     },
     "execution_count": 8,
     "metadata": {},
     "output_type": "execute_result"
    }
   ],
   "source": [
    "not 3"
   ]
  },
  {
   "cell_type": "code",
   "execution_count": 1,
   "id": "c0a6c563-eaf3-45be-b513-618afa3c35f0",
   "metadata": {},
   "outputs": [
    {
     "data": {
      "text/plain": [
       "False"
      ]
     },
     "execution_count": 1,
     "metadata": {},
     "output_type": "execute_result"
    }
   ],
   "source": [
    "not -3"
   ]
  },
  {
   "cell_type": "code",
   "execution_count": 2,
   "id": "64d2c7d1-71b9-4212-ad02-9b097fe72719",
   "metadata": {},
   "outputs": [
    {
     "data": {
      "text/plain": [
       "True"
      ]
     },
     "execution_count": 2,
     "metadata": {},
     "output_type": "execute_result"
    }
   ],
   "source": [
    "not -0"
   ]
  },
  {
   "cell_type": "code",
   "execution_count": 3,
   "id": "b39f386b-8804-4c2e-acab-182ff4e1e974",
   "metadata": {},
   "outputs": [
    {
     "name": "stdout",
     "output_type": "stream",
     "text": [
      "Defined value of START = 1\n",
      "Defined value of STOP = 0 \n",
      "\n",
      "Defined value of START = 1\n",
      "Value of STOP by negating START= 0 \n",
      "\n",
      "Value of START by negating STOP = 1\n",
      "Defined value of STOP = 0 \n",
      "\n"
     ]
    }
   ],
   "source": [
    "START = 1\n",
    "STOP = 0\n",
    "\n",
    "# Print the values as it is\n",
    "print(f\"Defined value of START = {START}\")\n",
    "print(f\"Defined value of STOP = {STOP} \\n\")\n",
    "\n",
    "# if can also be written as - \n",
    "print(f\"Defined value of START = {START}\")\n",
    "print(f\"Value of STOP by negating START= {int(not START)} \\n\")\n",
    "\n",
    "# alternatively -\n",
    "print(f\"Value of START by negating STOP = {int(not STOP)}\")\n",
    "print(f\"Defined value of STOP = {STOP} \\n\")"
   ]
  },
  {
   "cell_type": "code",
   "execution_count": 4,
   "id": "760b663d-75b0-417b-9674-5ed6af60d7f9",
   "metadata": {},
   "outputs": [
    {
     "name": "stdout",
     "output_type": "stream",
     "text": [
      "boolean value of no. 0 is False\n",
      "boolean value of no. 1 is True\n",
      "negation of 0 is True and negation of 1 is False\n",
      "\n",
      "#------------------------#\n",
      "\n"
     ]
    }
   ],
   "source": [
    "zero = 0\n",
    "one = 1\n",
    "\n",
    "print(f\"boolean value of no. {zero} is {bool(zero)}\")\n",
    "print(f\"boolean value of no. {one} is {bool(one)}\")\n",
    "print(f\"negation of {zero} is {not zero} and negation of {one} is {not one}\")\n",
    "print(\"\\n#------------------------#\\n\")"
   ]
  },
  {
   "cell_type": "code",
   "execution_count": 5,
   "id": "0be94a8d-65cd-48d8-bd7e-222756e27412",
   "metadata": {},
   "outputs": [
    {
     "name": "stdout",
     "output_type": "stream",
     "text": [
      "boolean value of no. -5 is True\n",
      "boolean value of no. 5 is True\n",
      "negation of -5 is False and negation of 5 is False\n",
      "\n",
      "#------------------------#\n",
      "\n"
     ]
    }
   ],
   "source": [
    "Some_negative_integer = -5\n",
    "Some_positive_integer = 5\n",
    "\n",
    "print(f\"boolean value of no. {Some_negative_integer} is {bool(Some_negative_integer)}\")\n",
    "print(f\"boolean value of no. {Some_positive_integer} is {bool(Some_positive_integer)}\")\n",
    "print(f\"negation of {Some_negative_integer} is {not Some_negative_integer} \\\n",
    "and negation of {Some_positive_integer} is {not Some_positive_integer}\")\n",
    "\n",
    "print(\"\\n#------------------------#\\n\")"
   ]
  },
  {
   "cell_type": "code",
   "execution_count": 6,
   "id": "7156ffcf-be9a-451c-b97e-ce2a4bd14742",
   "metadata": {},
   "outputs": [
    {
     "name": "stdout",
     "output_type": "stream",
     "text": [
      "boolean value of no. -5.99 is True\n",
      "boolean value of no. 5.6 is True\n",
      "negation of -5.99 is False and negation of 5.6 is False\n"
     ]
    }
   ],
   "source": [
    "Some_negative_float = -5.99\n",
    "Some_positive_float = 5.6\n",
    "\n",
    "print(f\"boolean value of no. {Some_negative_float} is {bool(Some_negative_float)}\")\n",
    "print(f\"boolean value of no. {Some_positive_float} is {bool(Some_positive_float)}\")\n",
    "print(f\"negation of {Some_negative_float} is {not Some_negative_float} \\\n",
    "and negation of {Some_positive_float} is {not Some_positive_float}\")"
   ]
  },
  {
   "cell_type": "markdown",
   "id": "34cf5c4e-71f3-41d8-ac91-3ad4fe3fe257",
   "metadata": {},
   "source": [
    "## Logical AND"
   ]
  },
  {
   "cell_type": "code",
   "execution_count": 7,
   "id": "bcadd162-a069-47f6-99b2-148f4bd11e30",
   "metadata": {},
   "outputs": [
    {
     "name": "stdout",
     "output_type": "stream",
     "text": [
      "Dish contains VEGETABLES: True\n",
      "Dish contains SALT: False\n",
      "Hence dish prepared was good: False\n",
      "\n"
     ]
    }
   ],
   "source": [
    "VEGETABLES = True\n",
    "SALT = False\n",
    "DISH = VEGETABLES and SALT\n",
    "\n",
    "print(f\"Dish contains VEGETABLES: {VEGETABLES}\")\n",
    "print(f\"Dish contains SALT: {SALT}\")\n",
    "print(f\"Hence dish prepared was good: {DISH}\\n\")"
   ]
  },
  {
   "cell_type": "code",
   "execution_count": 8,
   "id": "4435dbca-725f-44f7-8f3e-4d855c37d80d",
   "metadata": {},
   "outputs": [
    {
     "data": {
      "text/plain": [
       "1"
      ]
     },
     "execution_count": 8,
     "metadata": {},
     "output_type": "execute_result"
    }
   ],
   "source": [
    "True*True"
   ]
  },
  {
   "cell_type": "code",
   "execution_count": 10,
   "id": "9967f20e-fbb9-4d57-89ad-f4f72ffc8bc0",
   "metadata": {},
   "outputs": [
    {
     "data": {
      "text/plain": [
       "0"
      ]
     },
     "execution_count": 10,
     "metadata": {},
     "output_type": "execute_result"
    }
   ],
   "source": [
    "True*False"
   ]
  },
  {
   "cell_type": "code",
   "execution_count": 11,
   "id": "a36a8ca7-8617-430e-9dc2-f874ad35f1fa",
   "metadata": {},
   "outputs": [
    {
     "data": {
      "text/plain": [
       "0"
      ]
     },
     "execution_count": 11,
     "metadata": {},
     "output_type": "execute_result"
    }
   ],
   "source": [
    "False*False"
   ]
  },
  {
   "cell_type": "code",
   "execution_count": 18,
   "id": "76719323-906d-442e-b48b-021f89208d0e",
   "metadata": {},
   "outputs": [
    {
     "data": {
      "text/plain": [
       "True"
      ]
     },
     "execution_count": 18,
     "metadata": {},
     "output_type": "execute_result"
    }
   ],
   "source": [
    "not False*False    //same as"
   ]
  },
  {
   "cell_type": "code",
   "execution_count": 20,
   "id": "ae22869d-2bff-4f82-8853-c04aeb61791e",
   "metadata": {},
   "outputs": [
    {
     "data": {
      "text/plain": [
       "True"
      ]
     },
     "execution_count": 20,
     "metadata": {},
     "output_type": "execute_result"
    }
   ],
   "source": [
    "not (False*False)"
   ]
  },
  {
   "cell_type": "code",
   "execution_count": 19,
   "id": "cf1ed361-f923-47dc-b631-de184161e876",
   "metadata": {},
   "outputs": [
    {
     "data": {
      "text/plain": [
       "True"
      ]
     },
     "execution_count": 19,
     "metadata": {},
     "output_type": "execute_result"
    }
   ],
   "source": [
    "not (False)*False"
   ]
  },
  {
   "cell_type": "code",
   "execution_count": 15,
   "id": "97c94215-4ed2-4b49-ac1c-837bda346e20",
   "metadata": {},
   "outputs": [
    {
     "data": {
      "text/plain": [
       "0"
      ]
     },
     "execution_count": 15,
     "metadata": {},
     "output_type": "execute_result"
    }
   ],
   "source": [
    "(not(False))*False"
   ]
  },
  {
   "cell_type": "code",
   "execution_count": 17,
   "id": "47b703b6-ce8f-429d-bc88-b8384cf54174",
   "metadata": {},
   "outputs": [
    {
     "data": {
      "text/plain": [
       "1"
      ]
     },
     "execution_count": 17,
     "metadata": {},
     "output_type": "execute_result"
    }
   ],
   "source": [
    "(not(False))*True"
   ]
  },
  {
   "cell_type": "code",
   "execution_count": 16,
   "id": "d7176e10-eaf9-474d-a6d2-941700c9c631",
   "metadata": {},
   "outputs": [
    {
     "data": {
      "text/plain": [
       "True"
      ]
     },
     "execution_count": 16,
     "metadata": {},
     "output_type": "execute_result"
    }
   ],
   "source": [
    "not(False)*True"
   ]
  },
  {
   "cell_type": "markdown",
   "id": "524c7b42-35ef-4125-9d37-e936edd8c918",
   "metadata": {},
   "source": [
    "### 4.1.2 Equality Operators\n",
    "\n",
    "Following operations are present in python for equlity check operation-\n",
    "\n",
    "|Operators|Meaning|\n",
    "|-|-|\n",
    "|**is**|***a is b*** returns true if variable/identifiers a and b *points* to the *same object*|\n",
    "|**is not**|***a is not b*** returns true if variable/identifiers a and b *points* to the *different object*|\n",
    "|**==**|***a == b*** returns true if variable/identifiers a and b has same value|\n",
    "|**!=**|***a != b*** returns true if variable/identifiers a and b has different value|"
   ]
  },
  {
   "cell_type": "code",
   "execution_count": 12,
   "id": "e1e78e5a-cf5c-4955-8ec6-c3169486a5b9",
   "metadata": {},
   "outputs": [],
   "source": [
    "list_a=[1,2,3,4]\n",
    "list_b=[1,2,3,4]"
   ]
  },
  {
   "cell_type": "code",
   "execution_count": 2,
   "id": "01f25735-9eac-4c15-a673-b0a5de90037a",
   "metadata": {},
   "outputs": [
    {
     "data": {
      "text/plain": [
       "139651667501696"
      ]
     },
     "execution_count": 2,
     "metadata": {},
     "output_type": "execute_result"
    }
   ],
   "source": [
    "id(list_a)"
   ]
  },
  {
   "cell_type": "code",
   "execution_count": 3,
   "id": "0efae817-5434-4087-8194-1d92f74106f4",
   "metadata": {},
   "outputs": [
    {
     "data": {
      "text/plain": [
       "139651607072320"
      ]
     },
     "execution_count": 3,
     "metadata": {},
     "output_type": "execute_result"
    }
   ],
   "source": [
    "id(list_b)"
   ]
  },
  {
   "cell_type": "code",
   "execution_count": 4,
   "id": "ee7eff22-3452-43ba-b11e-ad545c395453",
   "metadata": {},
   "outputs": [
    {
     "data": {
      "text/plain": [
       "False"
      ]
     },
     "execution_count": 4,
     "metadata": {},
     "output_type": "execute_result"
    }
   ],
   "source": [
    "list_a is list_b"
   ]
  },
  {
   "cell_type": "code",
   "execution_count": 13,
   "id": "9947e163-9801-41dc-82c5-ab57e3a02d3e",
   "metadata": {},
   "outputs": [
    {
     "data": {
      "text/plain": [
       "True"
      ]
     },
     "execution_count": 13,
     "metadata": {},
     "output_type": "execute_result"
    }
   ],
   "source": [
    "list_a is not list_b"
   ]
  },
  {
   "cell_type": "code",
   "execution_count": 6,
   "id": "a2ecb974-f1bb-4b98-b42e-d5cc40a022ac",
   "metadata": {},
   "outputs": [],
   "source": [
    "list_a=[1,2,3,4]\n",
    "list_b=list_a"
   ]
  },
  {
   "cell_type": "code",
   "execution_count": 7,
   "id": "0750950e-17c7-4785-9120-e77cce396417",
   "metadata": {},
   "outputs": [
    {
     "data": {
      "text/plain": [
       "139651607047552"
      ]
     },
     "execution_count": 7,
     "metadata": {},
     "output_type": "execute_result"
    }
   ],
   "source": [
    "id(list_a)"
   ]
  },
  {
   "cell_type": "code",
   "execution_count": 8,
   "id": "62d8023f-2ab7-42ef-9717-fb091ec4145e",
   "metadata": {},
   "outputs": [
    {
     "data": {
      "text/plain": [
       "139651607047552"
      ]
     },
     "execution_count": 8,
     "metadata": {},
     "output_type": "execute_result"
    }
   ],
   "source": [
    "id(list_b)"
   ]
  },
  {
   "cell_type": "code",
   "execution_count": 9,
   "id": "6d4d90a0-93bf-47a3-beb0-4221c0ff0bb7",
   "metadata": {},
   "outputs": [
    {
     "data": {
      "text/plain": [
       "True"
      ]
     },
     "execution_count": 9,
     "metadata": {},
     "output_type": "execute_result"
    }
   ],
   "source": [
    "list_a is list_b"
   ]
  },
  {
   "cell_type": "code",
   "execution_count": 10,
   "id": "8d3f7500-b276-47f1-822e-5f5113f3e121",
   "metadata": {},
   "outputs": [
    {
     "data": {
      "text/plain": [
       "False"
      ]
     },
     "execution_count": 10,
     "metadata": {},
     "output_type": "execute_result"
    }
   ],
   "source": [
    "list_a is not list_b"
   ]
  },
  {
   "cell_type": "code",
   "execution_count": 14,
   "id": "ed064f92-252a-4e68-8b32-bd1ad1cc1841",
   "metadata": {},
   "outputs": [],
   "source": [
    "a=2\n",
    "b=2"
   ]
  },
  {
   "cell_type": "code",
   "execution_count": 15,
   "id": "49603ef8-4e18-42e6-b538-d8b7d3980afa",
   "metadata": {},
   "outputs": [
    {
     "name": "stdout",
     "output_type": "stream",
     "text": [
      "139651716088080\n",
      "139651716088080\n"
     ]
    }
   ],
   "source": [
    "print(id(a))\n",
    "print(id(b))     ##here the address is same for both unlike in a list"
   ]
  },
  {
   "cell_type": "code",
   "execution_count": 16,
   "id": "bcc3ed73-cf23-4a40-bc28-9f7eaa0a39a2",
   "metadata": {},
   "outputs": [],
   "source": [
    "str=\"hey\"\n",
    "str1=\"hey\""
   ]
  },
  {
   "cell_type": "code",
   "execution_count": 18,
   "id": "5e8c55ee-458e-41f5-8972-4d1fca8c62fc",
   "metadata": {},
   "outputs": [
    {
     "name": "stdout",
     "output_type": "stream",
     "text": [
      "139651606889840\n",
      "139651606889840\n"
     ]
    }
   ],
   "source": [
    "print(id(str))\n",
    "print(id(str1))    ####here the address is same for both unlike in a list"
   ]
  },
  {
   "cell_type": "code",
   "execution_count": 19,
   "id": "d9d7502c-dfb9-4733-b814-0755a445be5e",
   "metadata": {},
   "outputs": [
    {
     "data": {
      "text/plain": [
       "[1, 2, 3, 4]"
      ]
     },
     "execution_count": 19,
     "metadata": {},
     "output_type": "execute_result"
    }
   ],
   "source": [
    "list_a"
   ]
  },
  {
   "cell_type": "code",
   "execution_count": 21,
   "id": "506b2baf-443a-4222-9a30-aaa6b99d27d4",
   "metadata": {},
   "outputs": [],
   "source": [
    "list_a[0]=20"
   ]
  },
  {
   "cell_type": "code",
   "execution_count": 29,
   "id": "cea27bfc-9d43-4838-bd8e-67150ba1e4d8",
   "metadata": {},
   "outputs": [
    {
     "data": {
      "text/plain": [
       "[20, 2, 3, 4]"
      ]
     },
     "execution_count": 29,
     "metadata": {},
     "output_type": "execute_result"
    }
   ],
   "source": [
    "list_a  ##list is mutable,elements can be changed in a list"
   ]
  },
  {
   "cell_type": "code",
   "execution_count": 23,
   "id": "700fdb7c-7c6d-48ff-b355-df5deff08337",
   "metadata": {},
   "outputs": [
    {
     "data": {
      "text/plain": [
       "'hey'"
      ]
     },
     "execution_count": 23,
     "metadata": {},
     "output_type": "execute_result"
    }
   ],
   "source": [
    "str"
   ]
  },
  {
   "cell_type": "code",
   "execution_count": 24,
   "id": "1adc6da1-d7c7-4407-9912-f09648042221",
   "metadata": {},
   "outputs": [
    {
     "data": {
      "text/plain": [
       "'h'"
      ]
     },
     "execution_count": 24,
     "metadata": {},
     "output_type": "execute_result"
    }
   ],
   "source": [
    "str[0]"
   ]
  },
  {
   "cell_type": "code",
   "execution_count": 26,
   "id": "c20096cd-babb-472c-80a2-8a3693a7a741",
   "metadata": {},
   "outputs": [
    {
     "ename": "TypeError",
     "evalue": "'str' object does not support item assignment",
     "output_type": "error",
     "traceback": [
      "\u001b[0;31m---------------------------------------------------------------------------\u001b[0m",
      "\u001b[0;31mTypeError\u001b[0m                                 Traceback (most recent call last)",
      "Cell \u001b[0;32mIn[26], line 1\u001b[0m\n\u001b[0;32m----> 1\u001b[0m \u001b[38;5;28;43mstr\u001b[39;49m\u001b[43m[\u001b[49m\u001b[38;5;241;43m0\u001b[39;49m\u001b[43m]\u001b[49m\u001b[38;5;241m=\u001b[39m\u001b[38;5;124m\"\u001b[39m\u001b[38;5;124mk\u001b[39m\u001b[38;5;124m\"\u001b[39m    \u001b[38;5;66;03m##in string we can change the whole input but not the single characters.thus it is known as immutable.\u001b[39;00m\n",
      "\u001b[0;31mTypeError\u001b[0m: 'str' object does not support item assignment"
     ]
    }
   ],
   "source": [
    "str[0]=\"k\"    ##in string we can change the whole input but not the single characters.thus it is known as immutable."
   ]
  },
  {
   "cell_type": "code",
   "execution_count": 27,
   "id": "0c5045f5-0237-48e8-8724-08f945e9e384",
   "metadata": {},
   "outputs": [],
   "source": [
    "str=\"key\""
   ]
  },
  {
   "cell_type": "code",
   "execution_count": 28,
   "id": "68b2cacf-b9fc-493d-ae00-41a479fcfd89",
   "metadata": {},
   "outputs": [
    {
     "data": {
      "text/plain": [
       "'key'"
      ]
     },
     "execution_count": 28,
     "metadata": {},
     "output_type": "execute_result"
    }
   ],
   "source": [
    "str"
   ]
  },
  {
   "cell_type": "markdown",
   "id": "f86b6620-bb38-4caa-9f31-abb6ec0ef308",
   "metadata": {
    "tags": []
   },
   "source": [
    "## Comparison operation"
   ]
  },
  {
   "cell_type": "markdown",
   "id": "774b2f12-cc7e-48db-b43e-397ba821018b",
   "metadata": {},
   "source": [
    "|Operation|Meaning|\n",
    "|:-:|:-:|\n",
    "| **<** |less than|\n",
    "| **<=** |less than or equal to|\n",
    "| **>** |greater than|\n",
    "| **>=** |greater than or equal to|\n"
   ]
  },
  {
   "cell_type": "markdown",
   "id": "f0fc5d30-c11d-4ac5-9ae1-a6ce99fdf88c",
   "metadata": {},
   "source": [
    "### ARITHMETIC OPERATOR"
   ]
  },
  {
   "cell_type": "markdown",
   "id": "b97b23f0-11cc-40fe-86a1-f493940dfa04",
   "metadata": {},
   "source": [
    "|Operation|Meaning|\n",
    "|:-:|:-:|\n",
    "| **+** |addition|\n",
    "| **-** |subtraction|\n",
    "| **\\*** |multiplication|\n",
    "| **/** |true division|\n",
    "| **//** |integer division|\n",
    "| **%** |the modulo operator|"
   ]
  },
  {
   "cell_type": "markdown",
   "id": "a5ea3375-4ace-4de5-8272-7274c5b40d9a",
   "metadata": {},
   "source": [
    "|Name|Rollno|\n",
    "|:-:|:-:|\n",
    "|Soumili| **81** |\n",
    "|Subhra| **17** |"
   ]
  },
  {
   "cell_type": "markdown",
   "id": "60d4ec43-b3cc-4b38-844b-77ccd8a5cd6d",
   "metadata": {},
   "source": [
    "|Name|Rollno|\n",
    "|Soumili| **81** |\n",
    "|Subhra| **17** |"
   ]
  },
  {
   "cell_type": "code",
   "execution_count": 5,
   "id": "3de9f728-fc6e-452e-92fe-a91a0a4cd628",
   "metadata": {},
   "outputs": [],
   "source": [
    "a=26\n",
    "b=8"
   ]
  },
  {
   "cell_type": "code",
   "execution_count": 6,
   "id": "5c44c68e-17ec-4d5e-aec6-33c1de08a75e",
   "metadata": {},
   "outputs": [
    {
     "data": {
      "text/plain": [
       "3.25"
      ]
     },
     "execution_count": 6,
     "metadata": {},
     "output_type": "execute_result"
    }
   ],
   "source": [
    "a/b"
   ]
  },
  {
   "cell_type": "code",
   "execution_count": 7,
   "id": "8bd44727-16a7-4d8e-a583-dbede97e671e",
   "metadata": {},
   "outputs": [
    {
     "data": {
      "text/plain": [
       "3"
      ]
     },
     "execution_count": 7,
     "metadata": {},
     "output_type": "execute_result"
    }
   ],
   "source": [
    "a//b"
   ]
  },
  {
   "cell_type": "markdown",
   "id": "a378a736-409f-403c-b576-848e621a9fe4",
   "metadata": {},
   "source": [
    "### Bitwise Operators\n",
    "|Operation|Meaning|\n",
    "|:-:|:-:|\n",
    "| **∼** |bitwise complement (prefix unary operator)|\n",
    "| **&** |bitwise and|\n",
    "| **\\|** |bitwise or|\n",
    "| **^** |bitwise exclusive-or|\n",
    "| **<<** |shift bits left, filling in with zeros|\n",
    "| **>>** |shift bits right, filling in with sign bit|\n"
   ]
  },
  {
   "cell_type": "code",
   "execution_count": 7,
   "id": "99abcd0a-d89a-4b9c-96cf-a434b213f285",
   "metadata": {},
   "outputs": [
    {
     "data": {
      "text/plain": [
       "'0b1010'"
      ]
     },
     "execution_count": 7,
     "metadata": {},
     "output_type": "execute_result"
    }
   ],
   "source": [
    "v=10\n",
    "bin(v) #here the 0b is the python prefix for the representation of binary"
   ]
  },
  {
   "cell_type": "code",
   "execution_count": 11,
   "id": "e4407602-ab13-419b-b6fe-889ec385a8a4",
   "metadata": {},
   "outputs": [
    {
     "data": {
      "text/plain": [
       "-11"
      ]
     },
     "execution_count": 11,
     "metadata": {},
     "output_type": "execute_result"
    }
   ],
   "source": [
    "~v"
   ]
  },
  {
   "cell_type": "code",
   "execution_count": 9,
   "id": "5fbb357c-778a-41c6-b31a-c013209ad44c",
   "metadata": {},
   "outputs": [
    {
     "data": {
      "text/plain": [
       "'0b101'"
      ]
     },
     "execution_count": 9,
     "metadata": {},
     "output_type": "execute_result"
    }
   ],
   "source": [
    "v=v>>1 ##5\n",
    "bin(v)"
   ]
  },
  {
   "cell_type": "code",
   "execution_count": 6,
   "id": "fd94176f-276f-463b-96e8-b3967f11f934",
   "metadata": {},
   "outputs": [
    {
     "data": {
      "text/plain": [
       "'0b10100'"
      ]
     },
     "execution_count": 6,
     "metadata": {},
     "output_type": "execute_result"
    }
   ],
   "source": [
    "v=v<<1 ##20\n",
    "bin(v)"
   ]
  },
  {
   "cell_type": "markdown",
   "id": "f6e00d66-f118-4f93-989b-b1105e2083dd",
   "metadata": {
    "tags": []
   },
   "source": [
    "## Strings"
   ]
  },
  {
   "cell_type": "code",
   "execution_count": 14,
   "id": "44dcfe2d-e8ff-46cc-8655-0e2e165bc717",
   "metadata": {},
   "outputs": [],
   "source": [
    "str1='Welcome to data science masters'"
   ]
  },
  {
   "cell_type": "code",
   "execution_count": 15,
   "id": "821d0520-91f4-4b9e-89f2-e80327f5698d",
   "metadata": {},
   "outputs": [
    {
     "data": {
      "text/plain": [
       "str"
      ]
     },
     "execution_count": 15,
     "metadata": {},
     "output_type": "execute_result"
    }
   ],
   "source": [
    "type(str1)"
   ]
  },
  {
   "cell_type": "code",
   "execution_count": 16,
   "id": "6520f1fe-55a2-4bf6-9e4b-228eb52a03f1",
   "metadata": {},
   "outputs": [
    {
     "data": {
      "text/plain": [
       "'W'"
      ]
     },
     "execution_count": 16,
     "metadata": {},
     "output_type": "execute_result"
    }
   ],
   "source": [
    "str1[0]"
   ]
  },
  {
   "cell_type": "code",
   "execution_count": 18,
   "id": "e7d85d66-41ec-4977-a6bc-01a640e5f7e0",
   "metadata": {},
   "outputs": [
    {
     "ename": "TypeError",
     "evalue": "'str' object does not support item assignment",
     "output_type": "error",
     "traceback": [
      "\u001b[0;31m---------------------------------------------------------------------------\u001b[0m",
      "\u001b[0;31mTypeError\u001b[0m                                 Traceback (most recent call last)",
      "Cell \u001b[0;32mIn[18], line 1\u001b[0m\n\u001b[0;32m----> 1\u001b[0m \u001b[43mstr1\u001b[49m\u001b[43m[\u001b[49m\u001b[38;5;241;43m0\u001b[39;49m\u001b[43m]\u001b[49m\u001b[38;5;241m=\u001b[39m\u001b[38;5;241m12\u001b[39m \u001b[38;5;66;03m##string is immutable\u001b[39;00m\n",
      "\u001b[0;31mTypeError\u001b[0m: 'str' object does not support item assignment"
     ]
    }
   ],
   "source": [
    "str1[0]=12 ##string is immutable-not changeable"
   ]
  },
  {
   "cell_type": "code",
   "execution_count": 19,
   "id": "91083026-609e-40f3-a212-9cde35d40c26",
   "metadata": {},
   "outputs": [],
   "source": [
    "str1=\"Soumili\""
   ]
  },
  {
   "cell_type": "code",
   "execution_count": 21,
   "id": "696055d0-3fc5-4dd1-9c62-abf3cfe2cbbf",
   "metadata": {},
   "outputs": [
    {
     "data": {
      "text/plain": [
       "'Soumili'"
      ]
     },
     "execution_count": 21,
     "metadata": {},
     "output_type": "execute_result"
    }
   ],
   "source": [
    "str1 ##we can change the complete string but not the individuAl components"
   ]
  },
  {
   "cell_type": "code",
   "execution_count": 22,
   "id": "9a32eaf8-5e3b-4e48-a004-6a1cf102a317",
   "metadata": {},
   "outputs": [
    {
     "data": {
      "text/plain": [
       "<function str.capitalize()>"
      ]
     },
     "execution_count": 22,
     "metadata": {},
     "output_type": "execute_result"
    }
   ],
   "source": [
    "str1.capitalize"
   ]
  },
  {
   "cell_type": "code",
   "execution_count": 1,
   "id": "a46bc746-5e75-4f4a-9f0a-9eef9c2e7ead",
   "metadata": {},
   "outputs": [],
   "source": [
    "s=\"what a beautiful day\""
   ]
  },
  {
   "cell_type": "code",
   "execution_count": 24,
   "id": "dab343a0-216f-4a7d-a948-bac15ea2f0bb",
   "metadata": {},
   "outputs": [
    {
     "data": {
      "text/plain": [
       "'a'"
      ]
     },
     "execution_count": 24,
     "metadata": {},
     "output_type": "execute_result"
    }
   ],
   "source": [
    "s[5]"
   ]
  },
  {
   "cell_type": "code",
   "execution_count": 26,
   "id": "d2cdf480-af73-43eb-9e15-c6f2a829f2dc",
   "metadata": {},
   "outputs": [
    {
     "data": {
      "text/plain": [
       "'a beautiful day'"
      ]
     },
     "execution_count": 26,
     "metadata": {},
     "output_type": "execute_result"
    }
   ],
   "source": [
    "##slice operation\n",
    "s[5:]"
   ]
  },
  {
   "cell_type": "code",
   "execution_count": 27,
   "id": "c365fc1b-2318-44ad-b70a-91b7d8b686fe",
   "metadata": {},
   "outputs": [
    {
     "data": {
      "text/plain": [
       "'a beau'"
      ]
     },
     "execution_count": 27,
     "metadata": {},
     "output_type": "execute_result"
    }
   ],
   "source": [
    "##slice operation\n",
    "s[5:11]"
   ]
  },
  {
   "cell_type": "code",
   "execution_count": 29,
   "id": "4e6c9b96-2d36-4dde-8733-de1517ab7bf7",
   "metadata": {},
   "outputs": [
    {
     "data": {
      "text/plain": [
       "'y'"
      ]
     },
     "execution_count": 29,
     "metadata": {},
     "output_type": "execute_result"
    }
   ],
   "source": [
    "s[-1]"
   ]
  },
  {
   "cell_type": "code",
   "execution_count": 30,
   "id": "e4d9b8e1-9a5a-4355-9d8c-a8a84df4b847",
   "metadata": {},
   "outputs": [
    {
     "data": {
      "text/plain": [
       "'y'"
      ]
     },
     "execution_count": 30,
     "metadata": {},
     "output_type": "execute_result"
    }
   ],
   "source": [
    "s[-1:]"
   ]
  },
  {
   "cell_type": "code",
   "execution_count": 3,
   "id": "877ad5f5-8171-46b6-ae7e-cb70020e70b3",
   "metadata": {},
   "outputs": [
    {
     "data": {
      "text/plain": [
       "'day'"
      ]
     },
     "execution_count": 3,
     "metadata": {},
     "output_type": "execute_result"
    }
   ],
   "source": [
    "s[-3:]"
   ]
  },
  {
   "cell_type": "code",
   "execution_count": 4,
   "id": "987f2f65-7cd0-412d-977b-f7d5d5225844",
   "metadata": {},
   "outputs": [
    {
     "data": {
      "text/plain": [
       "'what a beautiful da'"
      ]
     },
     "execution_count": 4,
     "metadata": {},
     "output_type": "execute_result"
    }
   ],
   "source": [
    "s[:-1]"
   ]
  },
  {
   "cell_type": "code",
   "execution_count": 2,
   "id": "1f1cdac9-7e80-481c-a809-669d8712ed45",
   "metadata": {},
   "outputs": [
    {
     "data": {
      "text/plain": [
       "'what a beautiful day'"
      ]
     },
     "execution_count": 2,
     "metadata": {},
     "output_type": "execute_result"
    }
   ],
   "source": [
    "s[:]"
   ]
  },
  {
   "cell_type": "code",
   "execution_count": 3,
   "id": "b0502d5b-3655-43af-930d-ac65cda1b046",
   "metadata": {},
   "outputs": [
    {
     "data": {
      "text/plain": [
       "''"
      ]
     },
     "execution_count": 3,
     "metadata": {},
     "output_type": "execute_result"
    }
   ],
   "source": [
    "s[-5:4]"
   ]
  },
  {
   "cell_type": "code",
   "execution_count": 4,
   "id": "5eed8b35-c15f-4469-8533-6d45237b7097",
   "metadata": {},
   "outputs": [
    {
     "data": {
      "text/plain": [
       "'beaut'"
      ]
     },
     "execution_count": 4,
     "metadata": {},
     "output_type": "execute_result"
    }
   ],
   "source": [
    "s[-13:12]"
   ]
  },
  {
   "cell_type": "code",
   "execution_count": 2,
   "id": "4ba37353-83a2-4ae8-bc8a-cb6bd2c126f2",
   "metadata": {},
   "outputs": [
    {
     "data": {
      "text/plain": [
       "'yad lufituaeb a tahw'"
      ]
     },
     "execution_count": 2,
     "metadata": {},
     "output_type": "execute_result"
    }
   ],
   "source": [
    "s[::-1]"
   ]
  },
  {
   "cell_type": "code",
   "execution_count": 3,
   "id": "5792cb30-1fe6-411b-8edf-c65a84dd7c84",
   "metadata": {},
   "outputs": [
    {
     "data": {
      "text/plain": [
       "'ydlftabath'"
      ]
     },
     "execution_count": 3,
     "metadata": {},
     "output_type": "execute_result"
    }
   ],
   "source": [
    "s[::-2]"
   ]
  },
  {
   "cell_type": "code",
   "execution_count": 4,
   "id": "4936b8f9-697c-42d3-91c3-bdbc5dd707dd",
   "metadata": {},
   "outputs": [
    {
     "data": {
      "text/plain": [
       "'y fub h'"
      ]
     },
     "execution_count": 4,
     "metadata": {},
     "output_type": "execute_result"
    }
   ],
   "source": [
    "s[::-3]"
   ]
  },
  {
   "cell_type": "code",
   "execution_count": 5,
   "id": "8ec0436e-22b6-4356-98b8-7fecc4794a6d",
   "metadata": {},
   "outputs": [
    {
     "data": {
      "text/plain": [
       "'wa  euiu a'"
      ]
     },
     "execution_count": 5,
     "metadata": {},
     "output_type": "execute_result"
    }
   ],
   "source": [
    "s[::2]"
   ]
  },
  {
   "cell_type": "code",
   "execution_count": 1,
   "id": "fc08050b-811e-4fce-9697-e2737c8baa3c",
   "metadata": {},
   "outputs": [],
   "source": [
    "s=\"what a beautiful day\""
   ]
  },
  {
   "cell_type": "code",
   "execution_count": 6,
   "id": "8950cd09-1c59-4ca2-bcc6-2241e4663df3",
   "metadata": {},
   "outputs": [
    {
     "data": {
      "text/plain": [
       "'wt aila'"
      ]
     },
     "execution_count": 6,
     "metadata": {},
     "output_type": "execute_result"
    }
   ],
   "source": [
    "s[::3]"
   ]
  },
  {
   "cell_type": "code",
   "execution_count": 2,
   "id": "e7fc1c09-4308-4921-90a9-8d41aa2308ac",
   "metadata": {},
   "outputs": [
    {
     "data": {
      "text/plain": [
       "'wa  euiu a'"
      ]
     },
     "execution_count": 2,
     "metadata": {},
     "output_type": "execute_result"
    }
   ],
   "source": [
    "s[::2]"
   ]
  },
  {
   "cell_type": "code",
   "execution_count": 3,
   "id": "adc4ae7b-d916-4853-86f6-5b74d006a5df",
   "metadata": {},
   "outputs": [
    {
     "data": {
      "text/plain": [
       "'ydlftabath'"
      ]
     },
     "execution_count": 3,
     "metadata": {},
     "output_type": "execute_result"
    }
   ],
   "source": [
    "s[::-2]"
   ]
  },
  {
   "cell_type": "code",
   "execution_count": 4,
   "id": "bc82c3a4-d09e-41a6-beb4-e0c0a5b8b70e",
   "metadata": {},
   "outputs": [
    {
     "data": {
      "text/plain": [
       "'tahw'"
      ]
     },
     "execution_count": 4,
     "metadata": {},
     "output_type": "execute_result"
    }
   ],
   "source": [
    "s[3::-1]"
   ]
  },
  {
   "cell_type": "code",
   "execution_count": 5,
   "id": "23fcd4e6-7ac6-477f-807f-526b8372065d",
   "metadata": {},
   "outputs": [
    {
     "data": {
      "text/plain": [
       "'a '"
      ]
     },
     "execution_count": 5,
     "metadata": {},
     "output_type": "execute_result"
    }
   ],
   "source": [
    "s[5:3:-1]"
   ]
  },
  {
   "cell_type": "code",
   "execution_count": 2,
   "id": "ea0be9f8-4c5d-4685-a8c2-fe78ea5ae6a7",
   "metadata": {},
   "outputs": [],
   "source": [
    "course_name=\"Data Science Masters\""
   ]
  },
  {
   "cell_type": "code",
   "execution_count": 8,
   "id": "a13b776f-f875-4913-873d-31009b312baa",
   "metadata": {},
   "outputs": [
    {
     "data": {
      "text/plain": [
       "'Science'"
      ]
     },
     "execution_count": 8,
     "metadata": {},
     "output_type": "execute_result"
    }
   ],
   "source": [
    "course_name[5:12]"
   ]
  },
  {
   "cell_type": "code",
   "execution_count": 14,
   "id": "d15f6093-cfec-4e5b-8e4d-dc91cb0feb12",
   "metadata": {},
   "outputs": [
    {
     "data": {
      "text/plain": [
       "'ecneicS'"
      ]
     },
     "execution_count": 14,
     "metadata": {},
     "output_type": "execute_result"
    }
   ],
   "source": [
    "course_name[11:4:-1]"
   ]
  },
  {
   "cell_type": "code",
   "execution_count": 16,
   "id": "b0f482fd-d2f7-49e5-936c-8b18c2aef605",
   "metadata": {},
   "outputs": [
    {
     "data": {
      "text/plain": [
       "'Data Science Masters Course'"
      ]
     },
     "execution_count": 16,
     "metadata": {},
     "output_type": "execute_result"
    }
   ],
   "source": [
    "##concatenation\n",
    "course_name+\" Course\""
   ]
  },
  {
   "cell_type": "code",
   "execution_count": 17,
   "id": "b1591738-1b88-4063-af65-84292d33f9ad",
   "metadata": {},
   "outputs": [
    {
     "data": {
      "text/plain": [
       "'Data Science MastersData Science MastersData Science Masters'"
      ]
     },
     "execution_count": 17,
     "metadata": {},
     "output_type": "execute_result"
    }
   ],
   "source": [
    "course_name*3"
   ]
  },
  {
   "cell_type": "code",
   "execution_count": 18,
   "id": "fbb57870-3083-40d2-8076-48f61d198c72",
   "metadata": {},
   "outputs": [
    {
     "data": {
      "text/plain": [
       "20"
      ]
     },
     "execution_count": 18,
     "metadata": {},
     "output_type": "execute_result"
    }
   ],
   "source": [
    "len(course_name)"
   ]
  },
  {
   "cell_type": "code",
   "execution_count": 3,
   "id": "6b925ab8-dc74-4762-94a7-180c08fc32f7",
   "metadata": {},
   "outputs": [],
   "source": [
    "c=course_name"
   ]
  },
  {
   "cell_type": "code",
   "execution_count": 20,
   "id": "b7ddc877-3c30-46c7-bcac-23f2447335c8",
   "metadata": {},
   "outputs": [
    {
     "data": {
      "text/plain": [
       "9"
      ]
     },
     "execution_count": 20,
     "metadata": {},
     "output_type": "execute_result"
    }
   ],
   "source": [
    "c.find(\"n\")"
   ]
  },
  {
   "cell_type": "code",
   "execution_count": 21,
   "id": "081f1109-bd39-4079-bc14-aa5a738fbe98",
   "metadata": {},
   "outputs": [
    {
     "data": {
      "text/plain": [
       "1"
      ]
     },
     "execution_count": 21,
     "metadata": {},
     "output_type": "execute_result"
    }
   ],
   "source": [
    "c.find(\"a\")"
   ]
  },
  {
   "cell_type": "code",
   "execution_count": 22,
   "id": "3d28f0e9-fc6c-4ec7-a077-21fa8e77eead",
   "metadata": {},
   "outputs": [
    {
     "data": {
      "text/plain": [
       "3"
      ]
     },
     "execution_count": 22,
     "metadata": {},
     "output_type": "execute_result"
    }
   ],
   "source": [
    "c.find(\"a\",2,9)"
   ]
  },
  {
   "cell_type": "code",
   "execution_count": 23,
   "id": "ac1e733e-134b-41fe-b8c6-436242ead447",
   "metadata": {},
   "outputs": [
    {
     "data": {
      "text/plain": [
       "-1"
      ]
     },
     "execution_count": 23,
     "metadata": {},
     "output_type": "execute_result"
    }
   ],
   "source": [
    "c.find(\"z\")"
   ]
  },
  {
   "cell_type": "code",
   "execution_count": 24,
   "id": "32ce8e7a-5591-4804-aa1f-4a65fb9ee521",
   "metadata": {},
   "outputs": [
    {
     "data": {
      "text/plain": [
       "3"
      ]
     },
     "execution_count": 24,
     "metadata": {},
     "output_type": "execute_result"
    }
   ],
   "source": [
    "##count\n",
    "c.count(\"a\")"
   ]
  },
  {
   "cell_type": "code",
   "execution_count": 25,
   "id": "1a7beb81-0c5d-40c8-bd7e-46af3c7cb76b",
   "metadata": {},
   "outputs": [
    {
     "data": {
      "text/plain": [
       "2"
      ]
     },
     "execution_count": 25,
     "metadata": {},
     "output_type": "execute_result"
    }
   ],
   "source": [
    "c.count(\" \")"
   ]
  },
  {
   "cell_type": "code",
   "execution_count": 26,
   "id": "516a7ca8-09fd-44e8-a78f-25b0ba10ca7f",
   "metadata": {},
   "outputs": [
    {
     "data": {
      "text/plain": [
       "21"
      ]
     },
     "execution_count": 26,
     "metadata": {},
     "output_type": "execute_result"
    }
   ],
   "source": [
    "c.count(\"\")"
   ]
  },
  {
   "cell_type": "code",
   "execution_count": 29,
   "id": "cf9db027-5419-4978-bb5f-388ae6390402",
   "metadata": {},
   "outputs": [
    {
     "data": {
      "text/plain": [
       "['Data', 'Science', 'Masters']"
      ]
     },
     "execution_count": 29,
     "metadata": {},
     "output_type": "execute_result"
    }
   ],
   "source": [
    "#string split function\n",
    "c.split(\" \")"
   ]
  },
  {
   "cell_type": "code",
   "execution_count": 4,
   "id": "2ccfd8b9-0bd6-4bcb-86b6-e52cbc0ed465",
   "metadata": {},
   "outputs": [
    {
     "data": {
      "text/plain": [
       "['Data', 'Science', 'Masters']"
      ]
     },
     "execution_count": 4,
     "metadata": {},
     "output_type": "execute_result"
    }
   ],
   "source": [
    "c.split()"
   ]
  },
  {
   "cell_type": "code",
   "execution_count": 30,
   "id": "99800dba-9e81-4eb6-b8ea-1658a483a44d",
   "metadata": {},
   "outputs": [
    {
     "data": {
      "text/plain": [
       "['Data Science Ma', 'ter', '']"
      ]
     },
     "execution_count": 30,
     "metadata": {},
     "output_type": "execute_result"
    }
   ],
   "source": [
    "c.split(\"s\")"
   ]
  },
  {
   "cell_type": "code",
   "execution_count": 32,
   "id": "673adea8-a5be-40ba-a341-6fc6df3a9a8a",
   "metadata": {},
   "outputs": [
    {
     "data": {
      "text/plain": [
       "('Data Science Ma', 's', 'ters')"
      ]
     },
     "execution_count": 32,
     "metadata": {},
     "output_type": "execute_result"
    }
   ],
   "source": [
    "c.partition(\"s\")  ##only for one s"
   ]
  },
  {
   "cell_type": "code",
   "execution_count": 5,
   "id": "d017108d-8cfe-4d99-b397-a0f087e4e128",
   "metadata": {},
   "outputs": [
    {
     "data": {
      "text/plain": [
       "'DATA SCIENCE MASTERS'"
      ]
     },
     "execution_count": 5,
     "metadata": {},
     "output_type": "execute_result"
    }
   ],
   "source": [
    "## String upper and lower case\n",
    "c.upper()"
   ]
  },
  {
   "cell_type": "code",
   "execution_count": 6,
   "id": "98229548-10e0-4c4b-9dac-7f5e8dec58ce",
   "metadata": {},
   "outputs": [
    {
     "data": {
      "text/plain": [
       "'data science masters'"
      ]
     },
     "execution_count": 6,
     "metadata": {},
     "output_type": "execute_result"
    }
   ],
   "source": [
    "c.lower()"
   ]
  },
  {
   "cell_type": "code",
   "execution_count": 7,
   "id": "8022949b-0c2c-4f98-8b2a-2bb97e8452f2",
   "metadata": {},
   "outputs": [
    {
     "data": {
      "text/plain": [
       "'dATA sCIENCE mASTERS'"
      ]
     },
     "execution_count": 7,
     "metadata": {},
     "output_type": "execute_result"
    }
   ],
   "source": [
    "c.swapcase()"
   ]
  },
  {
   "cell_type": "code",
   "execution_count": 8,
   "id": "0983512b-fa3e-4c54-b2fa-b5de7667f133",
   "metadata": {},
   "outputs": [
    {
     "data": {
      "text/plain": [
       "'Data Science Masters'"
      ]
     },
     "execution_count": 8,
     "metadata": {},
     "output_type": "execute_result"
    }
   ],
   "source": [
    "c.title()"
   ]
  },
  {
   "cell_type": "code",
   "execution_count": 9,
   "id": "9bdf68af-5799-4b8b-bf6d-195ca74d36e2",
   "metadata": {},
   "outputs": [
    {
     "data": {
      "text/plain": [
       "'Data Science Masters'"
      ]
     },
     "execution_count": 9,
     "metadata": {},
     "output_type": "execute_result"
    }
   ],
   "source": [
    "c"
   ]
  },
  {
   "cell_type": "markdown",
   "id": "601baec0-f729-4b49-84aa-55eae2040ff5",
   "metadata": {},
   "source": [
    "## Lecture 4"
   ]
  },
  {
   "cell_type": "code",
   "execution_count": 4,
   "id": "b7ad9feb-c133-479a-b09c-de24f56b0f74",
   "metadata": {},
   "outputs": [
    {
     "data": {
      "text/plain": [
       "'Data science masters'"
      ]
     },
     "execution_count": 4,
     "metadata": {},
     "output_type": "execute_result"
    }
   ],
   "source": [
    "c.capitalize()"
   ]
  },
  {
   "cell_type": "code",
   "execution_count": 3,
   "id": "412adb64-8353-4946-b69a-07aafb76859d",
   "metadata": {},
   "outputs": [
    {
     "data": {
      "text/plain": [
       "<reversed at 0x7f18900d2a40>"
      ]
     },
     "execution_count": 3,
     "metadata": {},
     "output_type": "execute_result"
    }
   ],
   "source": [
    "reversed(c)"
   ]
  },
  {
   "cell_type": "code",
   "execution_count": 4,
   "id": "979b7472-8ea4-48a4-8f4f-21bd44cf079c",
   "metadata": {},
   "outputs": [
    {
     "data": {
      "text/plain": [
       "'s r e t s a M   e c n e i c S   a t a D'"
      ]
     },
     "execution_count": 4,
     "metadata": {},
     "output_type": "execute_result"
    }
   ],
   "source": [
    "' '.join(reversed(c))"
   ]
  },
  {
   "cell_type": "code",
   "execution_count": 6,
   "id": "42901264-2e5a-471d-b898-38c49e099cc3",
   "metadata": {},
   "outputs": [
    {
     "data": {
      "text/plain": [
       "'SsoumiliUsoumiliE'"
      ]
     },
     "execution_count": 6,
     "metadata": {},
     "output_type": "execute_result"
    }
   ],
   "source": [
    "'soumili'.join('SUE')"
   ]
  },
  {
   "cell_type": "code",
   "execution_count": 7,
   "id": "1975b3cd-ab5b-49b7-ad2e-b422f6001d68",
   "metadata": {},
   "outputs": [
    {
     "data": {
      "text/plain": [
       "'D a t a   S c i e n c e   M a s t e r s'"
      ]
     },
     "execution_count": 7,
     "metadata": {},
     "output_type": "execute_result"
    }
   ],
   "source": [
    "' '.join(c)"
   ]
  },
  {
   "cell_type": "code",
   "execution_count": 8,
   "id": "96032f46-35d7-4e70-83d3-0aa92993f198",
   "metadata": {},
   "outputs": [
    {
     "data": {
      "text/plain": [
       "'s r e t s a M   e c n e i c S   a t a D'"
      ]
     },
     "execution_count": 8,
     "metadata": {},
     "output_type": "execute_result"
    }
   ],
   "source": [
    "' '.join(reversed(c))"
   ]
  },
  {
   "cell_type": "code",
   "execution_count": 10,
   "id": "0ec329ff-e145-4a85-afb1-a30a37220deb",
   "metadata": {},
   "outputs": [
    {
     "data": {
      "text/plain": [
       "['s',\n",
       " 'r',\n",
       " 'e',\n",
       " 't',\n",
       " 's',\n",
       " 'a',\n",
       " 'M',\n",
       " ' ',\n",
       " 'e',\n",
       " 'c',\n",
       " 'n',\n",
       " 'e',\n",
       " 'i',\n",
       " 'c',\n",
       " 'S',\n",
       " ' ',\n",
       " 'a',\n",
       " 't',\n",
       " 'a',\n",
       " 'D']"
      ]
     },
     "execution_count": 10,
     "metadata": {},
     "output_type": "execute_result"
    }
   ],
   "source": [
    "list(reversed(c))"
   ]
  },
  {
   "cell_type": "code",
   "execution_count": 9,
   "id": "292ba8ab-013f-41f5-9b54-aa15cfe589d3",
   "metadata": {},
   "outputs": [
    {
     "name": "stdout",
     "output_type": "stream",
     "text": [
      "sretsaM ecneicS ataD"
     ]
    }
   ],
   "source": [
    "for i in list(reversed(c)):\n",
    "    print(i,end=\"\")"
   ]
  },
  {
   "cell_type": "code",
   "execution_count": 1,
   "id": "e7c5c177-604d-44bd-bfd1-8130f4452c1f",
   "metadata": {},
   "outputs": [],
   "source": [
    "## Removing character from the end of the string\n",
    "a=\" pw skills \""
   ]
  },
  {
   "cell_type": "code",
   "execution_count": 13,
   "id": "d449e3fc-1b42-43cb-9e22-eda22d068c08",
   "metadata": {},
   "outputs": [
    {
     "data": {
      "text/plain": [
       "'pw skills'"
      ]
     },
     "execution_count": 13,
     "metadata": {},
     "output_type": "execute_result"
    }
   ],
   "source": [
    "a.strip(\" \")"
   ]
  },
  {
   "cell_type": "code",
   "execution_count": 14,
   "id": "4bb9222b-fb9b-41f3-ae18-152090cb49d7",
   "metadata": {},
   "outputs": [
    {
     "data": {
      "text/plain": [
       "'pw skills '"
      ]
     },
     "execution_count": 14,
     "metadata": {},
     "output_type": "execute_result"
    }
   ],
   "source": [
    "a.lstrip(\" \")"
   ]
  },
  {
   "cell_type": "code",
   "execution_count": 15,
   "id": "0b58d980-e21c-45d1-8460-a1802fe36b8d",
   "metadata": {},
   "outputs": [
    {
     "data": {
      "text/plain": [
       "' pw skills'"
      ]
     },
     "execution_count": 15,
     "metadata": {},
     "output_type": "execute_result"
    }
   ],
   "source": [
    "a.rstrip(\" \")"
   ]
  },
  {
   "cell_type": "code",
   "execution_count": 2,
   "id": "183ac671-a497-46aa-977b-d32f04ca6388",
   "metadata": {},
   "outputs": [],
   "source": [
    "n=\"Greeting to PWSkills\""
   ]
  },
  {
   "cell_type": "code",
   "execution_count": 20,
   "id": "ce50592b-165f-452b-9210-753a6896ee8e",
   "metadata": {},
   "outputs": [
    {
     "data": {
      "text/plain": [
       "'Greeting from PWSkills'"
      ]
     },
     "execution_count": 20,
     "metadata": {},
     "output_type": "execute_result"
    }
   ],
   "source": [
    "n.replace(\"to\",\"from\")"
   ]
  },
  {
   "cell_type": "code",
   "execution_count": 21,
   "id": "0c048678-b8b3-4660-b4c7-fa3c1fca2188",
   "metadata": {},
   "outputs": [
    {
     "data": {
      "text/plain": [
       "'Greeting to PWSkills'"
      ]
     },
     "execution_count": 21,
     "metadata": {},
     "output_type": "execute_result"
    }
   ],
   "source": [
    "n"
   ]
  },
  {
   "cell_type": "code",
   "execution_count": 23,
   "id": "43ee7e38-e5f8-4d35-979d-05d6c8b9abd9",
   "metadata": {},
   "outputs": [
    {
     "name": "stdout",
     "output_type": "stream",
     "text": [
      "Greeting from PWSkills\n"
     ]
    }
   ],
   "source": [
    "n=n.replace(\"to\",\"from\")\n",
    "print(n)"
   ]
  },
  {
   "cell_type": "code",
   "execution_count": 3,
   "id": "82a2a727-3527-4d7c-8520-96487de0032a",
   "metadata": {},
   "outputs": [
    {
     "data": {
      "text/plain": [
       "'hello   world'"
      ]
     },
     "execution_count": 3,
     "metadata": {},
     "output_type": "execute_result"
    }
   ],
   "source": [
    "'hello\\tworld'.expandtabs()"
   ]
  },
  {
   "cell_type": "code",
   "execution_count": 1,
   "id": "540b30b3-876f-4ed9-9e3f-9fc4a3689e51",
   "metadata": {},
   "outputs": [],
   "source": [
    "s='Welcome to pwskills.Welcome to Dat cience Masters'"
   ]
  },
  {
   "cell_type": "code",
   "execution_count": 5,
   "id": "c6d7597f-8f88-4db9-9a40-26d87013d4dc",
   "metadata": {},
   "outputs": [],
   "source": [
    "s=(s.replace('Dat','Data')).replace('cience','Science')"
   ]
  },
  {
   "cell_type": "code",
   "execution_count": 6,
   "id": "da15ab7b-88bf-43b2-a86f-8e0fec187118",
   "metadata": {},
   "outputs": [
    {
     "data": {
      "text/plain": [
       "'Welcome to pwskills.Welcome to Data Science Masters'"
      ]
     },
     "execution_count": 6,
     "metadata": {},
     "output_type": "execute_result"
    }
   ],
   "source": [
    "s"
   ]
  },
  {
   "cell_type": "code",
   "execution_count": 7,
   "id": "948bb961-57de-415b-a4c0-ef22f5a3cba5",
   "metadata": {},
   "outputs": [
    {
     "data": {
      "text/plain": [
       "False"
      ]
     },
     "execution_count": 7,
     "metadata": {},
     "output_type": "execute_result"
    }
   ],
   "source": [
    "s.isupper()"
   ]
  },
  {
   "cell_type": "code",
   "execution_count": 8,
   "id": "a7831ca9-96c5-47f3-b50d-7789a9422171",
   "metadata": {},
   "outputs": [
    {
     "data": {
      "text/plain": [
       "False"
      ]
     },
     "execution_count": 8,
     "metadata": {},
     "output_type": "execute_result"
    }
   ],
   "source": [
    "s.islower()"
   ]
  },
  {
   "cell_type": "code",
   "execution_count": 9,
   "id": "f6c7e108-5e75-40d9-b54c-087532c6d51e",
   "metadata": {},
   "outputs": [
    {
     "data": {
      "text/plain": [
       "False"
      ]
     },
     "execution_count": 9,
     "metadata": {},
     "output_type": "execute_result"
    }
   ],
   "source": [
    "s.isspace()"
   ]
  },
  {
   "cell_type": "code",
   "execution_count": 10,
   "id": "ed868be4-4a1d-40da-816d-eb7bef0b2d57",
   "metadata": {},
   "outputs": [
    {
     "data": {
      "text/plain": [
       "False"
      ]
     },
     "execution_count": 10,
     "metadata": {},
     "output_type": "execute_result"
    }
   ],
   "source": [
    "\"\".isspace()"
   ]
  },
  {
   "cell_type": "code",
   "execution_count": 11,
   "id": "88642b51-c694-4e2d-8318-0b6daccca45a",
   "metadata": {},
   "outputs": [
    {
     "data": {
      "text/plain": [
       "True"
      ]
     },
     "execution_count": 11,
     "metadata": {},
     "output_type": "execute_result"
    }
   ],
   "source": [
    "\" \".isspace()"
   ]
  },
  {
   "cell_type": "code",
   "execution_count": 12,
   "id": "7411580b-6553-445a-800e-8a449b32e97f",
   "metadata": {},
   "outputs": [
    {
     "data": {
      "text/plain": [
       "True"
      ]
     },
     "execution_count": 12,
     "metadata": {},
     "output_type": "execute_result"
    }
   ],
   "source": [
    "s.endswith('s')"
   ]
  },
  {
   "cell_type": "code",
   "execution_count": 13,
   "id": "49adf1f5-e611-4120-9f4e-1ca676dea2f2",
   "metadata": {},
   "outputs": [
    {
     "data": {
      "text/plain": [
       "False"
      ]
     },
     "execution_count": 13,
     "metadata": {},
     "output_type": "execute_result"
    }
   ],
   "source": [
    "s.startswith('s')"
   ]
  },
  {
   "cell_type": "code",
   "execution_count": 1,
   "id": "6cd56cdb-314c-4b2d-b993-26d73beb9185",
   "metadata": {},
   "outputs": [
    {
     "data": {
      "text/plain": [
       "True"
      ]
     },
     "execution_count": 1,
     "metadata": {},
     "output_type": "execute_result"
    }
   ],
   "source": [
    "##check all the char in string are alpha numeric\n",
    "a=\"abcdef1234\"\n",
    "a.isalnum()"
   ]
  },
  {
   "cell_type": "code",
   "execution_count": 7,
   "id": "99379e75-d0a3-457d-9930-f1feab972a2c",
   "metadata": {},
   "outputs": [
    {
     "data": {
      "text/plain": [
       "10"
      ]
     },
     "execution_count": 7,
     "metadata": {},
     "output_type": "execute_result"
    }
   ],
   "source": [
    "## to count the no of character in a string\n",
    "len(a)"
   ]
  },
  {
   "cell_type": "code",
   "execution_count": 12,
   "id": "306b0789-feda-40f0-a66e-560d32237c2f",
   "metadata": {},
   "outputs": [
    {
     "name": "stdout",
     "output_type": "stream",
     "text": [
      "1\n",
      "2\n",
      "3\n",
      "4\n",
      "5\n",
      "6\n",
      "7\n",
      "8\n",
      "9\n",
      "10\n"
     ]
    }
   ],
   "source": [
    "c=0\n",
    "for i in a:\n",
    "    c=c+1\n",
    "    print(c)"
   ]
  },
  {
   "cell_type": "code",
   "execution_count": 13,
   "id": "8bc9fc02-2bf2-4698-8e75-362f28867a24",
   "metadata": {},
   "outputs": [
    {
     "name": "stdout",
     "output_type": "stream",
     "text": [
      "10\n"
     ]
    }
   ],
   "source": [
    "c=0\n",
    "for i in a:\n",
    "    c=c+1\n",
    "print(c)"
   ]
  },
  {
   "cell_type": "code",
   "execution_count": 14,
   "id": "0eb7c4fe-cf34-40cb-96dd-c0c8e9a55ddb",
   "metadata": {},
   "outputs": [
    {
     "name": "stdout",
     "output_type": "stream",
     "text": [
      "a\n",
      "b\n",
      "c\n",
      "d\n",
      "e\n",
      "f\n",
      "1\n",
      "2\n",
      "3\n",
      "4\n"
     ]
    }
   ],
   "source": [
    "for i in a:\n",
    "    print(i)"
   ]
  },
  {
   "cell_type": "code",
   "execution_count": 15,
   "id": "ce47d922-c473-4161-9fc2-ebb625c2bc7f",
   "metadata": {},
   "outputs": [
    {
     "data": {
      "text/plain": [
       "range(0, 10)"
      ]
     },
     "execution_count": 15,
     "metadata": {},
     "output_type": "execute_result"
    }
   ],
   "source": [
    "range(len(a))"
   ]
  },
  {
   "cell_type": "code",
   "execution_count": 17,
   "id": "cfd7a67c-4087-4ade-8ac0-06367543f586",
   "metadata": {},
   "outputs": [
    {
     "name": "stdout",
     "output_type": "stream",
     "text": [
      "a\n",
      "b\n",
      "c\n",
      "d\n",
      "e\n",
      "f\n",
      "1\n",
      "2\n",
      "3\n",
      "4\n"
     ]
    }
   ],
   "source": [
    "for i in range(len(a)):\n",
    "    print(a[i])"
   ]
  },
  {
   "cell_type": "code",
   "execution_count": 18,
   "id": "9832ffee-d05a-4127-b27c-4518990a72d6",
   "metadata": {},
   "outputs": [
    {
     "name": "stdout",
     "output_type": "stream",
     "text": [
      "0\n",
      "1\n",
      "2\n",
      "3\n",
      "4\n",
      "5\n",
      "6\n",
      "7\n",
      "8\n",
      "9\n"
     ]
    }
   ],
   "source": [
    "for i in range(len(a)):\n",
    "    print(i)"
   ]
  },
  {
   "cell_type": "code",
   "execution_count": 21,
   "id": "fbf993c5-4134-4f59-8cb5-71e761271d89",
   "metadata": {},
   "outputs": [
    {
     "name": "stdout",
     "output_type": "stream",
     "text": [
      "0 = a\n",
      "1 = b\n",
      "2 = c\n",
      "3 = d\n",
      "4 = e\n",
      "5 = f\n",
      "6 = 1\n",
      "7 = 2\n",
      "8 = 3\n",
      "9 = 4\n"
     ]
    }
   ],
   "source": [
    "for i in range(len(a)):\n",
    "    print(i,\"=\",a[i])"
   ]
  },
  {
   "cell_type": "code",
   "execution_count": 2,
   "id": "48992f0b-7e42-455c-bed1-9d5414508e9e",
   "metadata": {},
   "outputs": [],
   "source": [
    "b=\"abcd234\""
   ]
  },
  {
   "cell_type": "code",
   "execution_count": 3,
   "id": "c48d1576-39a5-469c-b9e2-c0d22240ec14",
   "metadata": {},
   "outputs": [],
   "source": [
    "## We can use index to iterate string in reverse direction \n",
    "a=\"abcdef12345\""
   ]
  },
  {
   "cell_type": "code",
   "execution_count": 4,
   "id": "947b562a-01fb-4b84-a56d-7a6bebf434bb",
   "metadata": {},
   "outputs": [
    {
     "name": "stdout",
     "output_type": "stream",
     "text": [
      "5\n",
      "4\n",
      "3\n",
      "2\n",
      "1\n",
      "f\n",
      "e\n",
      "d\n",
      "c\n",
      "b\n",
      "a\n"
     ]
    }
   ],
   "source": [
    "for i in range(len(a)-1,-1,-1):\n",
    "    print(a[i])"
   ]
  },
  {
   "cell_type": "code",
   "execution_count": 5,
   "id": "edf3256b-e31a-4177-bd57-f0986c2f47f2",
   "metadata": {},
   "outputs": [
    {
     "name": "stdout",
     "output_type": "stream",
     "text": [
      "5\n",
      "4\n",
      "3\n",
      "2\n",
      "1\n",
      "f\n",
      "e\n",
      "d\n",
      "c\n",
      "b\n",
      "a\n"
     ]
    }
   ],
   "source": [
    "c=len(a)-1\n",
    "while c>=0:\n",
    "    print(a[c])\n",
    "    c=c-1"
   ]
  },
  {
   "cell_type": "code",
   "execution_count": 6,
   "id": "615cd652-85ad-4863-885b-1865ff8c78b1",
   "metadata": {},
   "outputs": [
    {
     "name": "stdout",
     "output_type": "stream",
     "text": [
      "5\n",
      "4\n",
      "3\n",
      "2\n",
      "1\n",
      "f\n",
      "e\n",
      "d\n",
      "c\n",
      "b\n",
      "a\n"
     ]
    }
   ],
   "source": [
    "#Best Solution\n",
    "for i in range(len(a)):\n",
    "    print(a[len(a)-(i+1)])"
   ]
  },
  {
   "cell_type": "code",
   "execution_count": 7,
   "id": "dd323474-194f-4648-859e-98b9a9b03f17",
   "metadata": {},
   "outputs": [
    {
     "name": "stdout",
     "output_type": "stream",
     "text": [
      "54321fedcba"
     ]
    }
   ],
   "source": [
    "#Best Solution\n",
    "for i in range(len(a)):\n",
    "    print(a[len(a)-(i+1)],end=\"\")"
   ]
  },
  {
   "cell_type": "code",
   "execution_count": 9,
   "id": "0e769a83-789f-4830-87fb-469d6ee6e190",
   "metadata": {},
   "outputs": [],
   "source": [
    "name=\"pwskills\"\n",
    "vowels=\"AaEeIiOoUu\""
   ]
  },
  {
   "cell_type": "code",
   "execution_count": 11,
   "id": "18c20f39-d632-4f38-a1bd-5369ad69bba6",
   "metadata": {},
   "outputs": [
    {
     "name": "stdout",
     "output_type": "stream",
     "text": [
      "p is not a vowel\n",
      "w is not a vowel\n",
      "s is not a vowel\n",
      "k is not a vowel\n",
      "i is a vowel\n",
      "l is not a vowel\n",
      "l is not a vowel\n",
      "s is not a vowel\n"
     ]
    }
   ],
   "source": [
    "for i in name:\n",
    "    for j in vowels:\n",
    "        if(i==j):\n",
    "            print(i+\" is a vowel\")\n",
    "            break\n",
    "    if(i!=j):\n",
    "        print(i+\" is not a vowel\")"
   ]
  },
  {
   "cell_type": "code",
   "execution_count": 13,
   "id": "d5980cf9-b096-4d04-8319-189566cd2415",
   "metadata": {},
   "outputs": [
    {
     "name": "stdout",
     "output_type": "stream",
     "text": [
      "p is not a vowel\n",
      "w is not a vowel\n",
      "s is not a vowel\n",
      "k is not a vowel\n",
      "i is a vowel\n",
      "l is not a vowel\n",
      "l is not a vowel\n",
      "s is not a vowel\n"
     ]
    }
   ],
   "source": [
    "for i in name:\n",
    "    if i in vowels:\n",
    "        print(\"{} is a vowel\".format(i))\n",
    "    else:\n",
    "        print(\"{} is not a vowel\".format(i))"
   ]
  },
  {
   "cell_type": "code",
   "execution_count": 1,
   "id": "19203ec0-b409-46fe-b246-40d13f1956ab",
   "metadata": {},
   "outputs": [],
   "source": [
    "s=\"Hello\""
   ]
  },
  {
   "cell_type": "code",
   "execution_count": 2,
   "id": "e69cc76a-800a-4bfd-8941-dc1c40048747",
   "metadata": {},
   "outputs": [
    {
     "ename": "AttributeError",
     "evalue": "'str' object has no attribute 'reverse'",
     "output_type": "error",
     "traceback": [
      "\u001b[0;31m---------------------------------------------------------------------------\u001b[0m",
      "\u001b[0;31mAttributeError\u001b[0m                            Traceback (most recent call last)",
      "Cell \u001b[0;32mIn[2], line 1\u001b[0m\n\u001b[0;32m----> 1\u001b[0m \u001b[43ms\u001b[49m\u001b[38;5;241;43m.\u001b[39;49m\u001b[43mreverse\u001b[49m()\n",
      "\u001b[0;31mAttributeError\u001b[0m: 'str' object has no attribute 'reverse'"
     ]
    }
   ],
   "source": [
    "s.reverse()"
   ]
  }
 ],
 "metadata": {
  "kernelspec": {
   "display_name": "Python 3 (ipykernel)",
   "language": "python",
   "name": "python3"
  },
  "language_info": {
   "codemirror_mode": {
    "name": "ipython",
    "version": 3
   },
   "file_extension": ".py",
   "mimetype": "text/x-python",
   "name": "python",
   "nbconvert_exporter": "python",
   "pygments_lexer": "ipython3",
   "version": "3.10.8"
  }
 },
 "nbformat": 4,
 "nbformat_minor": 5
}
