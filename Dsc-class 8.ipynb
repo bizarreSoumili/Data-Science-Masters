{
 "cells": [
  {
   "cell_type": "markdown",
   "id": "e0d85d87-7d24-4904-bad7-3e727f70dffe",
   "metadata": {},
   "source": [
    "## OOPs- Object Oriented Programming"
   ]
  },
  {
   "cell_type": "code",
   "execution_count": 1,
   "id": "4f6b5269-7d22-4588-a921-e6c4089acef8",
   "metadata": {},
   "outputs": [],
   "source": [
    "a=1"
   ]
  },
  {
   "cell_type": "code",
   "execution_count": 2,
   "id": "18b86107-96cc-4277-ab5f-67e11d9d0520",
   "metadata": {},
   "outputs": [
    {
     "name": "stdout",
     "output_type": "stream",
     "text": [
      "<class 'int'>\n"
     ]
    }
   ],
   "source": [
    "print(type(a))"
   ]
  },
  {
   "cell_type": "code",
   "execution_count": 3,
   "id": "fe547c8a-1979-4ad0-990d-8a247c44b9d9",
   "metadata": {},
   "outputs": [
    {
     "name": "stdout",
     "output_type": "stream",
     "text": [
      "<class 'str'>\n"
     ]
    }
   ],
   "source": [
    "print(type(\"pwskills\"))"
   ]
  },
  {
   "cell_type": "code",
   "execution_count": 4,
   "id": "05d0ed6d-8c82-4b26-97ae-6945e7fbf74e",
   "metadata": {},
   "outputs": [],
   "source": [
    "class test:\n",
    "    pass"
   ]
  },
  {
   "cell_type": "code",
   "execution_count": 5,
   "id": "7a730dcd-0362-46cb-aaca-1ff0e83b47d3",
   "metadata": {},
   "outputs": [],
   "source": [
    "a=test()"
   ]
  },
  {
   "cell_type": "code",
   "execution_count": 6,
   "id": "966457d7-8c60-44be-ab5e-a8b25a31ae03",
   "metadata": {},
   "outputs": [
    {
     "name": "stdout",
     "output_type": "stream",
     "text": [
      "<class '__main__.test'>\n"
     ]
    }
   ],
   "source": [
    "print(type(a))"
   ]
  },
  {
   "cell_type": "code",
   "execution_count": 7,
   "id": "7c0ec691-186a-484a-841b-f43523aef89e",
   "metadata": {},
   "outputs": [],
   "source": [
    "class pwskills:\n",
    "    def wm():\n",
    "        print(\"Welcome to pwskills\")"
   ]
  },
  {
   "cell_type": "code",
   "execution_count": 8,
   "id": "7ff1e0fe-8b58-47c3-91d5-d5a5aaf25ee0",
   "metadata": {},
   "outputs": [
    {
     "ename": "TypeError",
     "evalue": "pwskills.wm() takes 0 positional arguments but 1 was given",
     "output_type": "error",
     "traceback": [
      "\u001b[0;31m---------------------------------------------------------------------------\u001b[0m",
      "\u001b[0;31mTypeError\u001b[0m                                 Traceback (most recent call last)",
      "Cell \u001b[0;32mIn[8], line 2\u001b[0m\n\u001b[1;32m      1\u001b[0m a\u001b[38;5;241m=\u001b[39mpwskills()\n\u001b[0;32m----> 2\u001b[0m \u001b[43ma\u001b[49m\u001b[38;5;241;43m.\u001b[39;49m\u001b[43mwm\u001b[49m\u001b[43m(\u001b[49m\u001b[43m)\u001b[49m\n",
      "\u001b[0;31mTypeError\u001b[0m: pwskills.wm() takes 0 positional arguments but 1 was given"
     ]
    }
   ],
   "source": [
    "a=pwskills()\n",
    "a.wm()"
   ]
  },
  {
   "cell_type": "code",
   "execution_count": 9,
   "id": "e344a571-134e-411d-872d-8dd3a66d524a",
   "metadata": {},
   "outputs": [],
   "source": [
    "# It is because class didnot bind the method"
   ]
  },
  {
   "cell_type": "code",
   "execution_count": 11,
   "id": "59d7c0df-8e4c-43d3-8df8-d46a23e77ecf",
   "metadata": {},
   "outputs": [],
   "source": [
    "class pwskills:\n",
    "    def wm(self):\n",
    "        print(\"Welcome to pwskills\")"
   ]
  },
  {
   "cell_type": "code",
   "execution_count": 12,
   "id": "3b938025-05c3-467b-97f8-c05baf052137",
   "metadata": {},
   "outputs": [
    {
     "name": "stdout",
     "output_type": "stream",
     "text": [
      "Welcome to pwskills\n"
     ]
    }
   ],
   "source": [
    "a=pwskills()\n",
    "a.wm()"
   ]
  },
  {
   "cell_type": "code",
   "execution_count": 22,
   "id": "c21d39d5-171d-44fc-85fc-c5f418334574",
   "metadata": {},
   "outputs": [],
   "source": [
    "class pwskills1:\n",
    "    def __init__(self, pno, stud_id, email_id):\n",
    "        self.pno=pno\n",
    "        self.stud_id=stud_id\n",
    "        self.email_id=email_id\n",
    "    def student_details(self):\n",
    "        return self.pno, self.stud_id, self.email_id"
   ]
  },
  {
   "cell_type": "code",
   "execution_count": 23,
   "id": "4ee1c5b3-7f48-4505-896a-6356d6fad1c9",
   "metadata": {},
   "outputs": [],
   "source": [
    "a=pwskills1(8927697259,101,\"soumilidas@gmail.com\")"
   ]
  },
  {
   "cell_type": "code",
   "execution_count": 16,
   "id": "a7bc1a3e-a7a5-49db-a270-c87c3db4848c",
   "metadata": {},
   "outputs": [],
   "source": [
    "a=pwskills1(8927697259,\"soumilidas@gmail.com\",101)"
   ]
  },
  {
   "cell_type": "code",
   "execution_count": 18,
   "id": "68c102c0-29b9-4c6b-8ecc-d834f9945989",
   "metadata": {},
   "outputs": [],
   "source": [
    "## As the data type is not mentioned, the position at which the data enters is important "
   ]
  },
  {
   "cell_type": "code",
   "execution_count": 17,
   "id": "4d59cf20-da80-4086-9d6c-64cdbc9f4aea",
   "metadata": {},
   "outputs": [
    {
     "data": {
      "text/plain": [
       "'soumilidas@gmail.com'"
      ]
     },
     "execution_count": 17,
     "metadata": {},
     "output_type": "execute_result"
    }
   ],
   "source": [
    "a.stud_id"
   ]
  },
  {
   "cell_type": "code",
   "execution_count": 24,
   "id": "f33b2473-bdfa-4cd1-bcc2-6007b1f58ef3",
   "metadata": {},
   "outputs": [
    {
     "data": {
      "text/plain": [
       "(8927697259, 101, 'soumilidas@gmail.com')"
      ]
     },
     "execution_count": 24,
     "metadata": {},
     "output_type": "execute_result"
    }
   ],
   "source": [
    "a.student_details()"
   ]
  },
  {
   "cell_type": "markdown",
   "id": "0357f483-8eab-47b4-af59-1a0451c7186d",
   "metadata": {},
   "source": [
    "###  Polymorphism"
   ]
  },
  {
   "cell_type": "code",
   "execution_count": 65,
   "id": "e81b4720-7d8a-45c5-aff4-fae442066c94",
   "metadata": {},
   "outputs": [],
   "source": [
    "class data_science:\n",
    "    def syllabus(self):\n",
    "        print(\"This is my method for data science syllabus\")"
   ]
  },
  {
   "cell_type": "code",
   "execution_count": 66,
   "id": "842dab93-c2d1-412a-b3e8-33ff60847c6b",
   "metadata": {},
   "outputs": [],
   "source": [
    "class web_dev:\n",
    "    def syllabus(self):\n",
    "        print(\"This is my method for web developement syllabus\")"
   ]
  },
  {
   "cell_type": "code",
   "execution_count": 67,
   "id": "f3c4b062-de90-46e4-9b1d-52952b9b2f65",
   "metadata": {},
   "outputs": [],
   "source": [
    "def class_parcer(class_obj):\n",
    "    for i in class_obj:\n",
    "        i.syllabus()"
   ]
  },
  {
   "cell_type": "code",
   "execution_count": 68,
   "id": "85f0f844-fd94-478e-b2f7-a424b3e14138",
   "metadata": {},
   "outputs": [],
   "source": [
    "obj=data_science()"
   ]
  },
  {
   "cell_type": "code",
   "execution_count": 69,
   "id": "9fd907f4-319a-48e0-a614-30077be7f9ee",
   "metadata": {},
   "outputs": [],
   "source": [
    "obj1=web_dev()"
   ]
  },
  {
   "cell_type": "code",
   "execution_count": 70,
   "id": "b7d281d6-e8c5-4984-ba73-d9a0e97a368d",
   "metadata": {},
   "outputs": [
    {
     "name": "stdout",
     "output_type": "stream",
     "text": [
      "This is my method for data science syllabus\n"
     ]
    }
   ],
   "source": [
    "obj.syllabus()"
   ]
  },
  {
   "cell_type": "code",
   "execution_count": 71,
   "id": "5ef20d9e-e8f5-4a0a-9120-28de99aceb48",
   "metadata": {},
   "outputs": [],
   "source": [
    "class_obj=[obj,obj1]"
   ]
  },
  {
   "cell_type": "code",
   "execution_count": 72,
   "id": "21ccf963-8bec-418f-b5dd-bd9add2506cf",
   "metadata": {},
   "outputs": [
    {
     "name": "stdout",
     "output_type": "stream",
     "text": [
      "This is my method for data science syllabus\n",
      "This is my method for web developement syllabus\n"
     ]
    }
   ],
   "source": [
    "class_parcer(class_obj)"
   ]
  },
  {
   "cell_type": "markdown",
   "id": "6d8e0a52-f076-495e-bc39-353ba8dd0b0a",
   "metadata": {},
   "source": [
    "### Encapsulation"
   ]
  },
  {
   "cell_type": "code",
   "execution_count": 75,
   "id": "49839b7e-3c06-49e4-8d4d-d0b31caa8272",
   "metadata": {},
   "outputs": [],
   "source": [
    "class test:\n",
    "    def __init__(self,a,b):\n",
    "        self.a=a\n",
    "        self.b=b"
   ]
  },
  {
   "cell_type": "code",
   "execution_count": 76,
   "id": "eaeadeab-3062-450d-8d6e-a132fe6f06c9",
   "metadata": {},
   "outputs": [],
   "source": [
    "t=test(10,20)"
   ]
  },
  {
   "cell_type": "code",
   "execution_count": 77,
   "id": "7907a3f4-2f51-4c26-b8c3-47b72f8e8363",
   "metadata": {},
   "outputs": [
    {
     "data": {
      "text/plain": [
       "10"
      ]
     },
     "execution_count": 77,
     "metadata": {},
     "output_type": "execute_result"
    }
   ],
   "source": [
    "t.a"
   ]
  },
  {
   "cell_type": "code",
   "execution_count": 78,
   "id": "b565b486-5ef5-448b-b333-54354f528bef",
   "metadata": {},
   "outputs": [],
   "source": [
    "t.a=20"
   ]
  },
  {
   "cell_type": "code",
   "execution_count": 79,
   "id": "c95c1805-c30b-424a-9f64-ea16341d350b",
   "metadata": {},
   "outputs": [
    {
     "data": {
      "text/plain": [
       "20"
      ]
     },
     "execution_count": 79,
     "metadata": {},
     "output_type": "execute_result"
    }
   ],
   "source": [
    "t.a"
   ]
  },
  {
   "cell_type": "code",
   "execution_count": 86,
   "id": "7c28831d-851d-4329-8e2b-d5773341d081",
   "metadata": {},
   "outputs": [],
   "source": [
    "## Encapsulation is used to prevent modification in my method from outside"
   ]
  },
  {
   "cell_type": "code",
   "execution_count": 93,
   "id": "93979797-71c3-4379-9d33-ccda45216992",
   "metadata": {},
   "outputs": [],
   "source": [
    "class car:\n",
    "    def __init__(self,year,model,make,speed):\n",
    "        self.__year=year\n",
    "        self.__model=model\n",
    "        self.__make=make\n",
    "        self.__speed=0\n",
    "    def set_speed(self,speed):\n",
    "        self.__speed=0 if speed<0 else speed"
   ]
  },
  {
   "cell_type": "code",
   "execution_count": 94,
   "id": "2040065f-5e6f-4ae2-95e4-7fa17ee2c376",
   "metadata": {},
   "outputs": [],
   "source": [
    "obj=car(2020,\"jaguar\",\"tata\",123)"
   ]
  },
  {
   "cell_type": "code",
   "execution_count": 84,
   "id": "1281207e-6df0-46f4-9ac4-385354ddc227",
   "metadata": {},
   "outputs": [
    {
     "ename": "AttributeError",
     "evalue": "'car' object has no attribute 'year'",
     "output_type": "error",
     "traceback": [
      "\u001b[0;31m---------------------------------------------------------------------------\u001b[0m",
      "\u001b[0;31mAttributeError\u001b[0m                            Traceback (most recent call last)",
      "Cell \u001b[0;32mIn[84], line 1\u001b[0m\n\u001b[0;32m----> 1\u001b[0m \u001b[43mobj\u001b[49m\u001b[38;5;241;43m.\u001b[39;49m\u001b[43myear\u001b[49m\n",
      "\u001b[0;31mAttributeError\u001b[0m: 'car' object has no attribute 'year'"
     ]
    }
   ],
   "source": [
    "obj.year"
   ]
  },
  {
   "cell_type": "code",
   "execution_count": 85,
   "id": "2d2a0859-9653-4031-814d-3c776b7da638",
   "metadata": {},
   "outputs": [],
   "source": [
    "## The above scenario is because the variables in the class is made private using \"__\" \n",
    "## therefore only the creator can see and access it:- obj._car__year\n"
   ]
  },
  {
   "cell_type": "code",
   "execution_count": 87,
   "id": "f1035c77-b267-42c4-bf6c-b6b00d6a04be",
   "metadata": {},
   "outputs": [
    {
     "data": {
      "text/plain": [
       "2020"
      ]
     },
     "execution_count": 87,
     "metadata": {},
     "output_type": "execute_result"
    }
   ],
   "source": [
    "obj._car__year"
   ]
  },
  {
   "cell_type": "code",
   "execution_count": 95,
   "id": "6bd2a896-6538-49f0-9ae0-9fc0347eacf5",
   "metadata": {},
   "outputs": [],
   "source": [
    "obj.set_speed(123)"
   ]
  },
  {
   "cell_type": "code",
   "execution_count": 96,
   "id": "6c3dd193-93fe-4a0e-b5a7-e02e2b1f8557",
   "metadata": {},
   "outputs": [
    {
     "data": {
      "text/plain": [
       "123"
      ]
     },
     "execution_count": 96,
     "metadata": {},
     "output_type": "execute_result"
    }
   ],
   "source": [
    "obj._car__speed"
   ]
  },
  {
   "cell_type": "code",
   "execution_count": 97,
   "id": "a96ff149-b72a-455b-b7fc-b27b8cebd3aa",
   "metadata": {},
   "outputs": [],
   "source": [
    "## But the user is unable to use this method for extraction of speed."
   ]
  },
  {
   "cell_type": "code",
   "execution_count": 98,
   "id": "85246e10-8981-4824-8f97-cf7c3e730857",
   "metadata": {},
   "outputs": [],
   "source": [
    "class car:\n",
    "    def __init__(self,year,model,make,speed):\n",
    "        self.__year=year\n",
    "        self.__model=model\n",
    "        self.__make=make\n",
    "        self.__speed=0\n",
    "    def set_speed(self,speed):\n",
    "        self.__speed=0 if speed<0 else speed\n",
    "    def get_speed(self):\n",
    "        return self.__speed"
   ]
  },
  {
   "cell_type": "code",
   "execution_count": 101,
   "id": "16939a14-3757-461e-99a6-7728fb6071f0",
   "metadata": {},
   "outputs": [],
   "source": [
    "obj=car(2022,\"toyoto\",\"tata\",0)"
   ]
  },
  {
   "cell_type": "code",
   "execution_count": 102,
   "id": "89f368e4-c51b-454c-9104-c04c1fc79db1",
   "metadata": {},
   "outputs": [],
   "source": [
    "obj.set_speed(123)"
   ]
  },
  {
   "cell_type": "code",
   "execution_count": 103,
   "id": "65cad386-a67b-4251-81a1-2c6faaf23a9f",
   "metadata": {},
   "outputs": [
    {
     "data": {
      "text/plain": [
       "123"
      ]
     },
     "execution_count": 103,
     "metadata": {},
     "output_type": "execute_result"
    }
   ],
   "source": [
    "obj.get_speed()"
   ]
  },
  {
   "cell_type": "markdown",
   "id": "c816b4d7-28bf-41a1-a5ae-d3afc99cdff5",
   "metadata": {},
   "source": [
    "### Inheritance"
   ]
  },
  {
   "cell_type": "code",
   "execution_count": 104,
   "id": "b85ae652-1b40-47d6-b0af-48fc3c6af761",
   "metadata": {},
   "outputs": [],
   "source": [
    "class parent:\n",
    "    \n",
    "    def test_parent(self) : \n",
    "        print(\"this is my parent class \")"
   ]
  },
  {
   "cell_type": "code",
   "execution_count": 105,
   "id": "7a836aa5-4227-43ff-b069-17edc5956681",
   "metadata": {},
   "outputs": [],
   "source": [
    "class child(parent):\n",
    "    pass"
   ]
  },
  {
   "cell_type": "code",
   "execution_count": 106,
   "id": "4c5ff5e6-66f4-47a2-9b8c-e5793da84ae3",
   "metadata": {},
   "outputs": [],
   "source": [
    "child_obj = child()"
   ]
  },
  {
   "cell_type": "code",
   "execution_count": 107,
   "id": "da3dd33c-2a39-4a94-929a-074d67bd8493",
   "metadata": {},
   "outputs": [
    {
     "name": "stdout",
     "output_type": "stream",
     "text": [
      "this is my parent class \n"
     ]
    }
   ],
   "source": [
    "child_obj.test_parent()"
   ]
  },
  {
   "cell_type": "markdown",
   "id": "9335f1d6-b023-41d7-b909-11e8a5e58513",
   "metadata": {},
   "source": [
    "#### Multi-level Inheritance"
   ]
  },
  {
   "cell_type": "code",
   "execution_count": 108,
   "id": "88a6c103-6275-4952-a873-c97e63434949",
   "metadata": {},
   "outputs": [],
   "source": [
    "class class1 :\n",
    "    def test_class1(self) : \n",
    "        print(\"this is my class1 \" )"
   ]
  },
  {
   "cell_type": "code",
   "execution_count": 109,
   "id": "ea344682-f046-4750-b0e8-f0775c6fcd2f",
   "metadata": {},
   "outputs": [],
   "source": [
    "class class2(class1) : \n",
    "    def test_class2(self) : \n",
    "        print(\"this is my class2\" )"
   ]
  },
  {
   "cell_type": "code",
   "execution_count": 110,
   "id": "bf2f8d3e-0c93-437e-a912-83cb60b182e1",
   "metadata": {},
   "outputs": [],
   "source": [
    "class class3(class2) : \n",
    "    def test_class3(self) : \n",
    "        print(\"this is my class3 \")"
   ]
  },
  {
   "cell_type": "code",
   "execution_count": 111,
   "id": "2ca7dfe2-e35f-4517-8199-bb9ad84a37ea",
   "metadata": {},
   "outputs": [],
   "source": [
    "obj_class3  = class3()"
   ]
  },
  {
   "cell_type": "code",
   "execution_count": 112,
   "id": "47471940-34c2-46de-8bc2-9e8dd74881ba",
   "metadata": {},
   "outputs": [
    {
     "name": "stdout",
     "output_type": "stream",
     "text": [
      "this is my class1 \n"
     ]
    }
   ],
   "source": [
    "obj_class3.test_class1()"
   ]
  },
  {
   "cell_type": "code",
   "execution_count": 113,
   "id": "45c57e2a-9502-4b13-a5b8-9005733ed318",
   "metadata": {},
   "outputs": [
    {
     "name": "stdout",
     "output_type": "stream",
     "text": [
      "this is my class2\n"
     ]
    }
   ],
   "source": [
    "obj_class3.test_class2()"
   ]
  },
  {
   "cell_type": "code",
   "execution_count": 114,
   "id": "b7af367b-0929-4703-b276-5d8d067a02d2",
   "metadata": {},
   "outputs": [
    {
     "name": "stdout",
     "output_type": "stream",
     "text": [
      "this is my class3 \n"
     ]
    }
   ],
   "source": [
    "obj_class3.test_class3()"
   ]
  },
  {
   "cell_type": "markdown",
   "id": "bb1564c9-bb61-4f81-bcf3-27ea2ca38bab",
   "metadata": {},
   "source": [
    "#### Multiple Inheritance"
   ]
  },
  {
   "cell_type": "code",
   "execution_count": 115,
   "id": "3840145f-2772-4684-8247-3df9d5ec11a6",
   "metadata": {},
   "outputs": [],
   "source": [
    "class class1:\n",
    "    def test_class1(self) : \n",
    "        print(\"this is my class 1\" )"
   ]
  },
  {
   "cell_type": "code",
   "execution_count": 116,
   "id": "bfffcd9e-8649-4f85-b100-92738a5b3d23",
   "metadata": {},
   "outputs": [],
   "source": [
    "class class2 :\n",
    "    def test_class2(self) : \n",
    "        print(\"this is my class 2\")"
   ]
  },
  {
   "cell_type": "code",
   "execution_count": 117,
   "id": "b1e65268-3849-434c-8497-8a7ab1e47b1d",
   "metadata": {},
   "outputs": [],
   "source": [
    "class class3 (class1 , class2) : \n",
    "    pass"
   ]
  },
  {
   "cell_type": "code",
   "execution_count": 118,
   "id": "43fc990e-d713-48d4-a036-c5b78cd55a56",
   "metadata": {},
   "outputs": [],
   "source": [
    "obj_class3 = class3()"
   ]
  },
  {
   "cell_type": "code",
   "execution_count": 119,
   "id": "bb65d39b-0114-4193-9c2f-b1c18264524a",
   "metadata": {},
   "outputs": [
    {
     "name": "stdout",
     "output_type": "stream",
     "text": [
      "this is my class 1\n"
     ]
    }
   ],
   "source": [
    "obj_class3.test_class1()"
   ]
  },
  {
   "cell_type": "code",
   "execution_count": 120,
   "id": "da7b1383-da21-4b9b-ad67-b7b912b19edf",
   "metadata": {},
   "outputs": [
    {
     "name": "stdout",
     "output_type": "stream",
     "text": [
      "this is my class 2\n"
     ]
    }
   ],
   "source": [
    "obj_class3.test_class2()"
   ]
  },
  {
   "cell_type": "markdown",
   "id": "001d2f9f-66fd-48bc-810a-062e4646883a",
   "metadata": {},
   "source": [
    "### Abstraction"
   ]
  },
  {
   "cell_type": "code",
   "execution_count": 121,
   "id": "088db419-0130-4bdf-a870-f68f9b405b93",
   "metadata": {},
   "outputs": [],
   "source": [
    "import abc\n",
    "\n",
    "class pwskills :\n",
    "    \n",
    "    @abc.abstractmethod\n",
    "    def student_details(self):\n",
    "        pass\n",
    "    \n",
    "    @abc.abstractmethod\n",
    "    def student_assignment(self):\n",
    "        pass\n",
    "    \n",
    "    \n",
    "    @abc.abstractmethod\n",
    "    def student_marks(self):\n",
    "        pass"
   ]
  },
  {
   "cell_type": "code",
   "execution_count": 122,
   "id": "2e6f9df1-55ee-4335-b605-0fed451cd7c8",
   "metadata": {},
   "outputs": [],
   "source": [
    "class data_science(pwskills):\n",
    "    \n",
    "    def student_details(self):\n",
    "        return \"it will try to return a details of data science masters \"\n",
    "    \n",
    "    def student_assignment(self):\n",
    "        return \"it will return a details of student assignemnt for data science masters \"\n",
    "    "
   ]
  },
  {
   "cell_type": "code",
   "execution_count": 123,
   "id": "c6e2e4cb-3224-43e6-ad1a-886f5480ea84",
   "metadata": {},
   "outputs": [],
   "source": [
    "class web_dev(pwskills):\n",
    "     def student_details(self):\n",
    "            return \"this will retrun a detils of web dev \"\n",
    "    \n",
    "    \n",
    "     def student_marks(self):\n",
    "             return \"this will return a makrs of web dev class\""
   ]
  },
  {
   "cell_type": "code",
   "execution_count": 124,
   "id": "fb255201-3ad3-46cd-8596-c4052f84da0a",
   "metadata": {},
   "outputs": [
    {
     "data": {
      "text/plain": [
       "'it will try to return a details of data science masters '"
      ]
     },
     "execution_count": 124,
     "metadata": {},
     "output_type": "execute_result"
    }
   ],
   "source": [
    "ds = data_science()\n",
    "ds.student_details()"
   ]
  },
  {
   "cell_type": "code",
   "execution_count": 125,
   "id": "33d8a552-be3f-4046-8803-f8a163da4b89",
   "metadata": {},
   "outputs": [
    {
     "data": {
      "text/plain": [
       "'this will retrun a detils of web dev '"
      ]
     },
     "execution_count": 125,
     "metadata": {},
     "output_type": "execute_result"
    }
   ],
   "source": [
    "wb = web_dev()\n",
    "wb.student_details()"
   ]
  }
 ],
 "metadata": {
  "kernelspec": {
   "display_name": "Python 3 (ipykernel)",
   "language": "python",
   "name": "python3"
  },
  "language_info": {
   "codemirror_mode": {
    "name": "ipython",
    "version": 3
   },
   "file_extension": ".py",
   "mimetype": "text/x-python",
   "name": "python",
   "nbconvert_exporter": "python",
   "pygments_lexer": "ipython3",
   "version": "3.10.8"
  }
 },
 "nbformat": 4,
 "nbformat_minor": 5
}
