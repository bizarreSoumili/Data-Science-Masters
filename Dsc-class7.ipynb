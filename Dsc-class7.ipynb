{
 "cells": [
  {
   "cell_type": "markdown",
   "id": "2cf4e1ed-a46f-401e-bde9-77aa549ebe3e",
   "metadata": {},
   "source": [
    "## Lambda Function"
   ]
  },
  {
   "cell_type": "code",
   "execution_count": 2,
   "id": "10a5c967-130e-42f4-8686-d7107fdc7055",
   "metadata": {},
   "outputs": [
    {
     "data": {
      "text/plain": [
       "8"
      ]
     },
     "execution_count": 2,
     "metadata": {},
     "output_type": "execute_result"
    }
   ],
   "source": [
    "n=2\n",
    "p=3\n",
    "def test(n,p):\n",
    "    return n**p;\n",
    "test(n,p)                  \n",
    "## This can also be done through lambda function"
   ]
  },
  {
   "cell_type": "code",
   "execution_count": 3,
   "id": "3a8d4c02-e6d6-4fc6-a25c-40439086d5a6",
   "metadata": {},
   "outputs": [
    {
     "data": {
      "text/plain": [
       "<function __main__.<lambda>(n, p)>"
      ]
     },
     "execution_count": 3,
     "metadata": {},
     "output_type": "execute_result"
    }
   ],
   "source": [
    "lambda n,p:n**p"
   ]
  },
  {
   "cell_type": "code",
   "execution_count": 4,
   "id": "47b7214c-9ff9-46b3-b126-db15845ba26b",
   "metadata": {},
   "outputs": [],
   "source": [
    "a=lambda n,p:n**p"
   ]
  },
  {
   "cell_type": "code",
   "execution_count": 5,
   "id": "d2155df2-fceb-4de8-955f-6a0eeee1abb0",
   "metadata": {},
   "outputs": [],
   "source": [
    "## Lamda function is an anonymous function which we are trying to call it through hop"
   ]
  },
  {
   "cell_type": "code",
   "execution_count": 6,
   "id": "9f9bfa24-e087-4a4e-b058-801e03e0216c",
   "metadata": {},
   "outputs": [
    {
     "data": {
      "text/plain": [
       "81"
      ]
     },
     "execution_count": 6,
     "metadata": {},
     "output_type": "execute_result"
    }
   ],
   "source": [
    "a(3,4)"
   ]
  },
  {
   "cell_type": "code",
   "execution_count": 7,
   "id": "5efd8515-b82e-4246-9b02-430b024ac3bb",
   "metadata": {},
   "outputs": [],
   "source": [
    "c_f=lambda c:(9/5)*c+32"
   ]
  },
  {
   "cell_type": "code",
   "execution_count": 8,
   "id": "1a4b43d4-4f5c-4250-ac23-7e8d7f82e262",
   "metadata": {},
   "outputs": [
    {
     "data": {
      "text/plain": [
       "-13.0"
      ]
     },
     "execution_count": 8,
     "metadata": {},
     "output_type": "execute_result"
    }
   ],
   "source": [
    "c_f(-25)"
   ]
  },
  {
   "cell_type": "code",
   "execution_count": 9,
   "id": "5a80ef9c-55e2-4951-b311-a4cedccd6fa9",
   "metadata": {},
   "outputs": [],
   "source": [
    "max_two= lambda x,y: x if x>y else y"
   ]
  },
  {
   "cell_type": "code",
   "execution_count": 10,
   "id": "824a43e3-eb6c-4011-aa3c-2e2a7d12e726",
   "metadata": {},
   "outputs": [
    {
     "data": {
      "text/plain": [
       "6"
      ]
     },
     "execution_count": 10,
     "metadata": {},
     "output_type": "execute_result"
    }
   ],
   "source": [
    "max_two(4,6)"
   ]
  },
  {
   "cell_type": "markdown",
   "id": "967b487c-2c0b-44c2-9cb2-0aa1bc9d4a7b",
   "metadata": {},
   "source": [
    "## Map Function"
   ]
  },
  {
   "cell_type": "code",
   "execution_count": 11,
   "id": "780c776c-054e-4954-8c6a-30459f6a1512",
   "metadata": {},
   "outputs": [],
   "source": [
    "l=[1,2,3,4]"
   ]
  },
  {
   "cell_type": "code",
   "execution_count": 12,
   "id": "9a6fca6d-3930-4226-a27e-0efe99dbb557",
   "metadata": {},
   "outputs": [],
   "source": [
    "def test(l):\n",
    "    l1=[]\n",
    "    for i in l:\n",
    "        l1.append(i**2)\n",
    "    return l1"
   ]
  },
  {
   "cell_type": "code",
   "execution_count": 13,
   "id": "418a8a8a-42a2-4f0b-8701-23f3e414c68b",
   "metadata": {},
   "outputs": [
    {
     "data": {
      "text/plain": [
       "[1, 4, 9, 16]"
      ]
     },
     "execution_count": 13,
     "metadata": {},
     "output_type": "execute_result"
    }
   ],
   "source": [
    "test(l)"
   ]
  },
  {
   "cell_type": "code",
   "execution_count": 14,
   "id": "50faf74c-f108-41f4-a730-7e4a101cc65e",
   "metadata": {},
   "outputs": [],
   "source": [
    "## But this can be done in a single line"
   ]
  },
  {
   "cell_type": "code",
   "execution_count": 15,
   "id": "18a4c11e-c4fd-44c3-84c5-b2683ce00d27",
   "metadata": {},
   "outputs": [],
   "source": [
    "def sq(l):\n",
    "    return l**2"
   ]
  },
  {
   "cell_type": "code",
   "execution_count": 16,
   "id": "d9ae5f74-484f-465a-8fc0-c80069ad4c31",
   "metadata": {},
   "outputs": [
    {
     "data": {
      "text/plain": [
       "<map at 0x7fa7a813a050>"
      ]
     },
     "execution_count": 16,
     "metadata": {},
     "output_type": "execute_result"
    }
   ],
   "source": [
    "map(sq,l)"
   ]
  },
  {
   "cell_type": "code",
   "execution_count": 17,
   "id": "1bff409c-0dd9-464d-adb6-d20d193c08e6",
   "metadata": {},
   "outputs": [
    {
     "data": {
      "text/plain": [
       "[1, 4, 9, 16]"
      ]
     },
     "execution_count": 17,
     "metadata": {},
     "output_type": "execute_result"
    }
   ],
   "source": [
    "list(map(sq,l))"
   ]
  },
  {
   "cell_type": "code",
   "execution_count": 18,
   "id": "3b14745e-1f70-4686-aa98-5f8a6a4443d3",
   "metadata": {},
   "outputs": [
    {
     "data": {
      "text/plain": [
       "[1, 4, 9, 16]"
      ]
     },
     "execution_count": 18,
     "metadata": {},
     "output_type": "execute_result"
    }
   ],
   "source": [
    "list(map(lambda x:x**2,l))"
   ]
  },
  {
   "cell_type": "code",
   "execution_count": 20,
   "id": "a5ee4c13-1ba1-467e-8832-71d9e0278163",
   "metadata": {},
   "outputs": [
    {
     "data": {
      "text/plain": [
       "['1', '2', '3', '4']"
      ]
     },
     "execution_count": 20,
     "metadata": {},
     "output_type": "execute_result"
    }
   ],
   "source": [
    "list(map(lambda x:str(x),l))"
   ]
  },
  {
   "cell_type": "code",
   "execution_count": 21,
   "id": "23f07ad7-d3ec-4a31-bc67-1a88377010f8",
   "metadata": {},
   "outputs": [],
   "source": [
    "l1=[1,2,3,44,55,98]\n",
    "l2=[7,3,2,63,64,24]"
   ]
  },
  {
   "cell_type": "code",
   "execution_count": 22,
   "id": "e26cd4ad-3580-491b-a1dc-0b518fa55e69",
   "metadata": {},
   "outputs": [
    {
     "data": {
      "text/plain": [
       "[8, 5, 5, 107, 119, 122]"
      ]
     },
     "execution_count": 22,
     "metadata": {},
     "output_type": "execute_result"
    }
   ],
   "source": [
    "list(map(lambda x,y:x+y,l1,l2))"
   ]
  },
  {
   "cell_type": "code",
   "execution_count": 26,
   "id": "4e78a643-cd77-4750-853c-01baa6386b5f",
   "metadata": {},
   "outputs": [
    {
     "data": {
      "text/plain": [
       "{5, 8, 107, 119, 122}"
      ]
     },
     "execution_count": 26,
     "metadata": {},
     "output_type": "execute_result"
    }
   ],
   "source": [
    "set(map(lambda x,y:x+y,l1,l2))"
   ]
  },
  {
   "cell_type": "markdown",
   "id": "3dfc409c-2a1b-43d5-82fa-8cf050f4b8c0",
   "metadata": {},
   "source": [
    "## Reduce Function"
   ]
  },
  {
   "cell_type": "code",
   "execution_count": 27,
   "id": "63c569a4-5f8d-4048-ade3-91be0361b643",
   "metadata": {},
   "outputs": [],
   "source": [
    "from functools import reduce"
   ]
  },
  {
   "cell_type": "code",
   "execution_count": 28,
   "id": "819bc119-94c0-43cb-be6b-88a10abea035",
   "metadata": {},
   "outputs": [
    {
     "data": {
      "text/plain": [
       "10"
      ]
     },
     "execution_count": 28,
     "metadata": {},
     "output_type": "execute_result"
    }
   ],
   "source": [
    "reduce(lambda x,y:x+y,l)"
   ]
  },
  {
   "cell_type": "code",
   "execution_count": 30,
   "id": "041af822-127a-4db5-8713-bf50e6da6ca9",
   "metadata": {},
   "outputs": [],
   "source": [
    "## reduce reduces all the components of a iterable into one"
   ]
  },
  {
   "cell_type": "code",
   "execution_count": 31,
   "id": "deeae73f-50c2-47d7-a79d-0bd86a45bfe9",
   "metadata": {},
   "outputs": [],
   "source": [
    "## If the list entered is empty then it will be an error"
   ]
  },
  {
   "cell_type": "code",
   "execution_count": 32,
   "id": "7a6ba6b8-a507-48ae-8d1b-9bd97a7fa705",
   "metadata": {},
   "outputs": [],
   "source": [
    "## An execption is that it can work with one element"
   ]
  },
  {
   "cell_type": "code",
   "execution_count": 33,
   "id": "6158fd62-d10d-4511-88ac-d76fbcffb06d",
   "metadata": {},
   "outputs": [
    {
     "data": {
      "text/plain": [
       "1"
      ]
     },
     "execution_count": 33,
     "metadata": {},
     "output_type": "execute_result"
    }
   ],
   "source": [
    "reduce(lambda x,y:x+y,[1])"
   ]
  },
  {
   "cell_type": "markdown",
   "id": "687e04d0-a513-4ce7-a8c0-aa2ea42a36af",
   "metadata": {},
   "source": [
    "## Filter"
   ]
  },
  {
   "cell_type": "code",
   "execution_count": 34,
   "id": "7a71cd15-7dcf-45fa-9529-cd4a6de6c7bd",
   "metadata": {},
   "outputs": [
    {
     "data": {
      "text/plain": [
       "<filter at 0x7fa7a810c9a0>"
      ]
     },
     "execution_count": 34,
     "metadata": {},
     "output_type": "execute_result"
    }
   ],
   "source": [
    "filter(lambda x:x%2==0,l)"
   ]
  },
  {
   "cell_type": "code",
   "execution_count": 35,
   "id": "d53e3a88-5165-4f3a-8f38-49db103fb764",
   "metadata": {},
   "outputs": [],
   "source": [
    "## As filter returns an object,we can type cast it"
   ]
  },
  {
   "cell_type": "code",
   "execution_count": 36,
   "id": "41d44ade-175c-4c74-bc4c-1270ab3f30a3",
   "metadata": {},
   "outputs": [
    {
     "data": {
      "text/plain": [
       "[2, 4]"
      ]
     },
     "execution_count": 36,
     "metadata": {},
     "output_type": "execute_result"
    }
   ],
   "source": [
    "list(filter(lambda x:x%2==0,l))"
   ]
  },
  {
   "cell_type": "code",
   "execution_count": 37,
   "id": "7c8c5e39-ddb7-4bc7-a017-634cb5fae7df",
   "metadata": {},
   "outputs": [
    {
     "ename": "TypeError",
     "evalue": "<lambda>() takes 1 positional argument but 2 were given",
     "output_type": "error",
     "traceback": [
      "\u001b[0;31m---------------------------------------------------------------------------\u001b[0m",
      "\u001b[0;31mTypeError\u001b[0m                                 Traceback (most recent call last)",
      "Cell \u001b[0;32mIn[37], line 1\u001b[0m\n\u001b[0;32m----> 1\u001b[0m \u001b[38;5;28mlist\u001b[39m(\u001b[43mreduce\u001b[49m\u001b[43m(\u001b[49m\u001b[38;5;28;43;01mlambda\u001b[39;49;00m\u001b[43m \u001b[49m\u001b[43mx\u001b[49m\u001b[43m:\u001b[49m\u001b[43mx\u001b[49m\u001b[38;5;241;43m%\u001b[39;49m\u001b[38;5;241;43m2\u001b[39;49m\u001b[38;5;241;43m==\u001b[39;49m\u001b[38;5;241;43m0\u001b[39;49m\u001b[43m,\u001b[49m\u001b[43ml\u001b[49m\u001b[43m)\u001b[49m)\n",
      "\u001b[0;31mTypeError\u001b[0m: <lambda>() takes 1 positional argument but 2 were given"
     ]
    }
   ],
   "source": [
    "list(reduce(lambda x:x%2==0,l))"
   ]
  },
  {
   "cell_type": "code",
   "execution_count": null,
   "id": "12cd2dc0-b501-4e50-9db8-64a8979f0f76",
   "metadata": {},
   "outputs": [],
   "source": []
  }
 ],
 "metadata": {
  "kernelspec": {
   "display_name": "Python 3 (ipykernel)",
   "language": "python",
   "name": "python3"
  },
  "language_info": {
   "codemirror_mode": {
    "name": "ipython",
    "version": 3
   },
   "file_extension": ".py",
   "mimetype": "text/x-python",
   "name": "python",
   "nbconvert_exporter": "python",
   "pygments_lexer": "ipython3",
   "version": "3.10.8"
  }
 },
 "nbformat": 4,
 "nbformat_minor": 5
}
