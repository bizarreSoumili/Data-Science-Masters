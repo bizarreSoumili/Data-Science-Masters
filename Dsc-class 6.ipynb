{
 "cells": [
  {
   "cell_type": "code",
   "execution_count": 2,
   "id": "abf899b7-d757-44f5-a5c1-95d109a5546c",
   "metadata": {},
   "outputs": [],
   "source": [
    "def test():\n",
    "    pass"
   ]
  },
  {
   "cell_type": "code",
   "execution_count": 3,
   "id": "7f31e471-1398-4a23-9644-bf75e61c04ae",
   "metadata": {},
   "outputs": [],
   "source": [
    "def test1():\n",
    "    print(\"My first function\")"
   ]
  },
  {
   "cell_type": "code",
   "execution_count": 4,
   "id": "4d00ee5c-1047-41aa-8c99-539f1b7b2378",
   "metadata": {},
   "outputs": [
    {
     "name": "stdout",
     "output_type": "stream",
     "text": [
      "My first function\n"
     ]
    }
   ],
   "source": [
    "test1()"
   ]
  },
  {
   "cell_type": "code",
   "execution_count": 5,
   "id": "cf32cf76-bcc9-4ce6-baaa-ea6591c2565f",
   "metadata": {},
   "outputs": [
    {
     "name": "stdout",
     "output_type": "stream",
     "text": [
      "My first function\n"
     ]
    },
    {
     "ename": "TypeError",
     "evalue": "unsupported operand type(s) for +: 'NoneType' and 'str'",
     "output_type": "error",
     "traceback": [
      "\u001b[0;31m---------------------------------------------------------------------------\u001b[0m",
      "\u001b[0;31mTypeError\u001b[0m                                 Traceback (most recent call last)",
      "Cell \u001b[0;32mIn[5], line 1\u001b[0m\n\u001b[0;32m----> 1\u001b[0m \u001b[43mtest1\u001b[49m\u001b[43m(\u001b[49m\u001b[43m)\u001b[49m\u001b[43m \u001b[49m\u001b[38;5;241;43m+\u001b[39;49m\u001b[43m \u001b[49m\u001b[38;5;124;43m\"\u001b[39;49m\u001b[38;5;124;43mSudh\u001b[39;49m\u001b[38;5;124;43m\"\u001b[39;49m\n",
      "\u001b[0;31mTypeError\u001b[0m: unsupported operand type(s) for +: 'NoneType' and 'str'"
     ]
    }
   ],
   "source": [
    "test1() + \"Sudh\""
   ]
  },
  {
   "cell_type": "code",
   "execution_count": 6,
   "id": "96f00119-0961-479f-86c5-b79368a20816",
   "metadata": {},
   "outputs": [],
   "source": [
    "## print returns a none type"
   ]
  },
  {
   "cell_type": "code",
   "execution_count": 7,
   "id": "0f0b8a7a-5aec-4f6a-8811-a4ebeb5da5cb",
   "metadata": {},
   "outputs": [],
   "source": [
    "def test2():\n",
    "    return \"func with return type\""
   ]
  },
  {
   "cell_type": "code",
   "execution_count": 8,
   "id": "da038970-b525-4f80-9d12-9ab276efb403",
   "metadata": {},
   "outputs": [
    {
     "data": {
      "text/plain": [
       "'func with return typesudh'"
      ]
     },
     "execution_count": 8,
     "metadata": {},
     "output_type": "execute_result"
    }
   ],
   "source": [
    "test2() + \"sudh\""
   ]
  },
  {
   "cell_type": "code",
   "execution_count": 9,
   "id": "83b7561e-bb72-4a07-b3c8-fe0be11e55ae",
   "metadata": {},
   "outputs": [],
   "source": [
    "def test2():\n",
    "    return 5"
   ]
  },
  {
   "cell_type": "code",
   "execution_count": 10,
   "id": "0e04e5a3-4843-4eeb-88f7-7af55f5c3e4f",
   "metadata": {},
   "outputs": [
    {
     "ename": "TypeError",
     "evalue": "unsupported operand type(s) for +: 'int' and 'str'",
     "output_type": "error",
     "traceback": [
      "\u001b[0;31m---------------------------------------------------------------------------\u001b[0m",
      "\u001b[0;31mTypeError\u001b[0m                                 Traceback (most recent call last)",
      "Cell \u001b[0;32mIn[10], line 1\u001b[0m\n\u001b[0;32m----> 1\u001b[0m \u001b[43mtest2\u001b[49m\u001b[43m(\u001b[49m\u001b[43m)\u001b[49m\u001b[43m \u001b[49m\u001b[38;5;241;43m+\u001b[39;49m\u001b[43m \u001b[49m\u001b[38;5;124;43m\"\u001b[39;49m\u001b[38;5;124;43msudh\u001b[39;49m\u001b[38;5;124;43m\"\u001b[39;49m\n",
      "\u001b[0;31mTypeError\u001b[0m: unsupported operand type(s) for +: 'int' and 'str'"
     ]
    }
   ],
   "source": [
    "test2() + \"sudh\""
   ]
  },
  {
   "cell_type": "code",
   "execution_count": 11,
   "id": "82173c75-f329-4c49-afbd-c7b26ce5ae89",
   "metadata": {},
   "outputs": [],
   "source": [
    "def test3():\n",
    "    return 1,4,5.6,\"sudh\""
   ]
  },
  {
   "cell_type": "code",
   "execution_count": 12,
   "id": "05549746-34a2-451c-84e5-281fefa6f091",
   "metadata": {},
   "outputs": [
    {
     "data": {
      "text/plain": [
       "(1, 4, 5.6, 'sudh')"
      ]
     },
     "execution_count": 12,
     "metadata": {},
     "output_type": "execute_result"
    }
   ],
   "source": [
    "test3()"
   ]
  },
  {
   "cell_type": "code",
   "execution_count": 13,
   "id": "252fa120-e1f6-4948-a751-ce24d209584a",
   "metadata": {},
   "outputs": [
    {
     "data": {
      "text/plain": [
       "4"
      ]
     },
     "execution_count": 13,
     "metadata": {},
     "output_type": "execute_result"
    }
   ],
   "source": [
    "test3()[1]                          ##the return type is a tuple therefore we can extract it as such"
   ]
  },
  {
   "cell_type": "code",
   "execution_count": 14,
   "id": "18cbe9ff-3bd1-41a9-991e-0ca8fd9f5e8b",
   "metadata": {},
   "outputs": [],
   "source": [
    "a,b,c,d=test3()"
   ]
  },
  {
   "cell_type": "code",
   "execution_count": 15,
   "id": "3a3da760-1891-4bc3-b67b-bb570bfb3324",
   "metadata": {},
   "outputs": [
    {
     "data": {
      "text/plain": [
       "1"
      ]
     },
     "execution_count": 15,
     "metadata": {},
     "output_type": "execute_result"
    }
   ],
   "source": [
    "a"
   ]
  },
  {
   "cell_type": "code",
   "execution_count": 16,
   "id": "6d720763-d9a5-433e-908f-6c0895ce1ec2",
   "metadata": {},
   "outputs": [
    {
     "data": {
      "text/plain": [
       "'sudh'"
      ]
     },
     "execution_count": 16,
     "metadata": {},
     "output_type": "execute_result"
    }
   ],
   "source": [
    "d"
   ]
  },
  {
   "cell_type": "code",
   "execution_count": 1,
   "id": "8782209a-93d4-4b7c-82ce-ebcfa46f47cd",
   "metadata": {},
   "outputs": [],
   "source": [
    "def test4():\n",
    "    a=6+3\n",
    "    return a"
   ]
  },
  {
   "cell_type": "code",
   "execution_count": 3,
   "id": "d946e365-d52e-4c78-8949-317e046c9153",
   "metadata": {},
   "outputs": [
    {
     "data": {
      "text/plain": [
       "int"
      ]
     },
     "execution_count": 3,
     "metadata": {},
     "output_type": "execute_result"
    }
   ],
   "source": [
    "type(test4())"
   ]
  },
  {
   "cell_type": "code",
   "execution_count": 4,
   "id": "abd07cca-f304-4d57-acbb-79f3b501e689",
   "metadata": {},
   "outputs": [
    {
     "data": {
      "text/plain": [
       "function"
      ]
     },
     "execution_count": 4,
     "metadata": {},
     "output_type": "execute_result"
    }
   ],
   "source": [
    "type(test4)"
   ]
  },
  {
   "cell_type": "code",
   "execution_count": 5,
   "id": "9fce6089-cb4e-48df-9548-cf309bfe33e8",
   "metadata": {},
   "outputs": [],
   "source": [
    "def test5(a,b):\n",
    "    c=a+b\n",
    "    return c"
   ]
  },
  {
   "cell_type": "code",
   "execution_count": 6,
   "id": "cc7c0590-815d-4b0b-bdfc-88ac7bbc2805",
   "metadata": {},
   "outputs": [
    {
     "ename": "TypeError",
     "evalue": "test5() missing 2 required positional arguments: 'a' and 'b'",
     "output_type": "error",
     "traceback": [
      "\u001b[0;31m---------------------------------------------------------------------------\u001b[0m",
      "\u001b[0;31mTypeError\u001b[0m                                 Traceback (most recent call last)",
      "Cell \u001b[0;32mIn[6], line 1\u001b[0m\n\u001b[0;32m----> 1\u001b[0m \u001b[38;5;28mtype\u001b[39m(\u001b[43mtest5\u001b[49m\u001b[43m(\u001b[49m\u001b[43m)\u001b[49m)\n",
      "\u001b[0;31mTypeError\u001b[0m: test5() missing 2 required positional arguments: 'a' and 'b'"
     ]
    }
   ],
   "source": [
    "type(test5())"
   ]
  },
  {
   "cell_type": "code",
   "execution_count": 7,
   "id": "89aae28e-f60e-4fa6-982d-0c5b5a975e1b",
   "metadata": {},
   "outputs": [
    {
     "data": {
      "text/plain": [
       "int"
      ]
     },
     "execution_count": 7,
     "metadata": {},
     "output_type": "execute_result"
    }
   ],
   "source": [
    "type(test5(5,7))"
   ]
  },
  {
   "cell_type": "code",
   "execution_count": 8,
   "id": "c4a5423c-9259-4863-9ff5-11a57806995e",
   "metadata": {},
   "outputs": [
    {
     "data": {
      "text/plain": [
       "[1, 2, 3, 4, 's', 'd', 3]"
      ]
     },
     "execution_count": 8,
     "metadata": {},
     "output_type": "execute_result"
    }
   ],
   "source": [
    "test5([1,2,3,4],['s','d',3])"
   ]
  },
  {
   "cell_type": "code",
   "execution_count": 10,
   "id": "b9ccbc91-4a96-4cf4-b20c-de22b5035ec9",
   "metadata": {},
   "outputs": [
    {
     "data": {
      "text/plain": [
       "'kumariswatiifgj'"
      ]
     },
     "execution_count": 10,
     "metadata": {},
     "output_type": "execute_result"
    }
   ],
   "source": [
    "test5(\"kumari\"+\"swati\",\"ifgj\")"
   ]
  },
  {
   "cell_type": "code",
   "execution_count": 11,
   "id": "85c9cfd6-387f-4e68-ab28-0cb1c4b9ea8f",
   "metadata": {},
   "outputs": [
    {
     "data": {
      "text/plain": [
       "'ifgjkumariswati'"
      ]
     },
     "execution_count": 11,
     "metadata": {},
     "output_type": "execute_result"
    }
   ],
   "source": [
    "test5(b=\"kumari\"+\"swati\",a=\"ifgj\")"
   ]
  },
  {
   "cell_type": "code",
   "execution_count": 24,
   "id": "90f38082-eaf9-4ea6-88ab-d59f945c1770",
   "metadata": {},
   "outputs": [],
   "source": [
    "l=[1,2,3,4,5,\"sudh\",\"gkjhv\",[1,2,3,\"shah\",4,5,7,8,9]]"
   ]
  },
  {
   "cell_type": "code",
   "execution_count": 13,
   "id": "a6afe11a-9479-4dbc-a97a-9ddbc155118c",
   "metadata": {},
   "outputs": [],
   "source": [
    "# create a function with a list as data type and print a list with only the numeric value"
   ]
  },
  {
   "cell_type": "code",
   "execution_count": 21,
   "id": "33a76b8d-9898-4664-bbfc-f52ebdabfeb6",
   "metadata": {},
   "outputs": [],
   "source": [
    "d=[]\n",
    "def test6(l):\n",
    "    global d\n",
    "    for i in l:\n",
    "        if type(i)==int:\n",
    "            d.append(i)\n",
    "    print(d)"
   ]
  },
  {
   "cell_type": "code",
   "execution_count": 22,
   "id": "259db28d-16ca-424f-b94c-6d850da38e0c",
   "metadata": {},
   "outputs": [
    {
     "name": "stdout",
     "output_type": "stream",
     "text": [
      "[1, 2, 3, 4, 5]\n"
     ]
    }
   ],
   "source": [
    "test6(l)"
   ]
  },
  {
   "cell_type": "code",
   "execution_count": 25,
   "id": "fa8f7a8e-bf02-40f6-aaba-28ebcea5e93e",
   "metadata": {},
   "outputs": [],
   "source": [
    "d=[]\n",
    "def test7(l):\n",
    "    for i in l:\n",
    "        if type(i)==list:\n",
    "            for j in i:\n",
    "                if type(j)==int:\n",
    "                    d.append(j)\n",
    "    return d"
   ]
  },
  {
   "cell_type": "code",
   "execution_count": 26,
   "id": "63a96dbd-b76e-4301-b71d-1e07ea876f3b",
   "metadata": {},
   "outputs": [
    {
     "data": {
      "text/plain": [
       "[1, 2, 3, 4, 5, 7, 8, 9]"
      ]
     },
     "execution_count": 26,
     "metadata": {},
     "output_type": "execute_result"
    }
   ],
   "source": [
    "test7(l)"
   ]
  },
  {
   "cell_type": "code",
   "execution_count": 27,
   "id": "46cd913b-ff6a-4d8b-84bf-92d2033f3090",
   "metadata": {},
   "outputs": [],
   "source": [
    "def test8(a,b,c):\n",
    "    pass"
   ]
  },
  {
   "cell_type": "code",
   "execution_count": 28,
   "id": "69c7b415-340e-462c-ad5e-9e40699e97f8",
   "metadata": {},
   "outputs": [
    {
     "ename": "TypeError",
     "evalue": "test8() takes 3 positional arguments but 5 were given",
     "output_type": "error",
     "traceback": [
      "\u001b[0;31m---------------------------------------------------------------------------\u001b[0m",
      "\u001b[0;31mTypeError\u001b[0m                                 Traceback (most recent call last)",
      "Cell \u001b[0;32mIn[28], line 1\u001b[0m\n\u001b[0;32m----> 1\u001b[0m \u001b[43mtest8\u001b[49m\u001b[43m(\u001b[49m\u001b[38;5;241;43m3\u001b[39;49m\u001b[43m,\u001b[49m\u001b[38;5;241;43m4\u001b[39;49m\u001b[43m,\u001b[49m\u001b[38;5;241;43m5\u001b[39;49m\u001b[43m,\u001b[49m\u001b[38;5;241;43m65\u001b[39;49m\u001b[43m,\u001b[49m\u001b[38;5;241;43m5\u001b[39;49m\u001b[43m)\u001b[49m\n",
      "\u001b[0;31mTypeError\u001b[0m: test8() takes 3 positional arguments but 5 were given"
     ]
    }
   ],
   "source": [
    "test8(3,4,5,65,5)"
   ]
  },
  {
   "cell_type": "code",
   "execution_count": 36,
   "id": "8c84b6fb-0553-42cd-be69-8e1a50f880bc",
   "metadata": {},
   "outputs": [],
   "source": [
    "def test9(*args):\n",
    "    return args"
   ]
  },
  {
   "cell_type": "code",
   "execution_count": 31,
   "id": "b82c6183-ff22-4202-8115-7680fef557e7",
   "metadata": {},
   "outputs": [
    {
     "data": {
      "text/plain": [
       "(1, 4, 6, 'sdff', 'asdaf', [1, 2, 34, 4])"
      ]
     },
     "execution_count": 31,
     "metadata": {},
     "output_type": "execute_result"
    }
   ],
   "source": [
    "test9(1,4,6,\"sdff\",\"asdaf\",[1,2,34,4])"
   ]
  },
  {
   "cell_type": "code",
   "execution_count": 32,
   "id": "0832ab40-9966-4834-9046-8b325f8c7a88",
   "metadata": {},
   "outputs": [],
   "source": [
    "def test(*sudh):\n",
    "    return sudh"
   ]
  },
  {
   "cell_type": "code",
   "execution_count": 33,
   "id": "a71d7aad-1201-4d70-85f6-1df847ef48e1",
   "metadata": {},
   "outputs": [
    {
     "data": {
      "text/plain": [
       "(61235, 2726, 76, 766)"
      ]
     },
     "execution_count": 33,
     "metadata": {},
     "output_type": "execute_result"
    }
   ],
   "source": [
    "test(61235,2726,76,766)"
   ]
  },
  {
   "cell_type": "code",
   "execution_count": 34,
   "id": "9a182fff-fa47-4fe6-9533-8fe0bcc74b14",
   "metadata": {},
   "outputs": [],
   "source": [
    "## * matters not the args"
   ]
  },
  {
   "cell_type": "code",
   "execution_count": 37,
   "id": "9fde3e0b-3a7f-436c-97b7-7e32e35f349e",
   "metadata": {},
   "outputs": [],
   "source": [
    "def test10(*args,a):\n",
    "    return args,a"
   ]
  },
  {
   "cell_type": "code",
   "execution_count": 39,
   "id": "9e6cb0a1-8329-4949-a9f4-a0076aa80d77",
   "metadata": {},
   "outputs": [
    {
     "ename": "TypeError",
     "evalue": "test10() missing 1 required keyword-only argument: 'a'",
     "output_type": "error",
     "traceback": [
      "\u001b[0;31m---------------------------------------------------------------------------\u001b[0m",
      "\u001b[0;31mTypeError\u001b[0m                                 Traceback (most recent call last)",
      "Cell \u001b[0;32mIn[39], line 1\u001b[0m\n\u001b[0;32m----> 1\u001b[0m \u001b[43mtest10\u001b[49m\u001b[43m(\u001b[49m\u001b[38;5;241;43m1\u001b[39;49m\u001b[43m,\u001b[49m\u001b[38;5;241;43m2\u001b[39;49m\u001b[43m,\u001b[49m\u001b[38;5;241;43m31\u001b[39;49m\u001b[43m,\u001b[49m\u001b[38;5;241;43m3\u001b[39;49m\u001b[43m,\u001b[49m\u001b[38;5;241;43m44\u001b[39;49m\u001b[43m,\u001b[49m\u001b[38;5;241;43m445\u001b[39;49m\u001b[43m)\u001b[49m\n",
      "\u001b[0;31mTypeError\u001b[0m: test10() missing 1 required keyword-only argument: 'a'"
     ]
    }
   ],
   "source": [
    "test10(1,2,31,3,44,445)"
   ]
  },
  {
   "cell_type": "code",
   "execution_count": 40,
   "id": "7e8ae9fe-2e05-41f9-9242-2aa33be900cd",
   "metadata": {},
   "outputs": [
    {
     "data": {
      "text/plain": [
       "((1, 2, 31, 3, 44, 445), 233)"
      ]
     },
     "execution_count": 40,
     "metadata": {},
     "output_type": "execute_result"
    }
   ],
   "source": [
    "test10(1,2,31,3,44,445,a=233)"
   ]
  },
  {
   "cell_type": "code",
   "execution_count": 2,
   "id": "19b01cb0-3f08-4de6-a780-23c22c2fb8ec",
   "metadata": {},
   "outputs": [],
   "source": [
    "def test11(*args):\n",
    "    d=[]\n",
    "    for i in args:\n",
    "        if type(i)==list:\n",
    "            d.append(i)\n",
    "    return d"
   ]
  },
  {
   "cell_type": "code",
   "execution_count": 2,
   "id": "d64c1e28-9e46-4be6-85e3-ff316b22cff4",
   "metadata": {},
   "outputs": [
    {
     "data": {
      "text/plain": [
       "[[2, 46, 53, 74, 64]]"
      ]
     },
     "execution_count": 2,
     "metadata": {},
     "output_type": "execute_result"
    }
   ],
   "source": [
    "test11([2,46,53,74,64],\"fgfdd\",2,73.4,9743,\"gfds\")"
   ]
  },
  {
   "cell_type": "code",
   "execution_count": 3,
   "id": "90e52eef-0f46-4c73-a95e-ec5867baef3a",
   "metadata": {},
   "outputs": [
    {
     "data": {
      "text/plain": [
       "[[2, 46, 53, 74, 64], [6, 7, 1], [7, 95, 85]]"
      ]
     },
     "execution_count": 3,
     "metadata": {},
     "output_type": "execute_result"
    }
   ],
   "source": [
    "test11([2,46,53,74,64],\"fgfdd\",2,73.4,9743,\"gfds\",[6,7,1],[7,95,85])"
   ]
  },
  {
   "cell_type": "code",
   "execution_count": 4,
   "id": "d483af98-55dd-4ec2-83d8-f15f0614d716",
   "metadata": {},
   "outputs": [],
   "source": [
    "def test12(**args):\n",
    "    return args"
   ]
  },
  {
   "cell_type": "code",
   "execution_count": 6,
   "id": "dd3de266-7509-42da-9f28-303a57ea5b7b",
   "metadata": {},
   "outputs": [
    {
     "data": {
      "text/plain": [
       "{'a': 'bsadjcb', 'b': 'dsnasj', 'c': 23, 'd': 244}"
      ]
     },
     "execution_count": 6,
     "metadata": {},
     "output_type": "execute_result"
    }
   ],
   "source": [
    "test12(a=\"bsadjcb\",b=\"dsnasj\",c=23,d=244)"
   ]
  },
  {
   "cell_type": "code",
   "execution_count": 9,
   "id": "55533504-463d-4236-914f-dfd9b138279f",
   "metadata": {},
   "outputs": [],
   "source": [
    "def test13(**args):\n",
    "    for i in args.keys():\n",
    "        if type(args[i])==list:\n",
    "                       return i,args[i]"
   ]
  },
  {
   "cell_type": "code",
   "execution_count": 10,
   "id": "2fc4e340-3ff9-4411-be0d-a83b3ae72937",
   "metadata": {},
   "outputs": [
    {
     "data": {
      "text/plain": [
       "('e', [1, 2, 3, 44, 554])"
      ]
     },
     "execution_count": 10,
     "metadata": {},
     "output_type": "execute_result"
    }
   ],
   "source": [
    "test13(a=\"bsadjcb\",b=\"dsnasj\",c=23,d=244,e=[1,2,3,44,554])"
   ]
  },
  {
   "cell_type": "code",
   "execution_count": 11,
   "id": "70bbe498-1ccc-48ad-b07b-537fde46148d",
   "metadata": {},
   "outputs": [],
   "source": [
    "def test14(*args,**kwargs):\n",
    "    return args,kwargs"
   ]
  },
  {
   "cell_type": "code",
   "execution_count": 13,
   "id": "a71dae11-dccf-4c94-9cb1-cdf5f560ed25",
   "metadata": {},
   "outputs": [
    {
     "data": {
      "text/plain": [
       "((1, 3, 45, 53), {'a': 23, 'b': 7446, 'c': 832})"
      ]
     },
     "execution_count": 13,
     "metadata": {},
     "output_type": "execute_result"
    }
   ],
   "source": [
    "test14(1,3,45,53,a=23,b=7446,c=832)"
   ]
  },
  {
   "cell_type": "code",
   "execution_count": 15,
   "id": "4792bf45-fabd-4051-91c6-4ad7567583e3",
   "metadata": {},
   "outputs": [],
   "source": [
    "## Genarator Function\n",
    "#here it doesnot wait for the arguments list to end to generate a mass function\n",
    "#but rather generates outcome after each entered argument \n",
    "##this is better as it does not block the memory"
   ]
  },
  {
   "cell_type": "markdown",
   "id": "c007a313-f64e-46e9-83c9-aef95eba9180",
   "metadata": {},
   "source": [
    "## Yield Function"
   ]
  },
  {
   "cell_type": "code",
   "execution_count": 22,
   "id": "d25bd650-0903-41d6-9acb-0baad69cd50f",
   "metadata": {},
   "outputs": [],
   "source": [
    "def test_fib(n):\n",
    "    a,b=0,1\n",
    "    for i in range(n):\n",
    "        yield a\n",
    "        b,a=a+b,b"
   ]
  },
  {
   "cell_type": "code",
   "execution_count": 18,
   "id": "6ff494e6-81f0-44cd-b5cc-0d41732d837a",
   "metadata": {},
   "outputs": [
    {
     "data": {
      "text/plain": [
       "<generator object test_fib at 0x7f5530335000>"
      ]
     },
     "execution_count": 18,
     "metadata": {},
     "output_type": "execute_result"
    }
   ],
   "source": [
    "test_fib(10)"
   ]
  },
  {
   "cell_type": "code",
   "execution_count": 23,
   "id": "5532f6ad-1b82-4971-9e38-dc9bbd9cfbe9",
   "metadata": {},
   "outputs": [
    {
     "name": "stdout",
     "output_type": "stream",
     "text": [
      "0\n",
      "1\n",
      "1\n",
      "2\n",
      "3\n",
      "5\n",
      "8\n",
      "13\n",
      "21\n",
      "34\n"
     ]
    }
   ],
   "source": [
    "for i in test_fib(10):\n",
    "    print(i)"
   ]
  }
 ],
 "metadata": {
  "kernelspec": {
   "display_name": "Python 3 (ipykernel)",
   "language": "python",
   "name": "python3"
  },
  "language_info": {
   "codemirror_mode": {
    "name": "ipython",
    "version": 3
   },
   "file_extension": ".py",
   "mimetype": "text/x-python",
   "name": "python",
   "nbconvert_exporter": "python",
   "pygments_lexer": "ipython3",
   "version": "3.10.8"
  }
 },
 "nbformat": 4,
 "nbformat_minor": 5
}
